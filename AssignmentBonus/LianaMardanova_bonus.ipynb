{
  "cells": [
    {
      "cell_type": "markdown",
      "metadata": {
        "id": "gJxtl2HJ8sr3"
      },
      "source": [
        "# [S24] Introduction to Machine Learning: Bonus assignment\n",
        "**Student name:** <font color='red'>Liana Mardanova</font>\n",
        "\n",
        "**Student email:** <font color='red'>l.mardanova@innopolis.university</font>"
      ]
    },
    {
      "cell_type": "markdown",
      "metadata": {
        "id": "YG-rK84RA-po"
      },
      "source": [
        "## Task 1. Baseline model [0pt]"
      ]
    },
    {
      "cell_type": "markdown",
      "metadata": {
        "id": "FGo8TIuZMdzB"
      },
      "source": [
        "Training done in Assignment 2. Model saved to \"LianaMardanova.pt\"."
      ]
    },
    {
      "cell_type": "code",
      "execution_count": null,
      "metadata": {
        "id": "aTfpERQXMdzB"
      },
      "outputs": [],
      "source": [
        "# Import nessesary libraries\n",
        "import torch\n",
        "import os\n",
        "from torch.utils import data\n",
        "from torchvision import datasets, transforms\n",
        "import matplotlib.pyplot as plt\n",
        "import torch.nn as nn\n",
        "import torch.nn.functional as F\n",
        "import numpy as np\n",
        "from time import time\n",
        "from tqdm import tqdm\n",
        "from torch.optim import SGD, Adam\n",
        "from torch.optim import lr_scheduler\n",
        "import pickle\n",
        "import torch\n",
        "import copy\n",
        "import torch.nn as nn\n",
        "import torchvision.datasets as datasets\n",
        "import torchvision.transforms as transforms\n",
        "from torch.utils.data import Subset\n",
        "from sklearn.model_selection import train_test_split\n",
        "from torch.utils.data import Dataset\n",
        "from PIL import Image\n",
        "from sklearn.metrics import accuracy_score, roc_auc_score\n",
        "import time"
      ]
    },
    {
      "cell_type": "code",
      "execution_count": null,
      "metadata": {
        "id": "V9SOyr6nMdzC",
        "outputId": "2c2ea8d2-66e6-4244-fc76-a0c21722dbdf"
      },
      "outputs": [
        {
          "name": "stdout",
          "output_type": "stream",
          "text": [
            "mps\n"
          ]
        }
      ],
      "source": [
        "# Define device based on availability\n",
        "device = torch.device(\"cuda\" if torch.cuda.is_available() else \"mps\" if torch.backends.mps.is_available() else \"cpu\")\n",
        "print(device)"
      ]
    },
    {
      "cell_type": "code",
      "execution_count": null,
      "metadata": {
        "id": "i6tEOSrVMdzD",
        "outputId": "49924b2f-66c2-4058-aa52-5dd01a6547cc"
      },
      "outputs": [
        {
          "name": "stdout",
          "output_type": "stream",
          "text": [
            "CustomModel(\n",
            "  (conv1): Sequential(\n",
            "    (0): Conv2d(3, 16, kernel_size=(3, 3), stride=(1, 1), padding=(1, 1))\n",
            "    (1): ReLU()\n",
            "    (2): MaxPool2d(kernel_size=2, stride=2, padding=0, dilation=1, ceil_mode=False)\n",
            "    (3): BatchNorm2d(16, eps=1e-05, momentum=0.1, affine=True, track_running_stats=True)\n",
            "    (4): Dropout(p=0.1, inplace=False)\n",
            "  )\n",
            "  (conv2): Sequential(\n",
            "    (0): Conv2d(16, 32, kernel_size=(3, 3), stride=(1, 1), padding=(1, 1))\n",
            "    (1): ReLU()\n",
            "    (2): MaxPool2d(kernel_size=2, stride=2, padding=0, dilation=1, ceil_mode=False)\n",
            "    (3): BatchNorm2d(32, eps=1e-05, momentum=0.1, affine=True, track_running_stats=True)\n",
            "    (4): Dropout(p=0.15, inplace=False)\n",
            "  )\n",
            "  (conv3): Sequential(\n",
            "    (0): Conv2d(32, 64, kernel_size=(3, 3), stride=(1, 1), padding=(1, 1))\n",
            "    (1): ReLU()\n",
            "    (2): MaxPool2d(kernel_size=2, stride=2, padding=0, dilation=1, ceil_mode=False)\n",
            "    (3): BatchNorm2d(64, eps=1e-05, momentum=0.1, affine=True, track_running_stats=True)\n",
            "    (4): Dropout(p=0.2, inplace=False)\n",
            "  )\n",
            "  (conv4): Sequential(\n",
            "    (0): Conv2d(64, 128, kernel_size=(3, 3), stride=(1, 1), padding=(1, 1))\n",
            "    (1): ReLU()\n",
            "    (2): MaxPool2d(kernel_size=2, stride=2, padding=0, dilation=1, ceil_mode=False)\n",
            "    (3): BatchNorm2d(128, eps=1e-05, momentum=0.1, affine=True, track_running_stats=True)\n",
            "    (4): Dropout(p=0.25, inplace=False)\n",
            "  )\n",
            "  (fc1): Sequential(\n",
            "    (0): Linear(in_features=512, out_features=512, bias=True)\n",
            "    (1): ReLU()\n",
            "    (2): BatchNorm1d(512, eps=1e-05, momentum=0.1, affine=True, track_running_stats=True)\n",
            "    (3): Dropout(p=0.3, inplace=False)\n",
            "  )\n",
            "  (fc2): Sequential(\n",
            "    (0): Linear(in_features=512, out_features=256, bias=True)\n",
            "    (1): ReLU()\n",
            "    (2): BatchNorm1d(256, eps=1e-05, momentum=0.1, affine=True, track_running_stats=True)\n",
            "    (3): Dropout(p=0.4, inplace=False)\n",
            "  )\n",
            "  (fc3): Linear(in_features=256, out_features=10, bias=True)\n",
            ")\n"
          ]
        }
      ],
      "source": [
        "# Custom model class from assignment 2\n",
        "class CustomModel(nn.Module):\n",
        "    def __init__(self):\n",
        "        super(CustomModel, self).__init__()\n",
        "        # Convolutional layers\n",
        "        self.conv1 = nn.Sequential(\n",
        "            nn.Conv2d(in_channels=3, out_channels=16, kernel_size=3, padding=1),\n",
        "            nn.ReLU(),\n",
        "            nn.MaxPool2d(kernel_size=2, stride=2),\n",
        "            nn.BatchNorm2d(num_features=16),\n",
        "            nn.Dropout(p=0.1)\n",
        "        )\n",
        "        self.conv2 = nn.Sequential(\n",
        "            nn.Conv2d(in_channels=16, out_channels=32, kernel_size=3, padding=1),\n",
        "            nn.ReLU(),\n",
        "            nn.MaxPool2d(kernel_size=2, stride=2),\n",
        "            nn.BatchNorm2d(num_features=32),\n",
        "            nn.Dropout(p=0.15)\n",
        "        )\n",
        "        self.conv3 = nn.Sequential(\n",
        "            nn.Conv2d(in_channels=32, out_channels=64, kernel_size=3, padding=1),\n",
        "            nn.ReLU(),\n",
        "            nn.MaxPool2d(kernel_size=2, stride=2),\n",
        "            nn.BatchNorm2d(num_features=64),\n",
        "            nn.Dropout(p=0.2)\n",
        "        )\n",
        "        self.conv4 = nn.Sequential(\n",
        "            nn.Conv2d(in_channels=64, out_channels=128, kernel_size=3, padding=1),\n",
        "            nn.ReLU(),\n",
        "            nn.MaxPool2d(kernel_size=2, stride=2),\n",
        "            nn.BatchNorm2d(num_features=128),\n",
        "            nn.Dropout(p=0.25)\n",
        "        )\n",
        "        # Fully connected layers\n",
        "        self.fc1 = nn.Sequential(\n",
        "            nn.Linear(in_features=128 * 2 * 2, out_features=512),\n",
        "            nn.ReLU(),\n",
        "            nn.BatchNorm1d(num_features=512),\n",
        "            nn.Dropout(p=0.3)\n",
        "        )\n",
        "        self.fc2 = nn.Sequential(\n",
        "            nn.Linear(in_features=512, out_features=256),\n",
        "            nn.ReLU(),\n",
        "            nn.BatchNorm1d(num_features=256),\n",
        "            nn.Dropout(p=0.4)\n",
        "        )\n",
        "        self.fc3 = nn.Linear(in_features=256, out_features=10)\n",
        "\n",
        "    def forward(self, x):\n",
        "        x = self.conv1(x)\n",
        "        x = self.conv2(x)\n",
        "        x = self.conv3(x)\n",
        "        x = self.conv4(x)\n",
        "        x = torch.flatten(x, 1)\n",
        "        x = self.fc1(x)\n",
        "        x = self.fc2(x)\n",
        "        x = self.fc3(x)\n",
        "        return F.log_softmax(x, dim=1)  # Using log softmax activation for output probabilities\n",
        "\n",
        "# Create an instance of the CustomModel and move it to the selected device\n",
        "custom_model = CustomModel().to(device)\n",
        "print(custom_model)"
      ]
    },
    {
      "cell_type": "code",
      "execution_count": null,
      "metadata": {
        "id": "fpzE8RVyMdzD",
        "outputId": "f2d6621d-ae3e-4907-ec8a-09d27fcf5bfa"
      },
      "outputs": [
        {
          "data": {
            "text/plain": [
              "<All keys matched successfully>"
            ]
          },
          "execution_count": 6,
          "metadata": {},
          "output_type": "execute_result"
        }
      ],
      "source": [
        "# Loading trained model from file\n",
        "custom_model_path = \"LianaMardanova.pt\"\n",
        "model_state_dict = torch.load(custom_model_path, map_location=device)\n",
        "custom_model.load_state_dict(model_state_dict)"
      ]
    },
    {
      "cell_type": "code",
      "execution_count": null,
      "metadata": {
        "id": "FYJmg2Z1MdzD",
        "outputId": "11a74219-df56-44ee-ebd4-73645dd4708a"
      },
      "outputs": [
        {
          "name": "stdout",
          "output_type": "stream",
          "text": [
            "Files already downloaded and verified\n"
          ]
        }
      ],
      "source": [
        "# Define transformations for test data\n",
        "test_transforms_for_custom = transforms.Compose([\n",
        "    transforms.ToTensor(),\n",
        "    transforms.Normalize((0.485, 0.456, 0.406), (0.229, 0.224, 0.225)) # Normalize the image with mean and standard deviation (as for pretrained model in next part)\n",
        "])\n",
        "\n",
        "batch_size = 128\n",
        "# Load CIFAR-10 datasets for testing\n",
        "test_dataset_for_custom = datasets.CIFAR10(root='cifar10',\n",
        "                                train=False,\n",
        "                                transform=test_transforms_for_custom,\n",
        "                                download=True)\n",
        "\n",
        "# Create data loaders for testing datasets\n",
        "test_data_loader_for_custom = data.DataLoader(test_dataset_for_custom,\n",
        "                                   batch_size=batch_size,\n",
        "                                   shuffle=False)"
      ]
    },
    {
      "cell_type": "code",
      "execution_count": null,
      "metadata": {
        "id": "a-A_M76oMdzD"
      },
      "outputs": [],
      "source": [
        "# Modified function for testing from Lab10\n",
        "def test(model, device, test_loader, criterion):\n",
        "    model.eval()\n",
        "    test_loss = 0\n",
        "    correct = 0\n",
        "    total_samples = 0\n",
        "    with torch.no_grad():\n",
        "        for data, target in test_loader:\n",
        "            data, target = data.to(device), target.to(device)\n",
        "            output = model(data)\n",
        "            test_loss += criterion(output, target).item()  * data.size(0)\n",
        "            total_samples += data.size(0)\n",
        "            pred = output.argmax(dim=1, keepdim=True)\n",
        "            correct += pred.eq(target.view_as(pred)).sum().item()\n",
        "\n",
        "    acc = 100. * correct / len(test_loader.dataset)\n",
        "    test_loss = test_loss / total_samples\n",
        "    return test_loss, acc"
      ]
    },
    {
      "cell_type": "code",
      "execution_count": null,
      "metadata": {
        "id": "N9l3VpDcMdzE",
        "outputId": "2c3c909f-f915-4e4a-ee6e-61113ed19eef"
      },
      "outputs": [
        {
          "name": "stdout",
          "output_type": "stream",
          "text": [
            "Test loss: 0.6644567056655883, Accuracy: 76.44\n"
          ]
        }
      ],
      "source": [
        "# Calculate loss and accuracy of baseline model\n",
        "criterion = nn.CrossEntropyLoss()\n",
        "test_loss, accuracy = test(custom_model, device, test_data_loader_for_custom, criterion)\n",
        "print(f\"Test loss: {test_loss}, Accuracy: {accuracy}\")"
      ]
    },
    {
      "cell_type": "markdown",
      "metadata": {
        "id": "gGlcbWXl9Dg-"
      },
      "source": [
        "## Task 2. Self-supervised learning [12pts]"
      ]
    },
    {
      "cell_type": "markdown",
      "metadata": {
        "id": "ctNxOwKdMdzE"
      },
      "source": [
        "### Part for autoencoder model"
      ]
    },
    {
      "cell_type": "code",
      "execution_count": null,
      "metadata": {
        "id": "f8X0oWL6MdzE"
      },
      "outputs": [],
      "source": [
        "# Define transformations for training and test data\n",
        "train_transforms_for_autoencoder = transforms.Compose([\n",
        "    transforms.RandomCrop(32, padding=4),\n",
        "    transforms.RandomHorizontalFlip(),\n",
        "    transforms.RandomVerticalFlip(),\n",
        "    transforms.RandomAffine(45, shear=7, scale=(0.7, 1.3)),\n",
        "    transforms.RandomRotation(90),\n",
        "    transforms.ToTensor(),\n",
        "    transforms.Normalize((0.485, 0.456, 0.406), (0.229, 0.224, 0.225))  # Normalize the image with mean and standard deviation (as in task 2 in assignment 2)\n",
        "])\n",
        "\n",
        "test_transforms_for_autoencoder = transforms.Compose([\n",
        "    transforms.ToTensor(),\n",
        "    transforms.Normalize((0.485, 0.456, 0.406), (0.229, 0.224, 0.225)) # Normalize the image with mean and standard deviation (as in task 2 in assignment 2)\n",
        "])"
      ]
    },
    {
      "cell_type": "code",
      "execution_count": null,
      "metadata": {
        "id": "4W4f4HSjMdzE",
        "outputId": "83d2738b-3c37-4c47-f7da-550429e80f79"
      },
      "outputs": [
        {
          "name": "stdout",
          "output_type": "stream",
          "text": [
            "Files already downloaded and verified\n",
            "Files already downloaded and verified\n"
          ]
        }
      ],
      "source": [
        "batch_size = 64\n",
        "# Load CIFAR-10 datasets for both training and testing\n",
        "train_dataset_for_autoencoder = datasets.CIFAR10(root='cifar10',\n",
        "                                                 train=True,\n",
        "                                                 transform=train_transforms_for_autoencoder,\n",
        "                                                 download=True)\n",
        "\n",
        "test_dataset_for_autoencoder = datasets.CIFAR10(root='cifar10',\n",
        "                                                train=False,\n",
        "                                                transform=test_transforms_for_autoencoder,\n",
        "                                                download=True)\n",
        "\n",
        "# Create data loaders for training and testing datasets\n",
        "train_data_loader_for_autoencoder = data.DataLoader(train_dataset_for_autoencoder,\n",
        "                                                    batch_size=batch_size,\n",
        "                                                    shuffle=True,\n",
        "                                                    drop_last=True)\n",
        "\n",
        "test_data_loader_for_autoencoder = data.DataLoader(test_dataset_for_autoencoder,\n",
        "                                                   batch_size=batch_size,\n",
        "                                                   shuffle=False)"
      ]
    },
    {
      "cell_type": "code",
      "execution_count": null,
      "metadata": {
        "id": "SWslQDW5MdzE",
        "outputId": "1816d849-e9d6-448e-fb28-4c6764dfcb72"
      },
      "outputs": [
        {
          "name": "stdout",
          "output_type": "stream",
          "text": [
            "AutoencoderModel(\n",
            "  (encoder): Sequential(\n",
            "    (0): Conv2d(3, 128, kernel_size=(3, 3), stride=(1, 1), padding=(1, 1))\n",
            "    (1): ReLU()\n",
            "    (2): MaxPool2d(kernel_size=2, stride=2, padding=0, dilation=1, ceil_mode=False)\n",
            "    (3): BatchNorm2d(128, eps=1e-05, momentum=0.1, affine=True, track_running_stats=True)\n",
            "    (4): Conv2d(128, 64, kernel_size=(3, 3), stride=(1, 1), padding=(1, 1))\n",
            "    (5): ReLU()\n",
            "    (6): MaxPool2d(kernel_size=2, stride=2, padding=0, dilation=1, ceil_mode=False)\n",
            "    (7): BatchNorm2d(64, eps=1e-05, momentum=0.1, affine=True, track_running_stats=True)\n",
            "    (8): Conv2d(64, 32, kernel_size=(3, 3), stride=(1, 1), padding=(1, 1))\n",
            "    (9): ReLU()\n",
            "    (10): BatchNorm2d(32, eps=1e-05, momentum=0.1, affine=True, track_running_stats=True)\n",
            "  )\n",
            "  (decoder): Sequential(\n",
            "    (0): ConvTranspose2d(32, 64, kernel_size=(3, 3), stride=(1, 1), padding=(1, 1))\n",
            "    (1): ReLU()\n",
            "    (2): Upsample(scale_factor=2.0, mode='nearest')\n",
            "    (3): BatchNorm2d(64, eps=1e-05, momentum=0.1, affine=True, track_running_stats=True)\n",
            "    (4): ConvTranspose2d(64, 128, kernel_size=(3, 3), stride=(1, 1), padding=(1, 1))\n",
            "    (5): ReLU()\n",
            "    (6): Upsample(scale_factor=2.0, mode='nearest')\n",
            "    (7): BatchNorm2d(128, eps=1e-05, momentum=0.1, affine=True, track_running_stats=True)\n",
            "    (8): Conv2d(128, 3, kernel_size=(3, 3), stride=(1, 1), padding=(1, 1))\n",
            "    (9): Sigmoid()\n",
            "  )\n",
            ")\n"
          ]
        }
      ],
      "source": [
        "# Define the Autoencoder model (Updated version of model from https://stackoverflow.com/questions/69193892/autoencoder-for-cifar-10-with-low-accuracy)\n",
        "class AutoencoderModel(nn.Module):\n",
        "    def __init__(self):\n",
        "        super(AutoencoderModel, self).__init__()\n",
        "        # Encoder layers\n",
        "        self.encoder = nn.Sequential(\n",
        "            nn.Conv2d(3, 128, kernel_size=3, stride=1, padding=1),\n",
        "            nn.ReLU(),\n",
        "            nn.MaxPool2d(kernel_size=2, stride=2),\n",
        "            nn.BatchNorm2d(128),\n",
        "\n",
        "            nn.Conv2d(128, 64, kernel_size=3, stride=1, padding=1),\n",
        "            nn.ReLU(),\n",
        "            nn.MaxPool2d(kernel_size=2, stride=2),\n",
        "            nn.BatchNorm2d(64),\n",
        "\n",
        "            nn.Conv2d(64, 32, kernel_size=3, stride=1, padding=1),\n",
        "            nn.ReLU(),\n",
        "            nn.BatchNorm2d(32)\n",
        "        )\n",
        "\n",
        "        # Decoder layers\n",
        "        self.decoder = nn.Sequential(\n",
        "            nn.ConvTranspose2d(32, 64, kernel_size=3, stride=1, padding=1),\n",
        "            nn.ReLU(),\n",
        "            nn.Upsample(scale_factor=2, mode='nearest'),\n",
        "            nn.BatchNorm2d(64),\n",
        "\n",
        "            nn.ConvTranspose2d(64, 128, kernel_size=3, stride=1, padding=1),\n",
        "            nn.ReLU(),\n",
        "            nn.Upsample(scale_factor=2, mode='nearest'),\n",
        "            nn.BatchNorm2d(128),\n",
        "\n",
        "            nn.Conv2d(128, 3, kernel_size=3, stride=1, padding=1),\n",
        "            nn.Sigmoid()\n",
        "        )\n",
        "\n",
        "    def forward(self, x):\n",
        "        x = self.encoder(x)\n",
        "        x = self.decoder(x)\n",
        "        return x\n",
        "\n",
        "# Create an instance of the AutoencoderModel and move it to the selected device\n",
        "autoencoder_model = AutoencoderModel().to(device)\n",
        "print(autoencoder_model)"
      ]
    },
    {
      "cell_type": "code",
      "execution_count": null,
      "metadata": {
        "id": "SPT6pJsNMdzF"
      },
      "outputs": [],
      "source": [
        "# Same EarlyStopping class as in Assignment 2 (Task2) (Class from https://github.com/Bjarten/early-stopping-pytorch/blob/master/pytorchtools.py designed to implement early stopping functionality during training process)\n",
        "class EarlyStopping:\n",
        "    \"\"\"Early stops the training if validation loss doesn't improve after a given patience.\"\"\"\n",
        "    def __init__(self, patience=7, verbose=False, delta=0, path='checkpoint.pt', trace_func=print):\n",
        "        \"\"\"\n",
        "        Args:\n",
        "            patience (int): How long to wait after last time validation loss improved.\n",
        "                            Default: 7\n",
        "            verbose (bool): If True, prints a message for each validation loss improvement.\n",
        "                            Default: False\n",
        "            delta (float): Minimum change in the monitored quantity to qualify as an improvement.\n",
        "                            Default: 0\n",
        "            path (str): Path for the checkpoint to be saved to.\n",
        "                            Default: 'checkpoint.pt'\n",
        "            trace_func (function): trace print function.\n",
        "                            Default: print\n",
        "        \"\"\"\n",
        "        self.patience = patience\n",
        "        self.verbose = verbose\n",
        "        self.counter = 0\n",
        "        self.best_score = None\n",
        "        self.early_stop = False\n",
        "        self.val_loss_min = np.Inf\n",
        "        self.delta = delta\n",
        "        self.path = path\n",
        "        self.trace_func = trace_func\n",
        "\n",
        "    def __call__(self, val_loss, model):\n",
        "        score = -val_loss\n",
        "        if self.best_score is None:\n",
        "            self.best_score = score\n",
        "            self.save_checkpoint(val_loss, model)\n",
        "        elif score < self.best_score + self.delta:\n",
        "            self.counter += 1\n",
        "            self.trace_func(f'EarlyStopping counter: {self.counter} out of {self.patience}')\n",
        "            if self.counter >= self.patience:\n",
        "                self.early_stop = True\n",
        "        else:\n",
        "            self.best_score = score\n",
        "            self.save_checkpoint(val_loss, model)\n",
        "            self.counter = 0\n",
        "        return self.early_stop\n",
        "\n",
        "    def save_checkpoint(self, val_loss, model):\n",
        "        '''Saves model when validation loss decrease.'''\n",
        "        if self.verbose:\n",
        "            self.trace_func(f'Validation loss decreased ({self.val_loss_min:.6f} --> {val_loss:.6f}).  Saving model ...')\n",
        "        torch.save(model.state_dict(), self.path)\n",
        "        self.val_loss_min = val_loss"
      ]
    },
    {
      "cell_type": "code",
      "execution_count": null,
      "metadata": {
        "id": "0AhOUQFCMdzF"
      },
      "outputs": [],
      "source": [
        "# Modified functions from Lab 10 used for train and test\n",
        "def autoencoder_train(model, device, train_loader, criterion, optimizer, epoch):\n",
        "    model.train()\n",
        "    epoch_loss = 0\n",
        "    start_time = time()\n",
        "    total_samples = 0\n",
        "\n",
        "    bar = tqdm(train_loader)\n",
        "    for data, _ in bar:\n",
        "        data = data.to(device)\n",
        "        optimizer.zero_grad()\n",
        "        output = model(data)\n",
        "        loss = criterion(output, data)\n",
        "        loss.backward()\n",
        "        optimizer.step()\n",
        "        epoch_loss += loss.item() * data.size(0)\n",
        "        total_samples += data.size(0)\n",
        "\n",
        "        bar.set_postfix({\"Loss\": format(epoch_loss/total_samples, '.6f')})\n",
        "\n",
        "    print(f'\\nTrain Epoch: {epoch}, elapsed time:{time()-start_time:.2f}s')\n",
        "    return epoch_loss / total_samples\n",
        "\n",
        "\n",
        "def autoencoder_test(model, device, test_loader, criterion):\n",
        "    model.eval()\n",
        "    test_loss = 0\n",
        "    total_samples = 0\n",
        "\n",
        "    with torch.no_grad():\n",
        "        for data, _ in test_loader:\n",
        "            data = data.to(device)\n",
        "            output = model(data)\n",
        "            test_loss += criterion(output, data).item() * data.size(0)\n",
        "            total_samples += data.size(0)\n",
        "\n",
        "    return test_loss / total_samples"
      ]
    },
    {
      "cell_type": "code",
      "execution_count": null,
      "metadata": {
        "id": "lr7ogAlYMdzF"
      },
      "outputs": [],
      "source": [
        "# Modified function from Lab 10 used for training\n",
        "def autoencoder_training(model, train_data_loader, test_data_loader, epochs, criterion, optimizer, early_stopping, device, save_path, train_info_path):\n",
        "    # Check if model already exists\n",
        "    if save_path and os.path.exists(save_path):\n",
        "        print(f\"File already exists at {save_path}. Model not trained, loaded from file.\")\n",
        "        model_state_dict = torch.load(save_path, map_location=device)\n",
        "        model.load_state_dict(model_state_dict)\n",
        "\n",
        "        # Load training information from file\n",
        "        with open(train_info_path, 'rb') as info_file:\n",
        "            train_losses, test_losses = pickle.load(info_file)\n",
        "\n",
        "        return train_losses, test_losses\n",
        "\n",
        "    train_losses, test_losses = [], []\n",
        "\n",
        "    for epoch in range(1, epochs + 1):\n",
        "        train_loss = autoencoder_train(model, device, train_data_loader, criterion, optimizer, epoch)\n",
        "        test_loss = autoencoder_test(model, device, test_data_loader, criterion)\n",
        "        # Terminate training if loss stopped to decrease\n",
        "        if early_stopping(test_loss, model):\n",
        "            print('\\nEarly stopping\\n')\n",
        "            break\n",
        "        train_losses.append(train_loss)\n",
        "        test_losses.append(test_loss)\n",
        "        print(f\"Training loss {train_loss}, test loss {test_loss}\\n\")\n",
        "\n",
        "    with open(train_info_path, 'wb') as info_file:\n",
        "        pickle.dump([train_losses, test_losses], info_file)\n",
        "\n",
        "    return train_losses, test_losses"
      ]
    },
    {
      "cell_type": "code",
      "execution_count": null,
      "metadata": {
        "id": "gKuBug9JNicE",
        "outputId": "361aea4a-fadf-47eb-f623-99d56bc82324"
      },
      "outputs": [
        {
          "name": "stderr",
          "output_type": "stream",
          "text": [
            "100%|██████████| 781/781 [01:06<00:00, 11.76it/s, Loss=1.585928]\n"
          ]
        },
        {
          "name": "stdout",
          "output_type": "stream",
          "text": [
            "\n",
            "Train Epoch: 1, elapsed time:66.39s\n",
            "Training loss 1.585420647125244, test loss 0.6391498038291931\n",
            "\n"
          ]
        },
        {
          "name": "stderr",
          "output_type": "stream",
          "text": [
            "100%|██████████| 781/781 [01:06<00:00, 11.77it/s, Loss=1.567977]\n"
          ]
        },
        {
          "name": "stdout",
          "output_type": "stream",
          "text": [
            "\n",
            "Train Epoch: 2, elapsed time:66.37s\n",
            "Training loss 1.567475274658203, test loss 0.6334114764213562\n",
            "\n"
          ]
        },
        {
          "name": "stderr",
          "output_type": "stream",
          "text": [
            "100%|██████████| 781/781 [01:05<00:00, 11.85it/s, Loss=1.562081]\n"
          ]
        },
        {
          "name": "stdout",
          "output_type": "stream",
          "text": [
            "\n",
            "Train Epoch: 3, elapsed time:65.89s\n",
            "Training loss 1.5615808352661134, test loss 0.6307581401824951\n",
            "\n"
          ]
        },
        {
          "name": "stderr",
          "output_type": "stream",
          "text": [
            "100%|██████████| 781/781 [00:58<00:00, 13.35it/s, Loss=1.560131]\n"
          ]
        },
        {
          "name": "stdout",
          "output_type": "stream",
          "text": [
            "\n",
            "Train Epoch: 4, elapsed time:58.52s\n",
            "EarlyStopping counter: 1 out of 5\n",
            "Training loss 1.5596322338867188, test loss 0.6299781765937805\n",
            "\n"
          ]
        },
        {
          "name": "stderr",
          "output_type": "stream",
          "text": [
            "100%|██████████| 781/781 [01:02<00:00, 12.49it/s, Loss=1.555869]\n"
          ]
        },
        {
          "name": "stdout",
          "output_type": "stream",
          "text": [
            "\n",
            "Train Epoch: 5, elapsed time:62.51s\n",
            "Training loss 1.5553714430236816, test loss 0.6286910958290101\n",
            "\n"
          ]
        },
        {
          "name": "stderr",
          "output_type": "stream",
          "text": [
            "100%|██████████| 781/781 [01:03<00:00, 12.23it/s, Loss=1.559291]\n"
          ]
        },
        {
          "name": "stdout",
          "output_type": "stream",
          "text": [
            "\n",
            "Train Epoch: 6, elapsed time:63.88s\n",
            "EarlyStopping counter: 1 out of 5\n",
            "Training loss 1.5587922792053224, test loss 0.6288686151504517\n",
            "\n"
          ]
        },
        {
          "name": "stderr",
          "output_type": "stream",
          "text": [
            "100%|██████████| 781/781 [01:03<00:00, 12.37it/s, Loss=1.555392]\n"
          ]
        },
        {
          "name": "stdout",
          "output_type": "stream",
          "text": [
            "\n",
            "Train Epoch: 7, elapsed time:63.15s\n",
            "EarlyStopping counter: 2 out of 5\n",
            "Training loss 1.5548937788391113, test loss 0.6282175083160401\n",
            "\n"
          ]
        },
        {
          "name": "stderr",
          "output_type": "stream",
          "text": [
            "100%|██████████| 781/781 [01:05<00:00, 11.96it/s, Loss=1.553290]\n"
          ]
        },
        {
          "name": "stdout",
          "output_type": "stream",
          "text": [
            "\n",
            "Train Epoch: 8, elapsed time:65.32s\n",
            "EarlyStopping counter: 3 out of 5\n",
            "Training loss 1.5527930540466308, test loss 0.6277960899353028\n",
            "\n"
          ]
        },
        {
          "name": "stderr",
          "output_type": "stream",
          "text": [
            "100%|██████████| 781/781 [01:08<00:00, 11.38it/s, Loss=1.554806]\n"
          ]
        },
        {
          "name": "stdout",
          "output_type": "stream",
          "text": [
            "\n",
            "Train Epoch: 9, elapsed time:68.64s\n",
            "Training loss 1.5543087448120116, test loss 0.6264546655654907\n",
            "\n"
          ]
        },
        {
          "name": "stderr",
          "output_type": "stream",
          "text": [
            "100%|██████████| 781/781 [01:05<00:00, 11.88it/s, Loss=1.554466]\n"
          ]
        },
        {
          "name": "stdout",
          "output_type": "stream",
          "text": [
            "\n",
            "Train Epoch: 10, elapsed time:65.77s\n",
            "EarlyStopping counter: 1 out of 5\n",
            "Training loss 1.5539683116149903, test loss 0.626112948513031\n",
            "\n"
          ]
        },
        {
          "name": "stderr",
          "output_type": "stream",
          "text": [
            "100%|██████████| 781/781 [01:09<00:00, 11.22it/s, Loss=1.554131]\n"
          ]
        },
        {
          "name": "stdout",
          "output_type": "stream",
          "text": [
            "\n",
            "Train Epoch: 11, elapsed time:69.59s\n",
            "EarlyStopping counter: 2 out of 5\n",
            "Training loss 1.5536336032104492, test loss 0.6270597202301026\n",
            "\n"
          ]
        },
        {
          "name": "stderr",
          "output_type": "stream",
          "text": [
            "100%|██████████| 781/781 [01:05<00:00, 11.85it/s, Loss=1.549817]\n"
          ]
        },
        {
          "name": "stdout",
          "output_type": "stream",
          "text": [
            "\n",
            "Train Epoch: 12, elapsed time:65.93s\n",
            "EarlyStopping counter: 3 out of 5\n",
            "Training loss 1.549320579071045, test loss 0.6258571896553039\n",
            "\n"
          ]
        },
        {
          "name": "stderr",
          "output_type": "stream",
          "text": [
            "100%|██████████| 781/781 [01:00<00:00, 12.93it/s, Loss=1.553704]\n"
          ]
        },
        {
          "name": "stdout",
          "output_type": "stream",
          "text": [
            "\n",
            "Train Epoch: 13, elapsed time:60.41s\n",
            "EarlyStopping counter: 4 out of 5\n",
            "Training loss 1.5532066799926758, test loss 0.6258345126152038\n",
            "\n"
          ]
        },
        {
          "name": "stderr",
          "output_type": "stream",
          "text": [
            "100%|██████████| 781/781 [00:55<00:00, 14.09it/s, Loss=1.551007]\n"
          ]
        },
        {
          "name": "stdout",
          "output_type": "stream",
          "text": [
            "\n",
            "Train Epoch: 14, elapsed time:55.43s\n",
            "EarlyStopping counter: 5 out of 5\n",
            "\n",
            "Early stopping\n",
            "\n"
          ]
        }
      ],
      "source": [
        "# Defining parameters for training\n",
        "autoencoder_model_path = \"autoencoder_model.pt\"\n",
        "train_info_path_for_autoencoder = \"train_info_path_for_autoencoder.pkl\"\n",
        "epochs = 100\n",
        "criterion = nn.MSELoss()\n",
        "optimizer = Adam(autoencoder_model.parameters())\n",
        "early_stopping = EarlyStopping(patience=5, delta=0.001, path=autoencoder_model_path)\n",
        "\n",
        "# Training model\n",
        "train_losses, test_losses = autoencoder_training(autoencoder_model, train_data_loader_for_autoencoder, test_data_loader_for_autoencoder, epochs, criterion, optimizer, early_stopping, device, autoencoder_model_path, train_info_path_for_autoencoder)"
      ]
    },
    {
      "cell_type": "code",
      "execution_count": null,
      "metadata": {
        "id": "wIaf_l93MdzG",
        "outputId": "af594f13-19ce-415f-e57d-7f4b35fad80f"
      },
      "outputs": [
        {
          "data": {
            "image/png": "[encoded data removed]",
            "text/plain": [
              "<Figure size 1000x500 with 1 Axes>"
            ]
          },
          "metadata": {},
          "output_type": "display_data"
        }
      ],
      "source": [
        "# Plot losses\n",
        "plt.figure(figsize=(10, 5))\n",
        "plt.plot(train_losses, label='Train Loss', color='blue', linestyle='-')\n",
        "plt.plot(test_losses, label='Test Loss', color='orange', linestyle='--')\n",
        "plt.title('Train and Test Losses')\n",
        "plt.xlabel('Epoch')\n",
        "plt.ylabel('Loss')\n",
        "plt.legend()\n",
        "plt.grid(True, linestyle='--', alpha=0.7, linewidth=0.5, color='gray')\n",
        "plt.gca().set_facecolor('#f0f0f0')\n",
        "plt.show()"
      ]
    },
    {
      "cell_type": "markdown",
      "metadata": {
        "id": "jLUxoP_PMdzG"
      },
      "source": [
        "### Part for self supervised learning model"
      ]
    },
    {
      "cell_type": "code",
      "execution_count": null,
      "metadata": {
        "id": "ju5dtAl2MdzG",
        "outputId": "6423a7fd-f4dd-45d0-dd4e-8ac6251e9ebf"
      },
      "outputs": [
        {
          "name": "stdout",
          "output_type": "stream",
          "text": [
            "Files already downloaded and verified\n",
            "Files already downloaded and verified\n"
          ]
        }
      ],
      "source": [
        "# Define transformations for training and test data\n",
        "train_transforms_for_self_supervised = train_transforms_for_autoencoder\n",
        "test_transforms_for_self_supervised = test_transforms_for_autoencoder\n",
        "\n",
        "train_dataset_for_self_supervised = datasets.CIFAR10(root='cifar10', train=True, transform=train_transforms_for_self_supervised, download=True)\n",
        "test_dataset_for_self_supervised = datasets.CIFAR10(root='cifar10', train=False, transform=test_transforms_for_self_supervised, download=True)\n",
        "\n",
        "# Take 10 percent of train dataset\n",
        "_, train_indices_10_percent = train_test_split(list(range(len(train_dataset_for_self_supervised))), test_size=0.1, stratify=train_dataset_for_self_supervised.targets)\n",
        "\n",
        "# Create data loaders for training and test datasets\n",
        "train_data_loader_for_self_supervised = data.DataLoader(Subset(train_dataset_for_self_supervised, train_indices_10_percent),\n",
        "                                    batch_size=batch_size,\n",
        "                                    shuffle=True,\n",
        "                                    drop_last=True)\n",
        "\n",
        "test_data_loader_for_self_supervised = data.DataLoader(test_dataset_for_self_supervised,\n",
        "                                   batch_size=batch_size,\n",
        "                                   shuffle=False)\n"
      ]
    },
    {
      "cell_type": "code",
      "execution_count": null,
      "metadata": {
        "id": "0efxUfgzMdzG",
        "outputId": "4937256d-1b58-40c4-94ce-325696053a9b"
      },
      "outputs": [
        {
          "name": "stdout",
          "output_type": "stream",
          "text": [
            "SelfSupervisedModel(\n",
            "  (encoder): Sequential(\n",
            "    (0): Conv2d(3, 128, kernel_size=(3, 3), stride=(1, 1), padding=(1, 1))\n",
            "    (1): ReLU()\n",
            "    (2): MaxPool2d(kernel_size=2, stride=2, padding=0, dilation=1, ceil_mode=False)\n",
            "    (3): BatchNorm2d(128, eps=1e-05, momentum=0.1, affine=True, track_running_stats=True)\n",
            "    (4): Conv2d(128, 64, kernel_size=(3, 3), stride=(1, 1), padding=(1, 1))\n",
            "    (5): ReLU()\n",
            "    (6): MaxPool2d(kernel_size=2, stride=2, padding=0, dilation=1, ceil_mode=False)\n",
            "    (7): BatchNorm2d(64, eps=1e-05, momentum=0.1, affine=True, track_running_stats=True)\n",
            "    (8): Conv2d(64, 32, kernel_size=(3, 3), stride=(1, 1), padding=(1, 1))\n",
            "    (9): ReLU()\n",
            "    (10): BatchNorm2d(32, eps=1e-05, momentum=0.1, affine=True, track_running_stats=True)\n",
            "  )\n",
            "  (fc1): Sequential(\n",
            "    (0): Linear(in_features=2048, out_features=128, bias=True)\n",
            "    (1): ReLU()\n",
            "    (2): BatchNorm1d(128, eps=1e-05, momentum=0.1, affine=True, track_running_stats=True)\n",
            "    (3): Dropout(p=0.4, inplace=False)\n",
            "  )\n",
            "  (fc2): Sequential(\n",
            "    (0): Linear(in_features=128, out_features=64, bias=True)\n",
            "    (1): ReLU()\n",
            "    (2): BatchNorm1d(64, eps=1e-05, momentum=0.1, affine=True, track_running_stats=True)\n",
            "    (3): Dropout(p=0.4, inplace=False)\n",
            "  )\n",
            "  (fc3): Linear(in_features=64, out_features=10, bias=True)\n",
            ")\n"
          ]
        }
      ],
      "source": [
        "# Define the self supervised model\n",
        "class SelfSupervisedModel(nn.Module):\n",
        "    def __init__(self, encoder):\n",
        "        super(SelfSupervisedModel, self).__init__()\n",
        "\n",
        "        self.encoder = encoder\n",
        "        for param in self.encoder.parameters():\n",
        "            param.requires_grad = False\n",
        "\n",
        "        self.fc1 = nn.Sequential(\n",
        "            nn.Linear(in_features=32 * 8 * 8, out_features=128),\n",
        "            nn.ReLU(),\n",
        "            nn.BatchNorm1d(num_features=128),\n",
        "            nn.Dropout(p=0.4)\n",
        "        )\n",
        "        self.fc2 = nn.Sequential(\n",
        "            nn.Linear(in_features=128, out_features=64),\n",
        "            nn.ReLU(),\n",
        "            nn.BatchNorm1d(num_features=64),\n",
        "            nn.Dropout(p=0.4)\n",
        "        )\n",
        "        self.fc3 = nn.Linear(in_features=64, out_features=10)\n",
        "\n",
        "    def forward(self, x):\n",
        "        x = self.encoder(x)\n",
        "        x = torch.flatten(x, 1)  # Flatten the input for the fully connected layers\n",
        "        x = self.fc1(x)\n",
        "        x = self.fc2(x)\n",
        "        x = self.fc3(x)\n",
        "        return F.log_softmax(x, dim=1)  # Using log softmax activation for output probabilities\n",
        "\n",
        "# Create an instance of the SelfSupervisedModel and move it to the selected device\n",
        "self_supervised_model = SelfSupervisedModel(autoencoder_model.encoder).to(device)\n",
        "print(self_supervised_model)"
      ]
    },
    {
      "cell_type": "code",
      "execution_count": null,
      "metadata": {
        "id": "2XTNzjt_MdzH"
      },
      "outputs": [],
      "source": [
        "# Modified functions from Lab 10 used for train and test\n",
        "def self_supervised_train(model, device, train_loader, criterion, optimizer, epoch):\n",
        "    model.train()\n",
        "    epoch_loss = 0\n",
        "    start_time = time()\n",
        "    correct = 0\n",
        "    iteration = 0\n",
        "\n",
        "    bar = tqdm(train_loader)\n",
        "    for data, target in bar:\n",
        "        data, target = data.to(device), target.to(device)\n",
        "        optimizer.zero_grad()\n",
        "\n",
        "        output = model(data)\n",
        "        # Get the index of the max log-probability\n",
        "        pred = output.argmax(dim=1, keepdim=True)\n",
        "        correct += pred.eq(target.view_as(pred)).sum().item()\n",
        "\n",
        "        loss = criterion(output, target)\n",
        "        loss.backward()\n",
        "        optimizer.step()\n",
        "\n",
        "        epoch_loss += loss.item()\n",
        "        iteration += 1\n",
        "\n",
        "        bar.set_postfix({\"Loss\": format(epoch_loss/iteration, '.6f')})\n",
        "\n",
        "    acc = 100. * correct / len(train_loader.dataset)\n",
        "    print(f'\\nTrain Epoch: {epoch}, elapsed time:{time()-start_time:.2f}s')\n",
        "    return epoch_loss / len(train_loader.dataset), acc\n",
        "\n",
        "\n",
        "def self_supervised_test(model, device, test_loader, criterion):\n",
        "    model.eval()\n",
        "    test_loss = 0\n",
        "    correct = 0\n",
        "    with torch.no_grad():\n",
        "        for data, target in test_loader:\n",
        "            data, target = data.to(device), target.to(device)\n",
        "            output = model(data)\n",
        "            test_loss += criterion(output, target).item() # sum up batch loss\n",
        "            pred = output.argmax(dim=1, keepdim=True)  # get the index of the max log-probability\n",
        "            correct += pred.eq(target.view_as(pred)).sum().item()\n",
        "\n",
        "    acc = 100. * correct / len(test_loader.dataset)\n",
        "    return test_loss / len(test_loader.dataset), acc"
      ]
    },
    {
      "cell_type": "code",
      "execution_count": null,
      "metadata": {
        "id": "iMO4wjLvMdzH"
      },
      "outputs": [],
      "source": [
        "# Modified function from Lab 10 used for training\n",
        "def self_supervised_training(model, train_data_loader, test_data_loader, epochs, criterion, optimizer, early_stopping, device, save_path, train_info_path):\n",
        "    # Check if model already exists\n",
        "    if save_path and os.path.exists(save_path):\n",
        "        print(f\"File already exists at {save_path}. Model not trained, loaded from file.\")\n",
        "        model_state_dict = torch.load(save_path, map_location=device)\n",
        "        model.load_state_dict(model_state_dict)\n",
        "\n",
        "        # Load training information from file\n",
        "        with open(train_info_path, 'rb') as info_file:\n",
        "            train_accuracies, test_accuracies, train_losses, test_losses = pickle.load(info_file)\n",
        "\n",
        "        return train_accuracies, test_accuracies, train_losses, test_losses\n",
        "\n",
        "    train_accuracies, test_accuracies, train_losses, test_losses = [], [], [], []\n",
        "\n",
        "    for epoch in range(1, epochs + 1):\n",
        "        train_loss, train_acc = self_supervised_train(model, device, train_data_loader, criterion, optimizer, epoch)\n",
        "        test_loss, test_acc = self_supervised_test(model, device, test_data_loader, criterion)\n",
        "        # Terminate training if loss stopped to decrease\n",
        "        if early_stopping(test_loss, model):\n",
        "            print('\\nEarly stopping\\n')\n",
        "            break\n",
        "        train_accuracies.append(train_acc)\n",
        "        test_accuracies.append(test_acc)\n",
        "        train_losses.append(train_loss)\n",
        "        test_losses.append(test_loss)\n",
        "        print(f\"Training accuracy {train_acc}, test accuracy {test_acc}\")\n",
        "        print(f\"Training loss {train_loss}, test loss {test_loss}\\n\")\n",
        "\n",
        "    with open(train_info_path, 'wb') as info_file:\n",
        "        pickle.dump([train_accuracies, test_accuracies, train_losses, test_losses], info_file)\n",
        "\n",
        "    return train_accuracies, test_accuracies, train_losses, test_losses"
      ]
    },
    {
      "cell_type": "code",
      "execution_count": null,
      "metadata": {
        "id": "QoIFGAigNicF",
        "outputId": "7357c3f4-29c9-4f40-92bf-7aed7afa79e5"
      },
      "outputs": [
        {
          "name": "stderr",
          "output_type": "stream",
          "text": [
            "100%|██████████| 78/78 [00:02<00:00, 29.97it/s, Loss=2.186435]\n"
          ]
        },
        {
          "name": "stdout",
          "output_type": "stream",
          "text": [
            "\n",
            "Train Epoch: 1, elapsed time:2.60s\n",
            "Training accuracy 24.5, test accuracy 29.94\n",
            "Training loss 0.03410838963985443, test loss 0.03036929758787155\n",
            "\n"
          ]
        },
        {
          "name": "stderr",
          "output_type": "stream",
          "text": [
            "100%|██████████| 78/78 [00:02<00:00, 31.02it/s, Loss=2.035989]\n"
          ]
        },
        {
          "name": "stdout",
          "output_type": "stream",
          "text": [
            "\n",
            "Train Epoch: 2, elapsed time:2.52s\n",
            "Training accuracy 25.2, test accuracy 31.7\n",
            "Training loss 0.03176142780780792, test loss 0.029510996568202972\n",
            "\n"
          ]
        },
        {
          "name": "stderr",
          "output_type": "stream",
          "text": [
            "100%|██████████| 78/78 [00:02<00:00, 30.85it/s, Loss=1.982996]\n"
          ]
        },
        {
          "name": "stdout",
          "output_type": "stream",
          "text": [
            "\n",
            "Train Epoch: 3, elapsed time:2.53s\n",
            "EarlyStopping counter: 1 out of 10\n",
            "Training accuracy 27.16, test accuracy 31.26\n",
            "Training loss 0.030934744024276734, test loss 0.02943077269792557\n",
            "\n"
          ]
        },
        {
          "name": "stderr",
          "output_type": "stream",
          "text": [
            "100%|██████████| 78/78 [00:02<00:00, 30.29it/s, Loss=1.975033]\n"
          ]
        },
        {
          "name": "stdout",
          "output_type": "stream",
          "text": [
            "\n",
            "Train Epoch: 4, elapsed time:2.58s\n",
            "Training accuracy 27.28, test accuracy 32.12\n",
            "Training loss 0.030810519576072695, test loss 0.029169036293029787\n",
            "\n"
          ]
        },
        {
          "name": "stderr",
          "output_type": "stream",
          "text": [
            "100%|██████████| 78/78 [00:02<00:00, 27.90it/s, Loss=1.960878]\n"
          ]
        },
        {
          "name": "stdout",
          "output_type": "stream",
          "text": [
            "\n",
            "Train Epoch: 5, elapsed time:2.80s\n",
            "Training accuracy 28.06, test accuracy 32.98\n",
            "Training loss 0.030589703369140624, test loss 0.028998052549362184\n",
            "\n"
          ]
        },
        {
          "name": "stderr",
          "output_type": "stream",
          "text": [
            "100%|██████████| 78/78 [00:02<00:00, 31.20it/s, Loss=1.948013]\n"
          ]
        },
        {
          "name": "stdout",
          "output_type": "stream",
          "text": [
            "\n",
            "Train Epoch: 6, elapsed time:2.50s\n",
            "Training accuracy 28.56, test accuracy 33.98\n",
            "Training loss 0.03038900737762451, test loss 0.0287113453745842\n",
            "\n"
          ]
        },
        {
          "name": "stderr",
          "output_type": "stream",
          "text": [
            "100%|██████████| 78/78 [00:02<00:00, 29.76it/s, Loss=1.952716]\n"
          ]
        },
        {
          "name": "stdout",
          "output_type": "stream",
          "text": [
            "\n",
            "Train Epoch: 7, elapsed time:2.62s\n",
            "Training accuracy 27.56, test accuracy 34.52\n",
            "Training loss 0.030462376761436462, test loss 0.02842161099910736\n",
            "\n"
          ]
        },
        {
          "name": "stderr",
          "output_type": "stream",
          "text": [
            "100%|██████████| 78/78 [00:02<00:00, 31.17it/s, Loss=1.934101]\n"
          ]
        },
        {
          "name": "stdout",
          "output_type": "stream",
          "text": [
            "\n",
            "Train Epoch: 8, elapsed time:2.50s\n",
            "Training accuracy 29.28, test accuracy 35.45\n",
            "Training loss 0.030171982216835022, test loss 0.02827685341835022\n",
            "\n"
          ]
        },
        {
          "name": "stderr",
          "output_type": "stream",
          "text": [
            "100%|██████████| 78/78 [00:02<00:00, 31.32it/s, Loss=1.923326]\n"
          ]
        },
        {
          "name": "stdout",
          "output_type": "stream",
          "text": [
            "\n",
            "Train Epoch: 9, elapsed time:2.49s\n",
            "EarlyStopping counter: 1 out of 10\n",
            "Training accuracy 29.56, test accuracy 35.33\n",
            "Training loss 0.03000388195514679, test loss 0.02829601527452469\n",
            "\n"
          ]
        },
        {
          "name": "stderr",
          "output_type": "stream",
          "text": [
            "100%|██████████| 78/78 [00:02<00:00, 28.16it/s, Loss=1.933792]\n"
          ]
        },
        {
          "name": "stdout",
          "output_type": "stream",
          "text": [
            "\n",
            "Train Epoch: 10, elapsed time:2.77s\n",
            "EarlyStopping counter: 2 out of 10\n",
            "Training accuracy 28.78, test accuracy 35.39\n",
            "Training loss 0.030167155957221983, test loss 0.028467845642566682\n",
            "\n"
          ]
        },
        {
          "name": "stderr",
          "output_type": "stream",
          "text": [
            "100%|██████████| 78/78 [00:02<00:00, 30.92it/s, Loss=1.921856]\n"
          ]
        },
        {
          "name": "stdout",
          "output_type": "stream",
          "text": [
            "\n",
            "Train Epoch: 11, elapsed time:2.52s\n",
            "EarlyStopping counter: 3 out of 10\n",
            "Training accuracy 30.5, test accuracy 35.95\n",
            "Training loss 0.02998095917701721, test loss 0.02841517790555954\n",
            "\n"
          ]
        },
        {
          "name": "stderr",
          "output_type": "stream",
          "text": [
            "100%|██████████| 78/78 [00:02<00:00, 31.26it/s, Loss=1.928308]\n"
          ]
        },
        {
          "name": "stdout",
          "output_type": "stream",
          "text": [
            "\n",
            "Train Epoch: 12, elapsed time:2.50s\n",
            "EarlyStopping counter: 4 out of 10\n",
            "Training accuracy 29.66, test accuracy 35.8\n",
            "Training loss 0.03008160045146942, test loss 0.0282384596824646\n",
            "\n"
          ]
        },
        {
          "name": "stderr",
          "output_type": "stream",
          "text": [
            "100%|██████████| 78/78 [00:02<00:00, 31.35it/s, Loss=1.905128]\n"
          ]
        },
        {
          "name": "stdout",
          "output_type": "stream",
          "text": [
            "\n",
            "Train Epoch: 13, elapsed time:2.49s\n",
            "Training accuracy 29.9, test accuracy 36.37\n",
            "Training loss 0.02971999373435974, test loss 0.028013054490089416\n",
            "\n"
          ]
        },
        {
          "name": "stderr",
          "output_type": "stream",
          "text": [
            "100%|██████████| 78/78 [00:02<00:00, 31.22it/s, Loss=1.909401]\n"
          ]
        },
        {
          "name": "stdout",
          "output_type": "stream",
          "text": [
            "\n",
            "Train Epoch: 14, elapsed time:2.50s\n",
            "EarlyStopping counter: 1 out of 10\n",
            "Training accuracy 29.84, test accuracy 36.04\n",
            "Training loss 0.029786660766601563, test loss 0.028099108612537383\n",
            "\n"
          ]
        },
        {
          "name": "stderr",
          "output_type": "stream",
          "text": [
            "100%|██████████| 78/78 [00:03<00:00, 24.19it/s, Loss=1.901746]\n"
          ]
        },
        {
          "name": "stdout",
          "output_type": "stream",
          "text": [
            "\n",
            "Train Epoch: 15, elapsed time:3.23s\n",
            "Training accuracy 30.88, test accuracy 36.5\n",
            "Training loss 0.02966724283695221, test loss 0.027800586092472077\n",
            "\n"
          ]
        },
        {
          "name": "stderr",
          "output_type": "stream",
          "text": [
            "100%|██████████| 78/78 [00:03<00:00, 22.72it/s, Loss=1.894705]\n"
          ]
        },
        {
          "name": "stdout",
          "output_type": "stream",
          "text": [
            "\n",
            "Train Epoch: 16, elapsed time:3.44s\n",
            "EarlyStopping counter: 1 out of 10\n",
            "Training accuracy 30.22, test accuracy 36.56\n",
            "Training loss 0.0295574054479599, test loss 0.027746559143066406\n",
            "\n"
          ]
        },
        {
          "name": "stderr",
          "output_type": "stream",
          "text": [
            "100%|██████████| 78/78 [00:02<00:00, 31.16it/s, Loss=1.899845]\n"
          ]
        },
        {
          "name": "stdout",
          "output_type": "stream",
          "text": [
            "\n",
            "Train Epoch: 17, elapsed time:2.50s\n",
            "EarlyStopping counter: 2 out of 10\n",
            "Training accuracy 30.34, test accuracy 36.16\n",
            "Training loss 0.029637574553489685, test loss 0.02808180342912674\n",
            "\n"
          ]
        },
        {
          "name": "stderr",
          "output_type": "stream",
          "text": [
            "100%|██████████| 78/78 [00:02<00:00, 31.24it/s, Loss=1.904728]\n"
          ]
        },
        {
          "name": "stdout",
          "output_type": "stream",
          "text": [
            "\n",
            "Train Epoch: 18, elapsed time:2.50s\n",
            "EarlyStopping counter: 3 out of 10\n",
            "Training accuracy 30.4, test accuracy 36.16\n",
            "Training loss 0.029713760137557985, test loss 0.027906868553161622\n",
            "\n"
          ]
        },
        {
          "name": "stderr",
          "output_type": "stream",
          "text": [
            "100%|██████████| 78/78 [00:02<00:00, 31.35it/s, Loss=1.890190]\n"
          ]
        },
        {
          "name": "stdout",
          "output_type": "stream",
          "text": [
            "\n",
            "Train Epoch: 19, elapsed time:2.49s\n",
            "EarlyStopping counter: 4 out of 10\n",
            "Training accuracy 30.32, test accuracy 36.13\n",
            "Training loss 0.02948696177005768, test loss 0.02875060430765152\n",
            "\n"
          ]
        },
        {
          "name": "stderr",
          "output_type": "stream",
          "text": [
            "100%|██████████| 78/78 [00:02<00:00, 31.13it/s, Loss=1.908844]\n"
          ]
        },
        {
          "name": "stdout",
          "output_type": "stream",
          "text": [
            "\n",
            "Train Epoch: 20, elapsed time:2.51s\n",
            "EarlyStopping counter: 5 out of 10\n",
            "Training accuracy 30.82, test accuracy 36.2\n",
            "Training loss 0.02977796998023987, test loss 0.027987279176712038\n",
            "\n"
          ]
        },
        {
          "name": "stderr",
          "output_type": "stream",
          "text": [
            "100%|██████████| 78/78 [00:02<00:00, 29.95it/s, Loss=1.894312]\n"
          ]
        },
        {
          "name": "stdout",
          "output_type": "stream",
          "text": [
            "\n",
            "Train Epoch: 21, elapsed time:2.61s\n",
            "EarlyStopping counter: 6 out of 10\n",
            "Training accuracy 30.82, test accuracy 37.14\n",
            "Training loss 0.02955126829147339, test loss 0.027870727825164796\n",
            "\n"
          ]
        },
        {
          "name": "stderr",
          "output_type": "stream",
          "text": [
            "100%|██████████| 78/78 [00:02<00:00, 27.54it/s, Loss=1.891139]\n"
          ]
        },
        {
          "name": "stdout",
          "output_type": "stream",
          "text": [
            "\n",
            "Train Epoch: 22, elapsed time:2.83s\n",
            "EarlyStopping counter: 7 out of 10\n",
            "Training accuracy 30.04, test accuracy 35.44\n",
            "Training loss 0.029501763224601747, test loss 0.0295434597492218\n",
            "\n"
          ]
        },
        {
          "name": "stderr",
          "output_type": "stream",
          "text": [
            "100%|██████████| 78/78 [00:02<00:00, 31.24it/s, Loss=1.883974]\n"
          ]
        },
        {
          "name": "stdout",
          "output_type": "stream",
          "text": [
            "\n",
            "Train Epoch: 23, elapsed time:2.50s\n",
            "EarlyStopping counter: 8 out of 10\n",
            "Training accuracy 30.42, test accuracy 36.69\n",
            "Training loss 0.029389991211891175, test loss 0.027956172728538512\n",
            "\n"
          ]
        },
        {
          "name": "stderr",
          "output_type": "stream",
          "text": [
            "100%|██████████| 78/78 [00:02<00:00, 28.02it/s, Loss=1.873440]\n"
          ]
        },
        {
          "name": "stdout",
          "output_type": "stream",
          "text": [
            "\n",
            "Train Epoch: 24, elapsed time:2.79s\n",
            "EarlyStopping counter: 9 out of 10\n",
            "Training accuracy 31.42, test accuracy 35.43\n",
            "Training loss 0.029225661420822144, test loss 0.03302633550167084\n",
            "\n"
          ]
        },
        {
          "name": "stderr",
          "output_type": "stream",
          "text": [
            "100%|██████████| 78/78 [00:02<00:00, 31.26it/s, Loss=1.889236]\n"
          ]
        },
        {
          "name": "stdout",
          "output_type": "stream",
          "text": [
            "\n",
            "Train Epoch: 25, elapsed time:2.50s\n",
            "EarlyStopping counter: 10 out of 10\n",
            "\n",
            "Early stopping\n",
            "\n"
          ]
        }
      ],
      "source": [
        "# Defining parameters for training\n",
        "self_supervised_model_path = \"self_supervised_model.pt\"\n",
        "self_supervised_train_info_path = \"train_info_path_for_self_supervised.pkl\"\n",
        "epochs = 100\n",
        "criterion = nn.CrossEntropyLoss()\n",
        "optimizer = Adam(self_supervised_model.parameters())\n",
        "early_stopping = EarlyStopping(patience=10, delta=0.0001, path=self_supervised_model_path)\n",
        "\n",
        "# Training model\n",
        "train_accuracies, test_accuracies, train_losses, test_losses = self_supervised_training(self_supervised_model, train_data_loader_for_self_supervised, test_data_loader_for_self_supervised, epochs, criterion, optimizer, early_stopping, device, self_supervised_model_path, self_supervised_train_info_path)"
      ]
    },
    {
      "cell_type": "code",
      "execution_count": null,
      "metadata": {
        "id": "4V6Jj3F7MdzH",
        "outputId": "47b9b25a-ebe6-4659-c4de-26662e63b7d2"
      },
      "outputs": [
        {
          "data": {
            "image/png": "[encoded data removed]",
            "text/plain": [
              "<Figure size 1000x500 with 1 Axes>"
            ]
          },
          "metadata": {},
          "output_type": "display_data"
        },
        {
          "data": {
            "image/png": "[encoded data removed]",
            "text/plain": [
              "<Figure size 1000x500 with 1 Axes>"
            ]
          },
          "metadata": {},
          "output_type": "display_data"
        }
      ],
      "source": [
        "# Plot accuracies\n",
        "plt.figure(figsize=(10, 5))\n",
        "plt.plot(train_accuracies, label='Train Accuracy', color='blue', linestyle='-')\n",
        "plt.plot(test_accuracies, label='Test Accuracy', color='orange', linestyle='--')\n",
        "plt.title('Train and Test Accuracies')\n",
        "plt.xlabel('Epoch')\n",
        "plt.ylabel('Accuracy')\n",
        "plt.legend()\n",
        "plt.grid(True, linestyle='--', alpha=0.7, linewidth=0.5, color='gray')\n",
        "plt.gca().set_facecolor('#f0f0f0')\n",
        "plt.show()\n",
        "\n",
        "# Plot losses\n",
        "plt.figure(figsize=(10, 5))\n",
        "plt.plot(train_losses, label='Train Loss', color='blue', linestyle='-')\n",
        "plt.plot(test_losses, label='Test Loss', color='orange', linestyle='--')\n",
        "plt.title('Train and Test Losses')\n",
        "plt.xlabel('Epoch')\n",
        "plt.ylabel('Loss')\n",
        "plt.legend()\n",
        "plt.grid(True, linestyle='--', alpha=0.7, linewidth=0.5, color='gray')\n",
        "plt.gca().set_facecolor('#f0f0f0')\n",
        "plt.show()"
      ]
    },
    {
      "cell_type": "code",
      "execution_count": null,
      "metadata": {
        "id": "6d5IEMAVMdzI",
        "outputId": "66d2372e-0682-4991-9dc5-ea78a7a73121"
      },
      "outputs": [
        {
          "name": "stdout",
          "output_type": "stream",
          "text": [
            "Test loss: 0.027800586092472077, Accuracy: 36.5\n"
          ]
        }
      ],
      "source": [
        "# Calculate loss and accuracy of the self supervised model\n",
        "test_loss, accuracy = self_supervised_test(self_supervised_model, device, test_data_loader_for_self_supervised, criterion)\n",
        "print(f\"Test loss: {test_loss}, Accuracy: {accuracy}\")"
      ]
    },
    {
      "cell_type": "markdown",
      "metadata": {
        "id": "mSeIRmBK9PI2"
      },
      "source": [
        "## Task 3. Auxiliary learning [12 pts]"
      ]
    },
    {
      "cell_type": "code",
      "execution_count": null,
      "metadata": {
        "id": "dnl7GOISMdzI"
      },
      "outputs": [],
      "source": [
        "# Assign the same data loaders for training and test datasets as for self supervised model\n",
        "train_data_loader_for_auxiliary = train_data_loader_for_self_supervised\n",
        "test_data_loader_for_auxiliary = test_data_loader_for_self_supervised"
      ]
    },
    {
      "cell_type": "code",
      "execution_count": null,
      "metadata": {
        "id": "LG3f3RYkMdzI",
        "outputId": "c810c04f-96de-494f-e9c7-6bab541f5706"
      },
      "outputs": [
        {
          "name": "stdout",
          "output_type": "stream",
          "text": [
            "AuxiliaryLearningModel(\n",
            "  (encoder): Sequential(\n",
            "    (0): Conv2d(3, 256, kernel_size=(3, 3), stride=(1, 1), padding=(1, 1))\n",
            "    (1): ReLU()\n",
            "    (2): MaxPool2d(kernel_size=2, stride=2, padding=0, dilation=1, ceil_mode=False)\n",
            "    (3): Dropout(p=0.4, inplace=False)\n",
            "    (4): BatchNorm2d(256, eps=1e-05, momentum=0.1, affine=True, track_running_stats=True)\n",
            "    (5): Conv2d(256, 128, kernel_size=(3, 3), stride=(1, 1), padding=(1, 1))\n",
            "    (6): ReLU()\n",
            "    (7): Dropout(p=0.4, inplace=False)\n",
            "    (8): BatchNorm2d(128, eps=1e-05, momentum=0.1, affine=True, track_running_stats=True)\n",
            "    (9): Conv2d(128, 64, kernel_size=(3, 3), stride=(1, 1), padding=(1, 1))\n",
            "    (10): ReLU()\n",
            "    (11): Dropout(p=0.4, inplace=False)\n",
            "    (12): BatchNorm2d(64, eps=1e-05, momentum=0.1, affine=True, track_running_stats=True)\n",
            "  )\n",
            "  (decoder): Sequential(\n",
            "    (0): ConvTranspose2d(64, 128, kernel_size=(3, 3), stride=(1, 1), padding=(1, 1))\n",
            "    (1): ReLU()\n",
            "    (2): Upsample(scale_factor=2.0, mode='nearest')\n",
            "    (3): Dropout(p=0.2, inplace=False)\n",
            "    (4): BatchNorm2d(128, eps=1e-05, momentum=0.1, affine=True, track_running_stats=True)\n",
            "    (5): ConvTranspose2d(128, 256, kernel_size=(3, 3), stride=(1, 1), padding=(1, 1))\n",
            "    (6): ReLU()\n",
            "    (7): Dropout(p=0.3, inplace=False)\n",
            "    (8): BatchNorm2d(256, eps=1e-05, momentum=0.1, affine=True, track_running_stats=True)\n",
            "    (9): Conv2d(256, 3, kernel_size=(3, 3), stride=(1, 1), padding=(1, 1))\n",
            "    (10): Sigmoid()\n",
            "  )\n",
            "  (classifier): Sequential(\n",
            "    (0): Linear(in_features=16384, out_features=512, bias=True)\n",
            "    (1): ReLU()\n",
            "    (2): Dropout(p=0.4, inplace=False)\n",
            "    (3): BatchNorm1d(512, eps=1e-05, momentum=0.1, affine=True, track_running_stats=True)\n",
            "    (4): Linear(in_features=512, out_features=256, bias=True)\n",
            "    (5): ReLU()\n",
            "    (6): Dropout(p=0.3, inplace=False)\n",
            "    (7): BatchNorm1d(256, eps=1e-05, momentum=0.1, affine=True, track_running_stats=True)\n",
            "    (8): Linear(in_features=256, out_features=128, bias=True)\n",
            "    (9): ReLU()\n",
            "    (10): Dropout(p=0.35, inplace=False)\n",
            "    (11): BatchNorm1d(128, eps=1e-05, momentum=0.1, affine=True, track_running_stats=True)\n",
            "    (12): Linear(in_features=128, out_features=64, bias=True)\n",
            "    (13): ReLU()\n",
            "    (14): Dropout(p=0.4, inplace=False)\n",
            "    (15): BatchNorm1d(64, eps=1e-05, momentum=0.1, affine=True, track_running_stats=True)\n",
            "    (16): Linear(in_features=64, out_features=10, bias=True)\n",
            "  )\n",
            ")\n"
          ]
        }
      ],
      "source": [
        "# Define the auxiliary learning model\n",
        "class AuxiliaryLearningModel(nn.Module):\n",
        "    def __init__(self):\n",
        "        super(AuxiliaryLearningModel, self).__init__()\n",
        "        # Encoder layers\n",
        "        self.encoder = nn.Sequential(\n",
        "            nn.Conv2d(3, 256, kernel_size=3, stride=1, padding=1),\n",
        "            nn.ReLU(),\n",
        "            nn.MaxPool2d(kernel_size=2, stride=2),\n",
        "            nn.Dropout(0.4),\n",
        "            nn.BatchNorm2d(256),\n",
        "\n",
        "            nn.Conv2d(256, 128, kernel_size=3, stride=1, padding=1),\n",
        "            nn.ReLU(),\n",
        "            nn.Dropout(0.4),\n",
        "            nn.BatchNorm2d(128),\n",
        "\n",
        "            nn.Conv2d(128, 64, kernel_size=3, stride=1, padding=1),\n",
        "            nn.ReLU(),\n",
        "            nn.Dropout(0.4),\n",
        "            nn.BatchNorm2d(64),\n",
        "\n",
        "        )\n",
        "        # Decoder layers\n",
        "        self.decoder = nn.Sequential(\n",
        "            nn.ConvTranspose2d(64, 128, kernel_size=3, stride=1, padding=1),\n",
        "            nn.ReLU(),\n",
        "            nn.Upsample(scale_factor=2, mode='nearest'),\n",
        "            nn.Dropout(0.2),\n",
        "            nn.BatchNorm2d(128),\n",
        "\n",
        "            nn.ConvTranspose2d(128, 256, kernel_size=3, stride=1, padding=1),\n",
        "            nn.ReLU(),\n",
        "            nn.Dropout(0.3),\n",
        "            nn.BatchNorm2d(256),\n",
        "\n",
        "            nn.Conv2d(256, 3, kernel_size=3, stride=1, padding=1),\n",
        "            nn.Sigmoid()\n",
        "        )\n",
        "\n",
        "        # Classifier\n",
        "        self.classifier = nn.Sequential(\n",
        "            nn.Linear(in_features=64 * 16 * 16, out_features=512),\n",
        "            nn.ReLU(),\n",
        "            nn.Dropout(p=0.4),\n",
        "            nn.BatchNorm1d(512),\n",
        "\n",
        "            nn.Linear(in_features=512, out_features=256),\n",
        "            nn.ReLU(),\n",
        "            nn.Dropout(p=0.3),\n",
        "            nn.BatchNorm1d(256),\n",
        "\n",
        "            nn.Linear(in_features=256, out_features=128),\n",
        "            nn.ReLU(),\n",
        "            nn.Dropout(p=0.35),\n",
        "            nn.BatchNorm1d(128),\n",
        "\n",
        "            nn.Linear(in_features=128, out_features=64),\n",
        "            nn.ReLU(),\n",
        "            nn.Dropout(p=0.4),\n",
        "            nn.BatchNorm1d(64),\n",
        "            nn.Linear(in_features=64, out_features=10)\n",
        "        )\n",
        "\n",
        "    def forward(self, x):\n",
        "        # Pass the input through the encoder\n",
        "        encoded_x = self.encoder(x)\n",
        "\n",
        "        # Pass the encoded features through the classifier for classification\n",
        "        classification_output = self.classifier(torch.flatten(encoded_x, start_dim=1))\n",
        "\n",
        "        # Pass the encoded features through the decoder for reconstruction\n",
        "        reconstructed_x = self.decoder(encoded_x)\n",
        "\n",
        "        return F.log_softmax(classification_output, dim=1), reconstructed_x\n",
        "\n",
        "# Create an instance of the AuxiliaryLearningModel and move it to the selected device\n",
        "auxiliary_model = AuxiliaryLearningModel().to(device)\n",
        "print(auxiliary_model)"
      ]
    },
    {
      "cell_type": "code",
      "execution_count": null,
      "metadata": {
        "id": "GZvy4ivwMdzI"
      },
      "outputs": [],
      "source": [
        "# Modified functions from Lab 10 used for train and test\n",
        "def auxiliary_train(model, device, train_loader, criterion_classification, criterion_reconstruction, optimizer, epoch):\n",
        "    model.train()\n",
        "    epoch_loss_classification = 0\n",
        "    epoch_loss_reconstruction = 0\n",
        "    epoch_loss_combined = 0\n",
        "    start_time = time()\n",
        "    correct = 0\n",
        "    iteration = 0\n",
        "\n",
        "    bar = tqdm(train_loader)\n",
        "    for data, target in bar:\n",
        "        data, target = data.to(device), target.to(device)\n",
        "        optimizer.zero_grad()\n",
        "\n",
        "        classification_output, reconstruction_output = model(data)\n",
        "\n",
        "        # Calculate losses\n",
        "        classification_loss = criterion_classification(classification_output, target)\n",
        "        reconstruction_loss = criterion_reconstruction(reconstruction_output, data)\n",
        "        combined_loss = 0.7 * classification_loss + 0.3 * reconstruction_loss\n",
        "\n",
        "        # Backpropagation\n",
        "        combined_loss.backward()\n",
        "        optimizer.step()\n",
        "\n",
        "        # Accumulate losses and correct predictions\n",
        "        epoch_loss_classification += classification_loss.item()\n",
        "        epoch_loss_reconstruction += reconstruction_loss.item()\n",
        "        epoch_loss_combined += combined_loss.item()\n",
        "\n",
        "        pred = classification_output.argmax(dim=1, keepdim=True)\n",
        "        correct += pred.eq(target.view_as(pred)).sum().item()\n",
        "        iteration += 1\n",
        "\n",
        "        bar.set_postfix({\"Classification Loss\": format(epoch_loss_classification/iteration, '.6f'),\n",
        "                         \"Reconstruction Loss\": format(epoch_loss_reconstruction/iteration, '.6f'),\n",
        "                         \"Combined Loss\": format(epoch_loss_combined/iteration, '.6f')})\n",
        "\n",
        "    acc = 100. * correct / len(train_loader.dataset)\n",
        "    print(f'\\nTrain Epoch: {epoch}, elapsed time:{time()-start_time:.2f}s')\n",
        "    epoch_loss_classification /= len(train_loader.dataset)\n",
        "    epoch_loss_reconstruction /= len(train_loader.dataset)\n",
        "    epoch_loss_combined /= len(train_loader.dataset)\n",
        "\n",
        "    return epoch_loss_classification, epoch_loss_reconstruction, epoch_loss_combined, acc\n",
        "\n",
        "\n",
        "def auxiliary_test(model, device, test_loader, criterion_classification, criterion_reconstruction):\n",
        "    model.eval()\n",
        "    test_loss_classification = 0\n",
        "    test_loss_reconstruction = 0\n",
        "    test_loss_combined = 0\n",
        "    correct = 0\n",
        "\n",
        "    with torch.no_grad():\n",
        "        for data, target in test_loader:\n",
        "            data, target = data.to(device), target.to(device)\n",
        "            classification_output, reconstruction_output = model(data)\n",
        "\n",
        "            # Calculate losses\n",
        "            classification_loss = criterion_classification(classification_output, target)\n",
        "            reconstruction_loss = criterion_reconstruction(reconstruction_output, data)\n",
        "            combined_loss = 0.7 * classification_loss + 0.3 * reconstruction_loss\n",
        "\n",
        "            # Accumulate losses and correct predictions\n",
        "            test_loss_classification += classification_loss.item()\n",
        "            test_loss_reconstruction += reconstruction_loss.item()\n",
        "            test_loss_combined += combined_loss.item()\n",
        "\n",
        "            pred = classification_output.argmax(dim=1, keepdim=True)  # get the index of the max log-probability\n",
        "            correct += pred.eq(target.view_as(pred)).sum().item()\n",
        "\n",
        "    # Average losses and accuracy\n",
        "    test_loss_classification /= len(test_loader.dataset)\n",
        "    test_loss_reconstruction /= len(test_loader.dataset)\n",
        "    test_loss_combined /= len(test_loader.dataset)\n",
        "    acc = 100. * correct / len(test_loader.dataset)\n",
        "\n",
        "    return test_loss_classification, test_loss_reconstruction, test_loss_combined, acc\n"
      ]
    },
    {
      "cell_type": "code",
      "execution_count": null,
      "metadata": {
        "id": "XAPXrsJ1MdzI"
      },
      "outputs": [],
      "source": [
        "# Modified function from Lab 10 used for training\n",
        "def auxiliary_training(model, train_data_loader, test_data_loader, epochs, criterion_classification, criterion_reconstruction, optimizer, early_stopping, device, save_path, train_info_path):\n",
        "\n",
        "    # Check if model already exists\n",
        "    if save_path and os.path.exists(save_path):\n",
        "        print(f\"File already exists at {save_path}. Model not trained, loaded from file.\")\n",
        "        model_state_dict = torch.load(save_path, map_location=device)\n",
        "        model.load_state_dict(model_state_dict)\n",
        "\n",
        "        # Load training information from file\n",
        "        with open( train_info_path, 'rb') as info_file:\n",
        "            train_accuracies, test_accuracies, train_losses_classification, train_losses_reconstruction, train_losses_combined, test_losses_classification, test_losses_reconstruction, test_losses_combined  = pickle.load(info_file)\n",
        "\n",
        "        return train_accuracies, test_accuracies, train_losses_classification, train_losses_reconstruction, train_losses_combined, test_losses_classification, test_losses_reconstruction, test_losses_combined\n",
        "\n",
        "    train_accuracies, test_accuracies, train_losses_classification, train_losses_reconstruction, train_losses_combined, test_losses_classification, test_losses_reconstruction, test_losses_combined = [], [], [], [], [], [], [], []\n",
        "\n",
        "    for epoch in range(1, epochs + 1):\n",
        "        train_loss_cl, train_loss_re, train_loss_co, train_acc = auxiliary_train(model, device, train_data_loader, criterion_classification, criterion_reconstruction, optimizer, epoch)\n",
        "        test_loss_cl, test_loss_re, test_loss_co, test_acc = auxiliary_test(model, device, test_data_loader, criterion_classification, criterion_reconstruction)\n",
        "        # Terminate training if loss stopped to decrease\n",
        "        if early_stopping(test_loss_co, model):\n",
        "            print('\\nEarly stopping\\n')\n",
        "            break\n",
        "\n",
        "        train_accuracies.append(train_acc)\n",
        "        train_losses_classification.append(train_loss_cl)\n",
        "        train_losses_reconstruction.append(train_loss_re)\n",
        "        train_losses_combined.append(train_loss_co)\n",
        "\n",
        "        test_accuracies.append(test_acc)\n",
        "        test_losses_classification.append(test_loss_cl)\n",
        "        test_losses_reconstruction.append(test_loss_re)\n",
        "        test_losses_combined.append(test_loss_co)\n",
        "\n",
        "        print(f\"Train accuracy: {train_acc:.2f}%, Test accuracy: {test_acc:.2f}%\")\n",
        "        print(f\"Train loss (Classification): {train_loss_cl:.4f}, Train loss (Reconstruction): {train_loss_re:.4f}, Train loss (Combined): {train_loss_co:.4f}\")\n",
        "        print(f\"Test loss (Classification): {test_loss_cl:.4f}, Test loss (Reconstruction): {test_loss_re:.4f}, Test loss (Combined): {test_loss_co:.4f}\\n\")\n",
        "\n",
        "    with open(train_info_path, 'wb') as info_file:\n",
        "        pickle.dump([train_accuracies, test_accuracies, train_losses_classification, train_losses_reconstruction, train_losses_combined, test_losses_classification, test_losses_reconstruction, test_losses_combined], info_file)\n",
        "\n",
        "    return train_accuracies, test_accuracies, train_losses_classification, train_losses_reconstruction, train_losses_combined, test_losses_classification, test_losses_reconstruction, test_losses_combined"
      ]
    },
    {
      "cell_type": "code",
      "execution_count": null,
      "metadata": {
        "id": "MACG9q4DMdzJ",
        "outputId": "54858d32-af6b-4a28-e5fd-60ea882c0176"
      },
      "outputs": [
        {
          "name": "stderr",
          "output_type": "stream",
          "text": [
            "100%|██████████| 78/78 [00:35<00:00,  2.17it/s, Classification Loss=1.734517, Reconstruction Loss=1.597146, Combined Loss=1.693305]\n"
          ]
        },
        {
          "name": "stdout",
          "output_type": "stream",
          "text": [
            "\n",
            "Train Epoch: 1, elapsed time:35.92s\n",
            "Train accuracy: 37.00%, Test accuracy: 42.45%\n",
            "Train loss (Classification): 0.0271, Train loss (Reconstruction): 0.0249, Train loss (Combined): 0.0264\n",
            "Test loss (Classification): 0.0252, Test loss (Reconstruction): 0.0102, Test loss (Combined): 0.0207\n",
            "\n"
          ]
        },
        {
          "name": "stderr",
          "output_type": "stream",
          "text": [
            "100%|██████████| 78/78 [00:26<00:00,  2.91it/s, Classification Loss=1.701825, Reconstruction Loss=1.603606, Combined Loss=1.672359]\n"
          ]
        },
        {
          "name": "stdout",
          "output_type": "stream",
          "text": [
            "\n",
            "Train Epoch: 2, elapsed time:26.84s\n",
            "EarlyStopping counter: 1 out of 5\n",
            "Train accuracy: 38.48%, Test accuracy: 39.92%\n",
            "Train loss (Classification): 0.0265, Train loss (Reconstruction): 0.0250, Train loss (Combined): 0.0261\n",
            "Test loss (Classification): 0.0262, Test loss (Reconstruction): 0.0102, Test loss (Combined): 0.0214\n",
            "\n"
          ]
        },
        {
          "name": "stderr",
          "output_type": "stream",
          "text": [
            "100%|██████████| 78/78 [00:28<00:00,  2.73it/s, Classification Loss=1.685279, Reconstruction Loss=1.596460, Combined Loss=1.658633]\n"
          ]
        },
        {
          "name": "stdout",
          "output_type": "stream",
          "text": [
            "\n",
            "Train Epoch: 3, elapsed time:28.54s\n",
            "Train accuracy: 39.00%, Test accuracy: 44.56%\n",
            "Train loss (Classification): 0.0263, Train loss (Reconstruction): 0.0249, Train loss (Combined): 0.0259\n",
            "Test loss (Classification): 0.0244, Test loss (Reconstruction): 0.0103, Test loss (Combined): 0.0201\n",
            "\n"
          ]
        },
        {
          "name": "stderr",
          "output_type": "stream",
          "text": [
            "100%|██████████| 78/78 [00:26<00:00,  2.96it/s, Classification Loss=1.661132, Reconstruction Loss=1.586498, Combined Loss=1.638742]\n"
          ]
        },
        {
          "name": "stdout",
          "output_type": "stream",
          "text": [
            "\n",
            "Train Epoch: 4, elapsed time:26.39s\n",
            "EarlyStopping counter: 1 out of 5\n",
            "Train accuracy: 39.94%, Test accuracy: 43.38%\n",
            "Train loss (Classification): 0.0259, Train loss (Reconstruction): 0.0247, Train loss (Combined): 0.0256\n",
            "Test loss (Classification): 0.0252, Test loss (Reconstruction): 0.0102, Test loss (Combined): 0.0207\n",
            "\n"
          ]
        },
        {
          "name": "stderr",
          "output_type": "stream",
          "text": [
            "100%|██████████| 78/78 [00:24<00:00,  3.15it/s, Classification Loss=1.664338, Reconstruction Loss=1.602070, Combined Loss=1.645658]\n"
          ]
        },
        {
          "name": "stdout",
          "output_type": "stream",
          "text": [
            "\n",
            "Train Epoch: 5, elapsed time:24.76s\n",
            "Train accuracy: 39.84%, Test accuracy: 46.01%\n",
            "Train loss (Classification): 0.0260, Train loss (Reconstruction): 0.0250, Train loss (Combined): 0.0257\n",
            "Test loss (Classification): 0.0236, Test loss (Reconstruction): 0.0102, Test loss (Combined): 0.0196\n",
            "\n"
          ]
        },
        {
          "name": "stderr",
          "output_type": "stream",
          "text": [
            "100%|██████████| 78/78 [00:25<00:00,  3.12it/s, Classification Loss=1.665572, Reconstruction Loss=1.595846, Combined Loss=1.644654]\n"
          ]
        },
        {
          "name": "stdout",
          "output_type": "stream",
          "text": [
            "\n",
            "Train Epoch: 6, elapsed time:25.01s\n",
            "EarlyStopping counter: 1 out of 5\n",
            "Train accuracy: 40.66%, Test accuracy: 44.74%\n",
            "Train loss (Classification): 0.0260, Train loss (Reconstruction): 0.0249, Train loss (Combined): 0.0257\n",
            "Test loss (Classification): 0.0247, Test loss (Reconstruction): 0.0102, Test loss (Combined): 0.0204\n",
            "\n"
          ]
        },
        {
          "name": "stderr",
          "output_type": "stream",
          "text": [
            "100%|██████████| 78/78 [00:26<00:00,  2.91it/s, Classification Loss=1.659432, Reconstruction Loss=1.581392, Combined Loss=1.636020]\n"
          ]
        },
        {
          "name": "stdout",
          "output_type": "stream",
          "text": [
            "\n",
            "Train Epoch: 7, elapsed time:26.80s\n",
            "EarlyStopping counter: 2 out of 5\n",
            "Train accuracy: 40.34%, Test accuracy: 42.96%\n",
            "Train loss (Classification): 0.0259, Train loss (Reconstruction): 0.0247, Train loss (Combined): 0.0255\n",
            "Test loss (Classification): 0.0265, Test loss (Reconstruction): 0.0102, Test loss (Combined): 0.0216\n",
            "\n"
          ]
        },
        {
          "name": "stderr",
          "output_type": "stream",
          "text": [
            "100%|██████████| 78/78 [00:25<00:00,  3.11it/s, Classification Loss=1.658646, Reconstruction Loss=1.594461, Combined Loss=1.639391]\n"
          ]
        },
        {
          "name": "stdout",
          "output_type": "stream",
          "text": [
            "\n",
            "Train Epoch: 8, elapsed time:25.08s\n",
            "EarlyStopping counter: 3 out of 5\n",
            "Train accuracy: 40.48%, Test accuracy: 45.84%\n",
            "Train loss (Classification): 0.0259, Train loss (Reconstruction): 0.0249, Train loss (Combined): 0.0256\n",
            "Test loss (Classification): 0.0238, Test loss (Reconstruction): 0.0101, Test loss (Combined): 0.0197\n",
            "\n"
          ]
        },
        {
          "name": "stderr",
          "output_type": "stream",
          "text": [
            "100%|██████████| 78/78 [00:25<00:00,  3.10it/s, Classification Loss=1.622866, Reconstruction Loss=1.582138, Combined Loss=1.610648]\n"
          ]
        },
        {
          "name": "stdout",
          "output_type": "stream",
          "text": [
            "\n",
            "Train Epoch: 9, elapsed time:25.19s\n",
            "EarlyStopping counter: 4 out of 5\n",
            "Train accuracy: 41.24%, Test accuracy: 45.26%\n",
            "Train loss (Classification): 0.0253, Train loss (Reconstruction): 0.0247, Train loss (Combined): 0.0251\n",
            "Test loss (Classification): 0.0245, Test loss (Reconstruction): 0.0101, Test loss (Combined): 0.0202\n",
            "\n"
          ]
        },
        {
          "name": "stderr",
          "output_type": "stream",
          "text": [
            "100%|██████████| 78/78 [00:23<00:00,  3.26it/s, Classification Loss=1.670273, Reconstruction Loss=1.597933, Combined Loss=1.648571]\n"
          ]
        },
        {
          "name": "stdout",
          "output_type": "stream",
          "text": [
            "\n",
            "Train Epoch: 10, elapsed time:23.95s\n",
            "EarlyStopping counter: 5 out of 5\n",
            "\n",
            "Early stopping\n",
            "\n"
          ]
        }
      ],
      "source": [
        "# Defining parameters for training\n",
        "auxiliary_model_path = \"auxiliary_model.pt\"\n",
        "auxiliary_train_info_path = \"train_info_path_for_auxiliary.pkl\"\n",
        "epochs = 50\n",
        "criterion_classification = nn.CrossEntropyLoss()\n",
        "criterion_reconstruction = nn.MSELoss()\n",
        "optimizer = Adam(auxiliary_model.parameters())\n",
        "early_stopping = EarlyStopping(patience=5, path=auxiliary_model_path)\n",
        "\n",
        "# Training model\n",
        "train_accuracies, test_accuracies, train_losses_classification, train_losses_reconstruction, train_losses_combined, test_losses_classification, test_losses_reconstruction, test_losses_combined  = auxiliary_training(auxiliary_model, train_data_loader_for_auxiliary, test_data_loader_for_auxiliary, epochs, criterion_classification, criterion_reconstruction, optimizer, early_stopping, device, auxiliary_model_path, auxiliary_train_info_path)"
      ]
    },
    {
      "cell_type": "code",
      "execution_count": null,
      "metadata": {
        "id": "Y1nlNE00MdzJ",
        "outputId": "f6d985b5-aab4-486f-a434-64b1981fb7b0"
      },
      "outputs": [
        {
          "data": {
            "image/png": "[encoded data removed]",
            "text/plain": [
              "<Figure size 1000x500 with 1 Axes>"
            ]
          },
          "metadata": {},
          "output_type": "display_data"
        },
        {
          "data": {
            "image/png": "[encoded data removed]",
            "text/plain": [
              "<Figure size 1000x500 with 1 Axes>"
            ]
          },
          "metadata": {},
          "output_type": "display_data"
        }
      ],
      "source": [
        "# Plot accuracies\n",
        "plt.figure(figsize=(10, 5))\n",
        "plt.plot(train_accuracies, label='train accuracy', color='blue', linestyle='-')\n",
        "plt.plot(test_accuracies, label='test accuracy', color='orange', linestyle='--')\n",
        "plt.title('Train and Test Accuracies')\n",
        "plt.xlabel('Epoch')\n",
        "plt.ylabel('Accuracy')\n",
        "plt.legend()\n",
        "plt.grid(True, linestyle='--', alpha=0.7, linewidth=0.5, color='gray')\n",
        "plt.gca().set_facecolor('#f0f0f0')\n",
        "plt.show()\n",
        "\n",
        "# Define beautiful colors (shades of blue for train losses and shades of orange for test losses)\n",
        "train_colors = [plt.cm.Blues(i) for i in np.linspace(0.4, 1, 3)]\n",
        "test_colors = [plt.cm.Oranges(i) for i in np.linspace(0.4, 1, 3)]\n",
        "\n",
        "# Plot losses\n",
        "plt.figure(figsize=(10, 5))\n",
        "plt.plot(train_losses_classification, label='train classification loss', color=train_colors[0], linestyle='-')\n",
        "plt.plot(train_losses_reconstruction, label='train reconstruction loss', color=train_colors[1], linestyle='-')\n",
        "plt.plot(train_losses_combined, label='train combined loss', color=train_colors[2], linestyle='-')\n",
        "plt.plot(test_losses_classification, label='test classification loss', color=test_colors[0], linestyle='--')\n",
        "plt.plot(test_losses_reconstruction, label='test reconstruction loss', color=test_colors[1], linestyle='--')\n",
        "plt.plot(test_losses_combined, label='test combined loss', color=test_colors[2], linestyle='--')\n",
        "plt.title('Train and Test Losses')\n",
        "plt.xlabel('Epoch')\n",
        "plt.ylabel('Loss')\n",
        "plt.legend()\n",
        "plt.grid(True, linestyle='--', alpha=0.7, linewidth=0.5, color='gray')\n",
        "plt.gca().set_facecolor('#f0f0f0')\n",
        "plt.show()\n"
      ]
    },
    {
      "cell_type": "code",
      "execution_count": null,
      "metadata": {
        "id": "161x-pUlMdzJ",
        "outputId": "d693cb27-f02b-4406-c681-008e46e0b48a"
      },
      "outputs": [
        {
          "name": "stdout",
          "output_type": "stream",
          "text": [
            "Test loss (Classification): 0.0243, Test loss (Reconstruction): 0.0102, Test loss (Combined): 0.0201, Accuracy: 44.9900\n",
            "\n"
          ]
        }
      ],
      "source": [
        "test_loss_classification, test_loss_reconstruction, test_loss_combined, acc = auxiliary_test(auxiliary_model, device, test_data_loader_for_self_supervised, criterion_classification, criterion_reconstruction)\n",
        "print(f\"Test loss (Classification): {test_loss_classification:.4f}, Test loss (Reconstruction): {test_loss_reconstruction:.4f}, Test loss (Combined): {test_loss_combined:.4f}, Accuracy: {acc:.4f}\\n\")"
      ]
    },
    {
      "cell_type": "markdown",
      "metadata": {
        "id": "UeKqSM3s9gbD"
      },
      "source": [
        "## Task 4. Ensemble [6pts]"
      ]
    },
    {
      "cell_type": "code",
      "execution_count": null,
      "metadata": {
        "id": "hw9rpuh6MdzJ",
        "outputId": "865bb488-641a-4eb7-e50f-9bb6424a5b1b"
      },
      "outputs": [
        {
          "name": "stdout",
          "output_type": "stream",
          "text": [
            "Ensemble(\n",
            "  (base_model1): CustomModel(\n",
            "    (conv1): Sequential(\n",
            "      (0): Conv2d(3, 16, kernel_size=(3, 3), stride=(1, 1), padding=(1, 1))\n",
            "      (1): ReLU()\n",
            "      (2): MaxPool2d(kernel_size=2, stride=2, padding=0, dilation=1, ceil_mode=False)\n",
            "      (3): BatchNorm2d(16, eps=1e-05, momentum=0.1, affine=True, track_running_stats=True)\n",
            "      (4): Dropout(p=0.1, inplace=False)\n",
            "    )\n",
            "    (conv2): Sequential(\n",
            "      (0): Conv2d(16, 32, kernel_size=(3, 3), stride=(1, 1), padding=(1, 1))\n",
            "      (1): ReLU()\n",
            "      (2): MaxPool2d(kernel_size=2, stride=2, padding=0, dilation=1, ceil_mode=False)\n",
            "      (3): BatchNorm2d(32, eps=1e-05, momentum=0.1, affine=True, track_running_stats=True)\n",
            "      (4): Dropout(p=0.15, inplace=False)\n",
            "    )\n",
            "    (conv3): Sequential(\n",
            "      (0): Conv2d(32, 64, kernel_size=(3, 3), stride=(1, 1), padding=(1, 1))\n",
            "      (1): ReLU()\n",
            "      (2): MaxPool2d(kernel_size=2, stride=2, padding=0, dilation=1, ceil_mode=False)\n",
            "      (3): BatchNorm2d(64, eps=1e-05, momentum=0.1, affine=True, track_running_stats=True)\n",
            "      (4): Dropout(p=0.2, inplace=False)\n",
            "    )\n",
            "    (conv4): Sequential(\n",
            "      (0): Conv2d(64, 128, kernel_size=(3, 3), stride=(1, 1), padding=(1, 1))\n",
            "      (1): ReLU()\n",
            "      (2): MaxPool2d(kernel_size=2, stride=2, padding=0, dilation=1, ceil_mode=False)\n",
            "      (3): BatchNorm2d(128, eps=1e-05, momentum=0.1, affine=True, track_running_stats=True)\n",
            "      (4): Dropout(p=0.25, inplace=False)\n",
            "    )\n",
            "    (fc1): Sequential(\n",
            "      (0): Linear(in_features=512, out_features=512, bias=True)\n",
            "      (1): ReLU()\n",
            "      (2): BatchNorm1d(512, eps=1e-05, momentum=0.1, affine=True, track_running_stats=True)\n",
            "      (3): Dropout(p=0.3, inplace=False)\n",
            "    )\n",
            "    (fc2): Sequential(\n",
            "      (0): Linear(in_features=512, out_features=256, bias=True)\n",
            "      (1): ReLU()\n",
            "      (2): BatchNorm1d(256, eps=1e-05, momentum=0.1, affine=True, track_running_stats=True)\n",
            "      (3): Dropout(p=0.4, inplace=False)\n",
            "    )\n",
            "    (fc3): Linear(in_features=256, out_features=10, bias=True)\n",
            "  )\n",
            "  (base_model2): SelfSupervisedModel(\n",
            "    (encoder): Sequential(\n",
            "      (0): Conv2d(3, 128, kernel_size=(3, 3), stride=(1, 1), padding=(1, 1))\n",
            "      (1): ReLU()\n",
            "      (2): MaxPool2d(kernel_size=2, stride=2, padding=0, dilation=1, ceil_mode=False)\n",
            "      (3): BatchNorm2d(128, eps=1e-05, momentum=0.1, affine=True, track_running_stats=True)\n",
            "      (4): Conv2d(128, 64, kernel_size=(3, 3), stride=(1, 1), padding=(1, 1))\n",
            "      (5): ReLU()\n",
            "      (6): MaxPool2d(kernel_size=2, stride=2, padding=0, dilation=1, ceil_mode=False)\n",
            "      (7): BatchNorm2d(64, eps=1e-05, momentum=0.1, affine=True, track_running_stats=True)\n",
            "      (8): Conv2d(64, 32, kernel_size=(3, 3), stride=(1, 1), padding=(1, 1))\n",
            "      (9): ReLU()\n",
            "      (10): BatchNorm2d(32, eps=1e-05, momentum=0.1, affine=True, track_running_stats=True)\n",
            "    )\n",
            "    (fc1): Sequential(\n",
            "      (0): Linear(in_features=2048, out_features=128, bias=True)\n",
            "      (1): ReLU()\n",
            "      (2): BatchNorm1d(128, eps=1e-05, momentum=0.1, affine=True, track_running_stats=True)\n",
            "      (3): Dropout(p=0.4, inplace=False)\n",
            "    )\n",
            "    (fc2): Sequential(\n",
            "      (0): Linear(in_features=128, out_features=64, bias=True)\n",
            "      (1): ReLU()\n",
            "      (2): BatchNorm1d(64, eps=1e-05, momentum=0.1, affine=True, track_running_stats=True)\n",
            "      (3): Dropout(p=0.4, inplace=False)\n",
            "    )\n",
            "    (fc3): Linear(in_features=64, out_features=10, bias=True)\n",
            "  )\n",
            "  (base_model3): AuxiliaryLearningModel(\n",
            "    (encoder): Sequential(\n",
            "      (0): Conv2d(3, 256, kernel_size=(3, 3), stride=(1, 1), padding=(1, 1))\n",
            "      (1): ReLU()\n",
            "      (2): MaxPool2d(kernel_size=2, stride=2, padding=0, dilation=1, ceil_mode=False)\n",
            "      (3): Dropout(p=0.4, inplace=False)\n",
            "      (4): BatchNorm2d(256, eps=1e-05, momentum=0.1, affine=True, track_running_stats=True)\n",
            "      (5): Conv2d(256, 128, kernel_size=(3, 3), stride=(1, 1), padding=(1, 1))\n",
            "      (6): ReLU()\n",
            "      (7): Dropout(p=0.4, inplace=False)\n",
            "      (8): BatchNorm2d(128, eps=1e-05, momentum=0.1, affine=True, track_running_stats=True)\n",
            "      (9): Conv2d(128, 64, kernel_size=(3, 3), stride=(1, 1), padding=(1, 1))\n",
            "      (10): ReLU()\n",
            "      (11): Dropout(p=0.4, inplace=False)\n",
            "      (12): BatchNorm2d(64, eps=1e-05, momentum=0.1, affine=True, track_running_stats=True)\n",
            "    )\n",
            "    (decoder): Sequential(\n",
            "      (0): ConvTranspose2d(64, 128, kernel_size=(3, 3), stride=(1, 1), padding=(1, 1))\n",
            "      (1): ReLU()\n",
            "      (2): Upsample(scale_factor=2.0, mode='nearest')\n",
            "      (3): Dropout(p=0.2, inplace=False)\n",
            "      (4): BatchNorm2d(128, eps=1e-05, momentum=0.1, affine=True, track_running_stats=True)\n",
            "      (5): ConvTranspose2d(128, 256, kernel_size=(3, 3), stride=(1, 1), padding=(1, 1))\n",
            "      (6): ReLU()\n",
            "      (7): Dropout(p=0.3, inplace=False)\n",
            "      (8): BatchNorm2d(256, eps=1e-05, momentum=0.1, affine=True, track_running_stats=True)\n",
            "      (9): Conv2d(256, 3, kernel_size=(3, 3), stride=(1, 1), padding=(1, 1))\n",
            "      (10): Sigmoid()\n",
            "    )\n",
            "    (classifier): Sequential(\n",
            "      (0): Linear(in_features=16384, out_features=512, bias=True)\n",
            "      (1): ReLU()\n",
            "      (2): Dropout(p=0.4, inplace=False)\n",
            "      (3): BatchNorm1d(512, eps=1e-05, momentum=0.1, affine=True, track_running_stats=True)\n",
            "      (4): Linear(in_features=512, out_features=256, bias=True)\n",
            "      (5): ReLU()\n",
            "      (6): Dropout(p=0.3, inplace=False)\n",
            "      (7): BatchNorm1d(256, eps=1e-05, momentum=0.1, affine=True, track_running_stats=True)\n",
            "      (8): Linear(in_features=256, out_features=128, bias=True)\n",
            "      (9): ReLU()\n",
            "      (10): Dropout(p=0.35, inplace=False)\n",
            "      (11): BatchNorm1d(128, eps=1e-05, momentum=0.1, affine=True, track_running_stats=True)\n",
            "      (12): Linear(in_features=128, out_features=64, bias=True)\n",
            "      (13): ReLU()\n",
            "      (14): Dropout(p=0.4, inplace=False)\n",
            "      (15): BatchNorm1d(64, eps=1e-05, momentum=0.1, affine=True, track_running_stats=True)\n",
            "      (16): Linear(in_features=64, out_features=10, bias=True)\n",
            "    )\n",
            "  )\n",
            "  (final_layer): Sequential(\n",
            "    (0): Linear(in_features=30, out_features=128, bias=True)\n",
            "    (1): ReLU()\n",
            "    (2): BatchNorm1d(128, eps=1e-05, momentum=0.1, affine=True, track_running_stats=True)\n",
            "    (3): Dropout(p=0.5, inplace=False)\n",
            "    (4): Linear(in_features=128, out_features=64, bias=True)\n",
            "    (5): ReLU()\n",
            "    (6): BatchNorm1d(64, eps=1e-05, momentum=0.1, affine=True, track_running_stats=True)\n",
            "    (7): Dropout(p=0.5, inplace=False)\n",
            "    (8): Linear(in_features=64, out_features=10, bias=True)\n",
            "  )\n",
            ")\n"
          ]
        }
      ],
      "source": [
        "# Define class for ensemble model\n",
        "class Ensemble(nn.Module):\n",
        "    def __init__(self, base_model1, base_model2, base_model3):\n",
        "        super(Ensemble, self).__init__()\n",
        "\n",
        "        # Freeze parameters of base models\n",
        "        for param in base_model1.parameters():\n",
        "            param.requires_grad = False\n",
        "        for param in base_model2.parameters():\n",
        "            param.requires_grad = False\n",
        "        for param in base_model3.parameters():\n",
        "            param.requires_grad = False\n",
        "\n",
        "        self.base_model1 = base_model1\n",
        "        self.base_model2 = base_model2\n",
        "        self.base_model3 = base_model3\n",
        "\n",
        "        self.final_layer = nn.Sequential(\n",
        "            nn.Linear(3 * 10, 128),\n",
        "            nn.ReLU(),\n",
        "            nn.BatchNorm1d(128),\n",
        "            nn.Dropout(0.5),\n",
        "\n",
        "            nn.Linear(128, 64),\n",
        "            nn.ReLU(),\n",
        "            nn.BatchNorm1d(64),\n",
        "            nn.Dropout(0.5),\n",
        "\n",
        "            nn.Linear(64, 10)\n",
        "        )\n",
        "\n",
        "    def forward(self, x):\n",
        "        out1 = self.base_model1(x)\n",
        "        out2 = self.base_model2(x)\n",
        "        out3, _ = self.base_model3(x)\n",
        "        x = self.final_layer(torch.cat((out1, out2, out3), dim=1))\n",
        "        return F.log_softmax(x, dim=1)\n",
        "\n",
        "# Create an instance of the Ensemble and move it to the selected device\n",
        "ensemble_model = Ensemble(custom_model, self_supervised_model, auxiliary_model).to(device)\n",
        "print(ensemble_model)"
      ]
    },
    {
      "cell_type": "code",
      "execution_count": null,
      "metadata": {
        "id": "O92s6g1DMdzJ"
      },
      "outputs": [],
      "source": [
        "# Modified functions from Lab 10 used for train and test\n",
        "def ensemble_train(model, device, train_loader, criterion, optimizer, epoch):\n",
        "    model.train()\n",
        "    epoch_loss = 0\n",
        "    start_time = time()\n",
        "    correct = 0\n",
        "    iteration = 0\n",
        "\n",
        "    bar = tqdm(train_loader)\n",
        "    for data, target in bar:\n",
        "        data, target = data.to(device), target.to(device)\n",
        "        optimizer.zero_grad()\n",
        "\n",
        "        output = model(data)\n",
        "        # Get the index of the max log-probability\n",
        "        pred = output.argmax(dim=1, keepdim=True)\n",
        "        correct += pred.eq(target.view_as(pred)).sum().item()\n",
        "\n",
        "        loss = criterion(output, target)\n",
        "        loss.backward()\n",
        "        optimizer.step()\n",
        "\n",
        "        epoch_loss += loss.item()\n",
        "\n",
        "        iteration += 1\n",
        "\n",
        "        bar.set_postfix({\"Loss\": format(epoch_loss/iteration, '.6f')})\n",
        "\n",
        "    acc = 100. * correct / len(train_loader.dataset)\n",
        "    print(f'\\nTrain Epoch: {epoch}, elapsed time:{time()-start_time:.2f}s')\n",
        "    return epoch_loss / len(train_loader.dataset), acc\n",
        "\n",
        "\n",
        "def ensemble_test(model, device, test_loader, criterion):\n",
        "    model.eval()\n",
        "    test_loss = 0\n",
        "    correct = 0\n",
        "    with torch.no_grad():\n",
        "        for data, target in test_loader:\n",
        "            data, target = data.to(device), target.to(device)\n",
        "            output = model(data)\n",
        "            test_loss += criterion(output, target).item() # sum up batch loss\n",
        "            pred = output.argmax(dim=1, keepdim=True)  # get the index of the max log-probability\n",
        "            correct += pred.eq(target.view_as(pred)).sum().item()\n",
        "\n",
        "    acc = 100. * correct / len(test_loader.dataset)\n",
        "    return test_loss / len(test_loader.dataset), acc"
      ]
    },
    {
      "cell_type": "code",
      "execution_count": null,
      "metadata": {
        "id": "J2CU6zMSMdzg"
      },
      "outputs": [],
      "source": [
        "# Modified function from Lab 10 used for training\n",
        "def ensemble_training(model, train_data_loader, test_data_loader, epochs, criterion, optimizer, early_stopping, device, save_path, train_info_path):\n",
        "    # Check if model already exists\n",
        "    if save_path and os.path.exists(save_path):\n",
        "        print(f\"File already exists at {save_path}. Model not trained, loaded from file.\")\n",
        "        model_state_dict = torch.load(save_path, map_location=device)\n",
        "        model.load_state_dict(model_state_dict)\n",
        "\n",
        "        # Load training information from file\n",
        "        with open(train_info_path, 'rb') as info_file:\n",
        "            train_accuracies, test_accuracies, train_losses, test_losses = pickle.load(info_file)\n",
        "\n",
        "        return train_accuracies, test_accuracies, train_losses, test_losses\n",
        "\n",
        "    train_accuracies, test_accuracies, train_losses, test_losses = [], [], [], []\n",
        "\n",
        "    for epoch in range(1, epochs + 1):\n",
        "        train_loss, train_acc = ensemble_train(model, device, train_data_loader, criterion, optimizer, epoch)\n",
        "        test_loss, test_acc = ensemble_test(model, device, test_data_loader, criterion)\n",
        "        # Terminate training if loss stopped to decrease\n",
        "        if early_stopping(test_loss, model):\n",
        "            print('\\nEarly stopping\\n')\n",
        "            break\n",
        "\n",
        "        train_accuracies.append(train_acc)\n",
        "        test_accuracies.append(test_acc)\n",
        "        train_losses.append(train_loss)\n",
        "        test_losses.append(test_loss)\n",
        "\n",
        "        print(f\"Training accuracy {train_acc}, test accuracy {test_acc}\")\n",
        "        print(f\"Training loss {train_loss}, test loss {test_loss}\\n\")\n",
        "\n",
        "    with open(train_info_path, 'wb') as info_file:\n",
        "        pickle.dump([train_accuracies, test_accuracies, train_losses, test_losses], info_file)\n",
        "\n",
        "    return train_accuracies, test_accuracies, train_losses, test_losses"
      ]
    },
    {
      "cell_type": "code",
      "execution_count": null,
      "metadata": {
        "id": "bHzSU51GMdzg"
      },
      "outputs": [],
      "source": [
        "# Assing loaders from. self supervised model because they are the same\n",
        "train_data_loader_for_ensemble = train_data_loader_for_self_supervised\n",
        "test_data_loader_for_ensemble = test_data_loader_for_self_supervised"
      ]
    },
    {
      "cell_type": "code",
      "execution_count": null,
      "metadata": {
        "id": "U5dFQplVMdzg",
        "outputId": "719ce60a-165c-4705-9f84-18ab2d9ecc96"
      },
      "outputs": [
        {
          "name": "stderr",
          "output_type": "stream",
          "text": [
            "100%|██████████| 78/78 [00:12<00:00,  6.01it/s, Loss=1.692021]\n"
          ]
        },
        {
          "name": "stdout",
          "output_type": "stream",
          "text": [
            "\n",
            "Train Epoch: 1, elapsed time:12.98s\n",
            "Training accuracy 38.22, test accuracy 66.27\n",
            "Training loss 0.02639553363323212, test loss 0.017405099892616273\n",
            "\n"
          ]
        },
        {
          "name": "stderr",
          "output_type": "stream",
          "text": [
            "100%|██████████| 78/78 [00:10<00:00,  7.36it/s, Loss=1.664838]\n"
          ]
        },
        {
          "name": "stdout",
          "output_type": "stream",
          "text": [
            "\n",
            "Train Epoch: 2, elapsed time:10.60s\n",
            "EarlyStopping counter: 1 out of 5\n",
            "Training accuracy 39.56, test accuracy 65.14\n",
            "Training loss 0.025971469879150392, test loss 0.020055237525701524\n",
            "\n"
          ]
        },
        {
          "name": "stderr",
          "output_type": "stream",
          "text": [
            "100%|██████████| 78/78 [00:09<00:00,  8.01it/s, Loss=1.666165]\n"
          ]
        },
        {
          "name": "stdout",
          "output_type": "stream",
          "text": [
            "\n",
            "Train Epoch: 3, elapsed time:9.74s\n",
            "EarlyStopping counter: 2 out of 5\n",
            "Training accuracy 39.58, test accuracy 64.37\n",
            "Training loss 0.025992166233062743, test loss 0.017419605952501298\n",
            "\n"
          ]
        },
        {
          "name": "stderr",
          "output_type": "stream",
          "text": [
            "100%|██████████| 78/78 [00:09<00:00,  8.01it/s, Loss=1.664259]\n"
          ]
        },
        {
          "name": "stdout",
          "output_type": "stream",
          "text": [
            "\n",
            "Train Epoch: 4, elapsed time:9.74s\n",
            "Training accuracy 40.32, test accuracy 64.68\n",
            "Training loss 0.02596244421005249, test loss 0.017400509440898895\n",
            "\n"
          ]
        },
        {
          "name": "stderr",
          "output_type": "stream",
          "text": [
            "100%|██████████| 78/78 [00:09<00:00,  8.00it/s, Loss=1.657037]\n"
          ]
        },
        {
          "name": "stdout",
          "output_type": "stream",
          "text": [
            "\n",
            "Train Epoch: 5, elapsed time:9.75s\n",
            "EarlyStopping counter: 1 out of 5\n",
            "Training accuracy 39.04, test accuracy 65.69\n",
            "Training loss 0.025849778032302855, test loss 0.017422709870338438\n",
            "\n"
          ]
        },
        {
          "name": "stderr",
          "output_type": "stream",
          "text": [
            "100%|██████████| 78/78 [00:10<00:00,  7.66it/s, Loss=1.644279]\n"
          ]
        },
        {
          "name": "stdout",
          "output_type": "stream",
          "text": [
            "\n",
            "Train Epoch: 6, elapsed time:10.18s\n",
            "Training accuracy 41.24, test accuracy 65.32\n",
            "Training loss 0.02565075032711029, test loss 0.016693681132793427\n",
            "\n"
          ]
        },
        {
          "name": "stderr",
          "output_type": "stream",
          "text": [
            "100%|██████████| 78/78 [01:39<00:00,  1.27s/it, Loss=1.639548]\n"
          ]
        },
        {
          "name": "stdout",
          "output_type": "stream",
          "text": [
            "\n",
            "Train Epoch: 7, elapsed time:99.26s\n",
            "EarlyStopping counter: 1 out of 5\n",
            "Training accuracy 40.32, test accuracy 65.26\n",
            "Training loss 0.02557694456577301, test loss 0.017061441427469255\n",
            "\n"
          ]
        },
        {
          "name": "stderr",
          "output_type": "stream",
          "text": [
            "100%|██████████| 78/78 [02:00<00:00,  1.54s/it, Loss=1.646908]\n"
          ]
        },
        {
          "name": "stdout",
          "output_type": "stream",
          "text": [
            "\n",
            "Train Epoch: 8, elapsed time:120.02s\n",
            "EarlyStopping counter: 2 out of 5\n",
            "Training accuracy 40.06, test accuracy 65.19\n",
            "Training loss 0.025691762590408326, test loss 0.017555479311943054\n",
            "\n"
          ]
        },
        {
          "name": "stderr",
          "output_type": "stream",
          "text": [
            "100%|██████████| 78/78 [00:10<00:00,  7.47it/s, Loss=1.655172]\n"
          ]
        },
        {
          "name": "stdout",
          "output_type": "stream",
          "text": [
            "\n",
            "Train Epoch: 9, elapsed time:10.44s\n",
            "EarlyStopping counter: 3 out of 5\n",
            "Training accuracy 40.44, test accuracy 64.26\n",
            "Training loss 0.025820677781105042, test loss 0.017760901015996932\n",
            "\n"
          ]
        },
        {
          "name": "stderr",
          "output_type": "stream",
          "text": [
            "100%|██████████| 78/78 [01:00<00:00,  1.29it/s, Loss=1.638931]\n"
          ]
        },
        {
          "name": "stdout",
          "output_type": "stream",
          "text": [
            "\n",
            "Train Epoch: 10, elapsed time:60.55s\n",
            "EarlyStopping counter: 4 out of 5\n",
            "Training accuracy 41.42, test accuracy 63.78\n",
            "Training loss 0.02556732292175293, test loss 0.018304110157489777\n",
            "\n"
          ]
        },
        {
          "name": "stderr",
          "output_type": "stream",
          "text": [
            "100%|██████████| 78/78 [00:10<00:00,  7.49it/s, Loss=1.633531]\n"
          ]
        },
        {
          "name": "stdout",
          "output_type": "stream",
          "text": [
            "\n",
            "Train Epoch: 11, elapsed time:10.42s\n",
            "EarlyStopping counter: 5 out of 5\n",
            "\n",
            "Early stopping\n",
            "\n"
          ]
        }
      ],
      "source": [
        "# Defining parameters for training\n",
        "ensemle_model_path = \"ensemble_model.pt\"\n",
        "ensemble_train_info_path = \"train_info_path_for_ensemble.pkl\"\n",
        "epochs = 100\n",
        "criterion = nn.CrossEntropyLoss()\n",
        "optimizer = Adam(ensemble_model.final_layer.parameters())\n",
        "early_stopping = EarlyStopping(patience=5, path=ensemle_model_path)\n",
        "\n",
        "# Training model\n",
        "train_accuracies, test_accuracies, train_losses, test_losses = ensemble_training(ensemble_model, train_data_loader_for_ensemble, test_data_loader_for_ensemble, epochs, criterion, optimizer, early_stopping, device, ensemle_model_path, ensemble_train_info_path)"
      ]
    },
    {
      "cell_type": "markdown",
      "metadata": {
        "id": "L2U9froLMdzg"
      },
      "source": [
        "### Evalutiating models"
      ]
    },
    {
      "cell_type": "code",
      "execution_count": null,
      "metadata": {
        "id": "JDcHjm2QPNaq",
        "outputId": "ae958801-c0a6-4c36-9a63-5715a6f3e2c3"
      },
      "outputs": [
        {
          "name": "stdout",
          "output_type": "stream",
          "text": [
            "Base model:\n",
            "----------------------------------------------------------------\n",
            "        Layer (type)               Output Shape         Param #\n",
            "================================================================\n",
            "            Conv2d-1           [-1, 16, 32, 32]             448\n",
            "              ReLU-2           [-1, 16, 32, 32]               0\n",
            "         MaxPool2d-3           [-1, 16, 16, 16]               0\n",
            "       BatchNorm2d-4           [-1, 16, 16, 16]              32\n",
            "           Dropout-5           [-1, 16, 16, 16]               0\n",
            "            Conv2d-6           [-1, 32, 16, 16]           4,640\n",
            "              ReLU-7           [-1, 32, 16, 16]               0\n",
            "         MaxPool2d-8             [-1, 32, 8, 8]               0\n",
            "       BatchNorm2d-9             [-1, 32, 8, 8]              64\n",
            "          Dropout-10             [-1, 32, 8, 8]               0\n",
            "           Conv2d-11             [-1, 64, 8, 8]          18,496\n",
            "             ReLU-12             [-1, 64, 8, 8]               0\n",
            "        MaxPool2d-13             [-1, 64, 4, 4]               0\n",
            "      BatchNorm2d-14             [-1, 64, 4, 4]             128\n",
            "          Dropout-15             [-1, 64, 4, 4]               0\n",
            "           Conv2d-16            [-1, 128, 4, 4]          73,856\n",
            "             ReLU-17            [-1, 128, 4, 4]               0\n",
            "        MaxPool2d-18            [-1, 128, 2, 2]               0\n",
            "      BatchNorm2d-19            [-1, 128, 2, 2]             256\n",
            "          Dropout-20            [-1, 128, 2, 2]               0\n",
            "           Linear-21                  [-1, 512]         262,656\n",
            "             ReLU-22                  [-1, 512]               0\n",
            "      BatchNorm1d-23                  [-1, 512]           1,024\n",
            "          Dropout-24                  [-1, 512]               0\n",
            "           Linear-25                  [-1, 256]         131,328\n",
            "             ReLU-26                  [-1, 256]               0\n",
            "      BatchNorm1d-27                  [-1, 256]             512\n",
            "          Dropout-28                  [-1, 256]               0\n",
            "           Linear-29                   [-1, 10]           2,570\n",
            "================================================================\n",
            "Total params: 496,010\n",
            "Trainable params: 0\n",
            "Non-trainable params: 496,010\n",
            "----------------------------------------------------------------\n",
            "Input size (MB): 0.01\n",
            "Forward/backward pass size (MB): 0.67\n",
            "Params size (MB): 1.89\n",
            "Estimated Total Size (MB): 2.57\n",
            "----------------------------------------------------------------\n",
            "\n",
            "Self-supervised model:\n",
            "----------------------------------------------------------------\n",
            "        Layer (type)               Output Shape         Param #\n",
            "================================================================\n",
            "            Conv2d-1          [-1, 128, 32, 32]           3,584\n",
            "              ReLU-2          [-1, 128, 32, 32]               0\n",
            "         MaxPool2d-3          [-1, 128, 16, 16]               0\n",
            "       BatchNorm2d-4          [-1, 128, 16, 16]             256\n",
            "            Conv2d-5           [-1, 64, 16, 16]          73,792\n",
            "              ReLU-6           [-1, 64, 16, 16]               0\n",
            "         MaxPool2d-7             [-1, 64, 8, 8]               0\n",
            "       BatchNorm2d-8             [-1, 64, 8, 8]             128\n",
            "            Conv2d-9             [-1, 32, 8, 8]          18,464\n",
            "             ReLU-10             [-1, 32, 8, 8]               0\n",
            "      BatchNorm2d-11             [-1, 32, 8, 8]              64\n",
            "           Linear-12                  [-1, 128]         262,272\n",
            "             ReLU-13                  [-1, 128]               0\n",
            "      BatchNorm1d-14                  [-1, 128]             256\n",
            "          Dropout-15                  [-1, 128]               0\n",
            "           Linear-16                   [-1, 64]           8,256\n",
            "             ReLU-17                   [-1, 64]               0\n",
            "      BatchNorm1d-18                   [-1, 64]             128\n",
            "          Dropout-19                   [-1, 64]               0\n",
            "           Linear-20                   [-1, 10]             650\n",
            "================================================================\n",
            "Total params: 367,850\n",
            "Trainable params: 0\n",
            "Non-trainable params: 367,850\n",
            "----------------------------------------------------------------\n",
            "Input size (MB): 0.01\n",
            "Forward/backward pass size (MB): 2.87\n",
            "Params size (MB): 1.40\n",
            "Estimated Total Size (MB): 4.28\n",
            "----------------------------------------------------------------\n",
            "\n",
            "Auxiliary learning model:\n",
            "----------------------------------------------------------------\n",
            "        Layer (type)               Output Shape         Param #\n",
            "================================================================\n",
            "            Conv2d-1          [-1, 256, 32, 32]           7,168\n",
            "              ReLU-2          [-1, 256, 32, 32]               0\n",
            "         MaxPool2d-3          [-1, 256, 16, 16]               0\n",
            "           Dropout-4          [-1, 256, 16, 16]               0\n",
            "       BatchNorm2d-5          [-1, 256, 16, 16]             512\n",
            "            Conv2d-6          [-1, 128, 16, 16]         295,040\n",
            "              ReLU-7          [-1, 128, 16, 16]               0\n",
            "           Dropout-8          [-1, 128, 16, 16]               0\n",
            "       BatchNorm2d-9          [-1, 128, 16, 16]             256\n",
            "           Conv2d-10           [-1, 64, 16, 16]          73,792\n",
            "             ReLU-11           [-1, 64, 16, 16]               0\n",
            "          Dropout-12           [-1, 64, 16, 16]               0\n",
            "      BatchNorm2d-13           [-1, 64, 16, 16]             128\n",
            "           Linear-14                  [-1, 512]       8,389,120\n",
            "             ReLU-15                  [-1, 512]               0\n",
            "          Dropout-16                  [-1, 512]               0\n",
            "      BatchNorm1d-17                  [-1, 512]           1,024\n",
            "           Linear-18                  [-1, 256]         131,328\n",
            "             ReLU-19                  [-1, 256]               0\n",
            "          Dropout-20                  [-1, 256]               0\n",
            "      BatchNorm1d-21                  [-1, 256]             512\n",
            "           Linear-22                  [-1, 128]          32,896\n",
            "             ReLU-23                  [-1, 128]               0\n",
            "          Dropout-24                  [-1, 128]               0\n",
            "      BatchNorm1d-25                  [-1, 128]             256\n",
            "           Linear-26                   [-1, 64]           8,256\n",
            "             ReLU-27                   [-1, 64]               0\n",
            "          Dropout-28                   [-1, 64]               0\n",
            "      BatchNorm1d-29                   [-1, 64]             128\n",
            "           Linear-30                   [-1, 10]             650\n",
            "  ConvTranspose2d-31          [-1, 128, 16, 16]          73,856\n",
            "             ReLU-32          [-1, 128, 16, 16]               0\n",
            "         Upsample-33          [-1, 128, 32, 32]               0\n",
            "          Dropout-34          [-1, 128, 32, 32]               0\n",
            "      BatchNorm2d-35          [-1, 128, 32, 32]             256\n",
            "  ConvTranspose2d-36          [-1, 256, 32, 32]         295,168\n",
            "             ReLU-37          [-1, 256, 32, 32]               0\n",
            "          Dropout-38          [-1, 256, 32, 32]               0\n",
            "      BatchNorm2d-39          [-1, 256, 32, 32]             512\n",
            "           Conv2d-40            [-1, 3, 32, 32]           6,915\n",
            "          Sigmoid-41            [-1, 3, 32, 32]               0\n",
            "================================================================\n",
            "Total params: 9,317,773\n",
            "Trainable params: 0\n",
            "Non-trainable params: 9,317,773\n",
            "----------------------------------------------------------------\n",
            "Input size (MB): 0.01\n",
            "Forward/backward pass size (MB): 18.58\n",
            "Params size (MB): 35.54\n",
            "Estimated Total Size (MB): 54.13\n",
            "----------------------------------------------------------------\n",
            "\n",
            "Ensemble model:\n",
            "Ensemble model size (parameters): 10194891\n"
          ]
        }
      ],
      "source": [
        "# !pip install torchsummary\n",
        "from torchsummary import summary\n",
        "\n",
        "# Getting summary info about models\n",
        "device = \"cpu\" # change device to avoid errors\n",
        "print(\"Base model:\")\n",
        "summary(custom_model.to(device), (3, 32, 32))\n",
        "print()\n",
        "print(\"Self-supervised model:\")\n",
        "summary(self_supervised_model.to(device),(3, 32, 32))\n",
        "print()\n",
        "print(\"Auxiliary learning model:\")\n",
        "summary(auxiliary_model.to(device), (3, 32, 32))\n",
        "\n",
        "# Summary gives error because size of ensemble model depend on other model\n",
        "print()\n",
        "print(\"Ensemble model:\")\n",
        "print(\"Ensemble model size (parameters):\", sum([param.numel() for param in ensemble_model.parameters()]))"
      ]
    },
    {
      "cell_type": "code",
      "execution_count": null,
      "metadata": {
        "id": "Vga2nmxQMdzg",
        "outputId": "67bc8013-8540-477d-fbc9-7a1369f38251"
      },
      "outputs": [
        {
          "name": "stdout",
          "output_type": "stream",
          "text": [
            "Base model:\n",
            "{'Accuracy': 0.7352, 'Inference_speed': 0.3417894124984741}\n",
            "\n",
            "Self-supervised model:\n",
            "{'Accuracy': 0.3516, 'Inference_speed': 1.0316196441650392}\n",
            "\n",
            "Auxiliary learning model:\n",
            "{'Accuracy': 0.449, 'Inference_speed': 6.592538857460022}\n",
            "\n",
            "Ensemble model:\n",
            "{'Accuracy': 0.6505, 'Inference_speed': 7.879081177711487}\n",
            "\n"
          ]
        }
      ],
      "source": [
        "# Updated function from Assignment 2 to evaluate models\n",
        "def evaluate_model(model, data_loader, auxiliary=False):\n",
        "    model.eval()\n",
        "    device = next(model.parameters()).device\n",
        "\n",
        "    true_labels = []\n",
        "    predicted_labels = []\n",
        "    start_time = time.time()\n",
        "    total_time = 0\n",
        "    len_images = 0\n",
        "\n",
        "    with torch.no_grad():\n",
        "        for images, labels in data_loader:\n",
        "            images, labels = images.to(device), labels.to(device)\n",
        "            len_images += images.size(0)\n",
        "\n",
        "            start_time = time.time()\n",
        "            if auxiliary:\n",
        "                outputs, _ = model(images)\n",
        "            else:\n",
        "                outputs = model(images)\n",
        "            total_time += time.time() - start_time\n",
        "\n",
        "            probabilities = torch.nn.functional.softmax(outputs, dim=-1)\n",
        "            _, predictions = torch.max(probabilities, dim=1)\n",
        "            true_labels.extend(labels.cpu().numpy())\n",
        "            predicted_labels.extend(predictions.cpu().numpy())\n",
        "\n",
        "    inference_time = total_time * 1000 / len_images\n",
        "\n",
        "    accuracy = accuracy_score(true_labels, predicted_labels)\n",
        "\n",
        "    result_dict = {\n",
        "        \"Accuracy\": accuracy,\n",
        "        \"Inference_speed\": inference_time,\n",
        "    }\n",
        "\n",
        "    return result_dict\n",
        "\n",
        "# Evaluating models\n",
        "test_data_loader = test_data_loader_for_custom\n",
        "print(\"Base model:\")\n",
        "print(evaluate_model(custom_model, test_data_loader))\n",
        "print()\n",
        "\n",
        "print(\"Self-supervised model:\")\n",
        "print(evaluate_model(self_supervised_model, test_data_loader))\n",
        "print()\n",
        "\n",
        "print(\"Auxiliary learning model:\")\n",
        "print(evaluate_model(auxiliary_model, test_data_loader, auxiliary=True))\n",
        "print()\n",
        "\n",
        "print(\"Ensemble model:\")\n",
        "print(evaluate_model(ensemble_model, test_data_loader))\n",
        "print()"
      ]
    },
    {
      "cell_type": "markdown",
      "metadata": {
        "id": "dBiP6CeEMdzh"
      },
      "source": [
        "## Results\n",
        "\n",
        "| Model Type          |  Accuracy | Labeled data | Unlabeled data | Model size (params) | Inference time (ms) |\n",
        "|---------------------|-------------------|--------------|----------------|---------------------|--------------------|\n",
        "| Baseline            | 73.52%            | 50,000       | 0              | 496,010             | 0.3418             |\n",
        "| Self-supervised     | 35.16%            | 5,000        | 50,000         | 367,850             | 1.0316             |\n",
        "| Auxiliary Learning  | 44.90%            | 5,000        | 5,000          | 9,317,773           | 6.5925             |\n",
        "| Ensemble            | 65.05%            | 50,000       | 50,000         | 10,194,891          | 7.8791             |\n",
        "\n",
        "\n",
        "- **Baseline**: The baseline model achieves the highest accuracy with a moderate amount of labeled data (50,000) and no unlabeled data. Despite its relatively small model size, it achieves very good performance. Its fast inference time is noteworthy. This superior performance could be attributed to its training on the largest labeled dataset.\n",
        "\n",
        "- **Self-supervised**: Despite utilizing a large amount of both unlabeled data (50,000) and labeled data (5,000), the self-supervised model achieves comparatively lower accuracy. This could be due to the lack of labeled data and not enough training of encoder part. While its model size is moderate, its inference time is higher than the baseline, suggesting some inefficiency.\n",
        "\n",
        "- **Auxiliary learning**: The auxiliary learning model achieves moderate accuracy with a relatively small amount of both labeled and unlabeled data (5,000 each). However, it has a large model size. Additionally, its longer inference time makes it less efficient compared to the previous models.\n",
        "\n",
        "- **Ensemble**: The ensemble model gives good accuracy. It achieves decent accuracy by leveraging models trained on substantial amounts of both labeled and unlabeled data (50,000 each), but part of ensemble model itself was trained only on a set of 5,000 labeled data. Although it has a slightly larger model size and inference time compared to the other models, it outperforms the self-supervised and auxiliary learning models in accuracy, showcasing its effectiveness in enhancing overall accuracy through pretrained models.\n"
      ]
    }
  ],
  "metadata": {
    "colab": {
      "provenance": []
    },
    "kernelspec": {
      "display_name": "Python 3",
      "name": "python3"
    },
    "language_info": {
      "codemirror_mode": {
        "name": "ipython",
        "version": 3
      },
      "file_extension": ".py",
      "mimetype": "text/x-python",
      "name": "python",
      "nbconvert_exporter": "python",
      "pygments_lexer": "ipython3",
      "version": "3.11.1"
    }
  },
  "nbformat": 4,
  "nbformat_minor": 0
}
