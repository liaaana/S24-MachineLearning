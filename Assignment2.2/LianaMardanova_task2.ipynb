{
 "cells": [
  {
   "cell_type": "markdown",
   "id": "0e5be1e8",
   "metadata": {
    "id": "ad909418-3384-444f-a7b6-f85a80eefa27",
    "papermill": {
     "duration": 0.00831,
     "end_time": "2024-05-01T09:22:36.705782",
     "exception": false,
     "start_time": "2024-05-01T09:22:36.697472",
     "status": "completed"
    },
    "tags": []
   },
   "source": [
    "# Assignment 2\n",
    "\n",
    "This assignment serves as a comprehensive evaluation of your machine learning skills, encompassing not only the technical aspects of model development but also your ability to analyze, interpret, and present data insights effectively. As such, it's essential to ensure that your submission is complete, functional, and devoid of any obvious gaps, as if you were delivering this project to a client.\n",
    "\n",
    "To achieve this, leverage the full capabilities of Markdown and the interactive visualization tools available in Jupyter notebooks to craft a well-structured and visually appealing report of your findings. Your report should clearly communicate the insights you've gained from the exploratory data analysis, the rationale behind your data preprocessing and feature engineering decisions, and a thorough analysis of feature importance. High-quality visualizations and well-organized documentation will not only support your analysis but also make your results more accessible and understandable to your audience.\n",
    "\n",
    "Remember, the ability to present complex results in an intuitive and engaging manner is a crucial skill, almost as important as the technical proficiency in model building and data analysis. Treat this assignment as an opportunity to showcase your skills in both areas.\n",
    "\n",
    "## Instructions\n",
    "- Your submission should be a `.ipynb` file with your name,\n",
    "  like `FirstnameLastname.ipynb`. It should include the answers to the questions in markdown cells, your data analysis and results.\n",
    "- You are expected to follow the best practices for code writing and model\n",
    "training. Poor coding style will be penalized.\n",
    "- You are allowed to discuss ideas with your peers, but no sharing of code.\n",
    "Plagiarism in the code will result in failing. If you use code from the\n",
    "internet, cite it by adding the source of the code as a comment in the first line of the code cell. [Academic misconduct policy](https://wiki.innopolis.university/display/DOE/Academic+misconduct+policy)\n",
    "- In real life clients can give unclear goals or requirements. So, if the instructions seem vague, use common sense to make reasonable assumptions and decisions.\n",
    "\n",
    "## Self-Reliance and Exploration\n",
    "In this task, you're encouraged to rely on your resourcefulness and creativity. Dive into available resources, experiment with various solutions, and learn from every outcome. While our team is here to clarify task details and offer conceptual guidance, we encourage you to first seek answers independently. This approach is vital for developing your problem-solving skills in machine learning.\n",
    "\n"
   ]
  },
  {
   "cell_type": "markdown",
   "id": "ba7f5eb6",
   "metadata": {
    "id": "f38d3afb-58f8-4335-8fac-074db8adeaa7",
    "papermill": {
     "duration": 0.007639,
     "end_time": "2024-05-01T09:22:36.721451",
     "exception": false,
     "start_time": "2024-05-01T09:22:36.713812",
     "status": "completed"
    },
    "tags": []
   },
   "source": [
    "# Task 2: Image Classification with CNNs (50%)\n",
    "\n",
    "In this task, you'll dive into the world of Convolutional Neural Networks (CNNs) by working with the CIFAR-10 dataset, a staple in image classification challenges. Your goal is to build and evaluate two different CNN models to classify images into one of the ten categories accurately.\n",
    "\n",
    "The dataset is availabel in pytorch and keras.\n",
    "\n",
    "## Part 1: Custom CNN Model (20%)\n",
    "\n",
    "- Design and train a CNN model from scratch tailored for the CIFAR-10 dataset.\n",
    "- Focus on the architecture that you believe will perform best for this specific task.\n",
    "- Integrate various techniques such as batch normalization, dropout, learning rate schedulers, and early stopping to improve model training. Experiment with these methods and finetune them to see how they affect training stability, convergence speed, and overall performance.\n",
    "\n",
    "## Part 2: Transfer Learning Model (20%)\n",
    "\n",
    "- Implement a transfer learning approach using a pre-trained model of your choice.\n",
    "- Fine-tune the model on the CIFAR-10 dataset to achieve the best possible performance.\n",
    "\n",
    "## Evaluation (10%)\n",
    "\n",
    "Ensure that both models are robust and generalized well to unseen data.\n",
    "\n",
    "After training both models, you will evaluate them on a provided test dataset.\n",
    "\n",
    "Compare your models based on:\n",
    "- **AUC-ROC**: How well does each model discriminate between classes?\n",
    "- **Model Size**: Consider the trade-offs in model complexity.\n",
    "- **Inference Speed**: Evaluate how quickly your model can predict classes for new images.\n",
    "\n",
    "Reflect on the performance, size, and inference speed of both models. What insights can you draw from these comparisons?\n",
    "\n",
    "### Learning Objectives\n",
    "\n",
    "- Understand and apply CNNs for image classification.\n",
    "- Explore the impact of model architecture on performance and efficiency.\n",
    "- Learn the process and benefits of transfer learning in deep learning.\n",
    "\n",
    "Remember, the key to this task is not just about achieving the highest accuracy but also understanding the strengths and limitations of different approaches in machine learning model development."
   ]
  },
  {
   "cell_type": "markdown",
   "id": "b34723c4",
   "metadata": {
    "id": "Hf40q1sLhDn7",
    "papermill": {
     "duration": 0.007656,
     "end_time": "2024-05-01T09:22:36.736853",
     "exception": false,
     "start_time": "2024-05-01T09:22:36.729197",
     "status": "completed"
    },
    "tags": []
   },
   "source": [
    "## Part 1\n"
   ]
  },
  {
   "cell_type": "markdown",
   "id": "c204121a",
   "metadata": {
    "id": "fq3NffDzhFBQ",
    "papermill": {
     "duration": 0.007532,
     "end_time": "2024-05-01T09:22:36.752035",
     "exception": false,
     "start_time": "2024-05-01T09:22:36.744503",
     "status": "completed"
    },
    "tags": []
   },
   "source": [
    "To complete this task, I referenced the official [PyTorch tutorial](https://pytorch.org/tutorials/beginner/blitz/cifar10_tutorial.html) and content covered in Lab10. I used Kaggle for training models."
   ]
  },
  {
   "cell_type": "markdown",
   "id": "bf7b3595",
   "metadata": {
    "id": "0fX5vuOyhT6m",
    "papermill": {
     "duration": 0.007684,
     "end_time": "2024-05-01T09:22:36.767369",
     "exception": false,
     "start_time": "2024-05-01T09:22:36.759685",
     "status": "completed"
    },
    "tags": []
   },
   "source": [
    "CIFAR-10 is an image dataset that consists of 60,000 32x32 color images in 10 classes, with 6,000 images per class.\n",
    "\n",
    "![CIFAR-10 Example](https://pytorch.org/tutorials/_images/cifar10.png)"
   ]
  },
  {
   "cell_type": "code",
   "execution_count": 1,
   "id": "1c1b6ee4",
   "metadata": {
    "execution": {
     "iopub.execute_input": "2024-05-01T09:22:36.784685Z",
     "iopub.status.busy": "2024-05-01T09:22:36.784046Z",
     "iopub.status.idle": "2024-05-01T09:22:44.224105Z",
     "shell.execute_reply": "2024-05-01T09:22:44.223156Z"
    },
    "id": "Qbrlv5alhnjV",
    "papermill": {
     "duration": 7.451369,
     "end_time": "2024-05-01T09:22:44.226483",
     "exception": false,
     "start_time": "2024-05-01T09:22:36.775114",
     "status": "completed"
    },
    "tags": []
   },
   "outputs": [],
   "source": [
    "# Import nessesary libraries\n",
    "import torch\n",
    "import os\n",
    "from torch.utils import data\n",
    "from torchvision import datasets, transforms\n",
    "import matplotlib.pyplot as plt\n",
    "import torch.nn as nn\n",
    "import torch.nn.functional as F\n",
    "import numpy as np\n",
    "from time import time\n",
    "from tqdm import tqdm\n",
    "from torch.optim import SGD, Adam\n",
    "from torch.optim import lr_scheduler"
   ]
  },
  {
   "cell_type": "code",
   "execution_count": 2,
   "id": "02bbc07c",
   "metadata": {
    "execution": {
     "iopub.execute_input": "2024-05-01T09:22:44.244786Z",
     "iopub.status.busy": "2024-05-01T09:22:44.244252Z",
     "iopub.status.idle": "2024-05-01T09:22:44.251293Z",
     "shell.execute_reply": "2024-05-01T09:22:44.250419Z"
    },
    "id": "1ddUOVzVhzSG",
    "papermill": {
     "duration": 0.018282,
     "end_time": "2024-05-01T09:22:44.253410",
     "exception": false,
     "start_time": "2024-05-01T09:22:44.235128",
     "status": "completed"
    },
    "tags": []
   },
   "outputs": [],
   "source": [
    "# Define transformations for training and test data\n",
    "train_transforms_for_custom = transforms.Compose([\n",
    "    transforms.RandomCrop(32, padding=4),\n",
    "    transforms.RandomHorizontalFlip(),\n",
    "    transforms.RandomAffine(12, shear=5, scale=(0.84, 1.14)),\n",
    "    transforms.RandomRotation(18),\n",
    "    transforms.ToTensor(),\n",
    "    transforms.Normalize((0.485, 0.456, 0.406), (0.229, 0.224, 0.225))  # Normalize the image with mean and standard deviation (as for pretrained model in next part)\n",
    "])\n",
    "\n",
    "test_transforms_for_custom = transforms.Compose([\n",
    "    transforms.ToTensor(),\n",
    "    transforms.Normalize((0.485, 0.456, 0.406), (0.229, 0.224, 0.225)) # Normalize the image with mean and standard deviation (as for pretrained model in next part)\n",
    "])"
   ]
  },
  {
   "cell_type": "code",
   "execution_count": 3,
   "id": "d2970d8a",
   "metadata": {
    "execution": {
     "iopub.execute_input": "2024-05-01T09:22:44.270620Z",
     "iopub.status.busy": "2024-05-01T09:22:44.270138Z",
     "iopub.status.idle": "2024-05-01T09:22:51.733000Z",
     "shell.execute_reply": "2024-05-01T09:22:51.732167Z"
    },
    "id": "SN7tJTAgiS3Q",
    "outputId": "49b09832-4e7c-452a-d9ac-a2edd80c3cd3",
    "papermill": {
     "duration": 7.474366,
     "end_time": "2024-05-01T09:22:51.735689",
     "exception": false,
     "start_time": "2024-05-01T09:22:44.261323",
     "status": "completed"
    },
    "tags": []
   },
   "outputs": [
    {
     "name": "stdout",
     "output_type": "stream",
     "text": [
      "Downloading https://www.cs.toronto.edu/~kriz/cifar-10-python.tar.gz to cifar10/cifar-10-python.tar.gz\n"
     ]
    },
    {
     "name": "stderr",
     "output_type": "stream",
     "text": [
      "100%|██████████| 170498071/170498071 [00:03<00:00, 46934502.65it/s]\n"
     ]
    },
    {
     "name": "stdout",
     "output_type": "stream",
     "text": [
      "Extracting cifar10/cifar-10-python.tar.gz to cifar10\n",
      "Files already downloaded and verified\n"
     ]
    }
   ],
   "source": [
    "batch_size = 128\n",
    "# Load CIFAR-10 datasets for both training and testing\n",
    "train_dataset_for_custom = datasets.CIFAR10(root='cifar10',\n",
    "                                 train=True,\n",
    "                                 transform=train_transforms_for_custom,\n",
    "                                 download=True)\n",
    "\n",
    "test_dataset_for_custom = datasets.CIFAR10(root='cifar10',\n",
    "                                train=False,\n",
    "                                transform=test_transforms_for_custom,\n",
    "                                download=True)\n",
    "\n",
    "# Create data loaders for training and testing datasets\n",
    "train_data_loader_for_custom = data.DataLoader(train_dataset_for_custom,\n",
    "                                    batch_size=batch_size,\n",
    "                                    shuffle=True,\n",
    "                                    drop_last=True)\n",
    "\n",
    "test_data_loader_for_custom = data.DataLoader(test_dataset_for_custom,\n",
    "                                   batch_size=batch_size,\n",
    "                                   shuffle=False)"
   ]
  },
  {
   "cell_type": "code",
   "execution_count": 4,
   "id": "0b871205",
   "metadata": {
    "execution": {
     "iopub.execute_input": "2024-05-01T09:22:51.762684Z",
     "iopub.status.busy": "2024-05-01T09:22:51.762398Z",
     "iopub.status.idle": "2024-05-01T09:22:51.843847Z",
     "shell.execute_reply": "2024-05-01T09:22:51.842796Z"
    },
    "id": "a50f98eb",
    "outputId": "a56a325e-73b5-4508-a46f-c2b98c94bef1",
    "papermill": {
     "duration": 0.09706,
     "end_time": "2024-05-01T09:22:51.846382",
     "exception": false,
     "start_time": "2024-05-01T09:22:51.749322",
     "status": "completed"
    },
    "tags": []
   },
   "outputs": [
    {
     "name": "stdout",
     "output_type": "stream",
     "text": [
      "cuda\n"
     ]
    }
   ],
   "source": [
    "# Define device based on availability: CUDA, MPS, or CPU\n",
    "device = torch.device(\"cuda\" if torch.cuda.is_available() else \"mps\" if torch.backends.mps.is_available() else \"cpu\")\n",
    "print(device)"
   ]
  },
  {
   "cell_type": "code",
   "execution_count": 5,
   "id": "a9926c56",
   "metadata": {
    "execution": {
     "iopub.execute_input": "2024-05-01T09:22:51.871426Z",
     "iopub.status.busy": "2024-05-01T09:22:51.871104Z",
     "iopub.status.idle": "2024-05-01T09:22:52.790755Z",
     "shell.execute_reply": "2024-05-01T09:22:52.789865Z"
    },
    "id": "jT69HBQiiW-V",
    "outputId": "de9465ed-0496-4c29-97e6-e6b33e2e36e3",
    "papermill": {
     "duration": 0.935007,
     "end_time": "2024-05-01T09:22:52.793576",
     "exception": false,
     "start_time": "2024-05-01T09:22:51.858569",
     "status": "completed"
    },
    "tags": []
   },
   "outputs": [
    {
     "data": {
      "image/png": "[encoded data removed]",
      "text/plain": [
       "<Figure size 1000x500 with 10 Axes>"
      ]
     },
     "metadata": {},
     "output_type": "display_data"
    }
   ],
   "source": [
    "# Display 10 images with labels\n",
    "def show_images(images, labels, classes, nrows=2, ncols=5, figsize=(10, 5)):\n",
    "    fig, axes = plt.subplots(nrows, ncols, figsize=figsize)\n",
    "    fig.subplots_adjust(hspace=0.3, wspace=0.3)\n",
    "    for i, ax in enumerate(axes.flat):\n",
    "        image = images[i].permute(1, 2, 0)\n",
    "        image = (image - image.min()) / (image.max() - image.min())\n",
    "        ax.imshow(image)\n",
    "        ax.set_title(classes[labels[i]])\n",
    "        ax.axis('off')\n",
    "    plt.show()\n",
    "\n",
    "\n",
    "classes = ['plane', 'car', 'bird', 'cat', 'deer', 'dog', 'frog', 'horse', 'ship', 'truck']\n",
    "dataiter = iter(train_data_loader_for_custom)\n",
    "images, labels = next(dataiter)\n",
    "show_images(images[:10], labels[:10], classes)"
   ]
  },
  {
   "cell_type": "markdown",
   "id": "4592dca4",
   "metadata": {
    "id": "nH8Ovp-Sb06E",
    "papermill": {
     "duration": 0.012788,
     "end_time": "2024-05-01T09:22:52.819484",
     "exception": false,
     "start_time": "2024-05-01T09:22:52.806696",
     "status": "completed"
    },
    "tags": []
   },
   "source": [
    " Custom model for current task is an *updated version* of the model proposed in Lab10. The layer structure follows the proposed layout in Lab10:\n",
    "**Conv → Activation → MaxPool → BatchNormalization or Dense → Activation → BatchNormalization → Dropout**\n"
   ]
  },
  {
   "cell_type": "code",
   "execution_count": 6,
   "id": "c966a485",
   "metadata": {
    "execution": {
     "iopub.execute_input": "2024-05-01T09:22:52.846868Z",
     "iopub.status.busy": "2024-05-01T09:22:52.846041Z",
     "iopub.status.idle": "2024-05-01T09:22:53.059511Z",
     "shell.execute_reply": "2024-05-01T09:22:53.058501Z"
    },
    "id": "Gq9MMbBEjSW-",
    "outputId": "3ed34c44-fbac-4983-8e9e-445854088212",
    "papermill": {
     "duration": 0.23007,
     "end_time": "2024-05-01T09:22:53.061881",
     "exception": false,
     "start_time": "2024-05-01T09:22:52.831811",
     "status": "completed"
    },
    "tags": []
   },
   "outputs": [
    {
     "name": "stdout",
     "output_type": "stream",
     "text": [
      "CustomModel(\n",
      "  (conv1): Sequential(\n",
      "    (0): Conv2d(3, 16, kernel_size=(3, 3), stride=(1, 1), padding=(1, 1))\n",
      "    (1): ReLU()\n",
      "    (2): MaxPool2d(kernel_size=2, stride=2, padding=0, dilation=1, ceil_mode=False)\n",
      "    (3): BatchNorm2d(16, eps=1e-05, momentum=0.1, affine=True, track_running_stats=True)\n",
      "    (4): Dropout(p=0.1, inplace=False)\n",
      "  )\n",
      "  (conv2): Sequential(\n",
      "    (0): Conv2d(16, 32, kernel_size=(3, 3), stride=(1, 1), padding=(1, 1))\n",
      "    (1): ReLU()\n",
      "    (2): MaxPool2d(kernel_size=2, stride=2, padding=0, dilation=1, ceil_mode=False)\n",
      "    (3): BatchNorm2d(32, eps=1e-05, momentum=0.1, affine=True, track_running_stats=True)\n",
      "    (4): Dropout(p=0.15, inplace=False)\n",
      "  )\n",
      "  (conv3): Sequential(\n",
      "    (0): Conv2d(32, 64, kernel_size=(3, 3), stride=(1, 1), padding=(1, 1))\n",
      "    (1): ReLU()\n",
      "    (2): MaxPool2d(kernel_size=2, stride=2, padding=0, dilation=1, ceil_mode=False)\n",
      "    (3): BatchNorm2d(64, eps=1e-05, momentum=0.1, affine=True, track_running_stats=True)\n",
      "    (4): Dropout(p=0.2, inplace=False)\n",
      "  )\n",
      "  (conv4): Sequential(\n",
      "    (0): Conv2d(64, 128, kernel_size=(3, 3), stride=(1, 1), padding=(1, 1))\n",
      "    (1): ReLU()\n",
      "    (2): MaxPool2d(kernel_size=2, stride=2, padding=0, dilation=1, ceil_mode=False)\n",
      "    (3): BatchNorm2d(128, eps=1e-05, momentum=0.1, affine=True, track_running_stats=True)\n",
      "    (4): Dropout(p=0.25, inplace=False)\n",
      "  )\n",
      "  (fc1): Sequential(\n",
      "    (0): Linear(in_features=512, out_features=512, bias=True)\n",
      "    (1): ReLU()\n",
      "    (2): BatchNorm1d(512, eps=1e-05, momentum=0.1, affine=True, track_running_stats=True)\n",
      "    (3): Dropout(p=0.3, inplace=False)\n",
      "  )\n",
      "  (fc2): Sequential(\n",
      "    (0): Linear(in_features=512, out_features=256, bias=True)\n",
      "    (1): ReLU()\n",
      "    (2): BatchNorm1d(256, eps=1e-05, momentum=0.1, affine=True, track_running_stats=True)\n",
      "    (3): Dropout(p=0.4, inplace=False)\n",
      "  )\n",
      "  (fc3): Linear(in_features=256, out_features=10, bias=True)\n",
      ")\n"
     ]
    }
   ],
   "source": [
    "# Designing CNN model (Updated version of model from Lab10)\n",
    "class CustomModel(nn.Module):\n",
    "    def __init__(self):\n",
    "        super(CustomModel, self).__init__()\n",
    "\n",
    "        # Convolutional layers\n",
    "        self.conv1 = nn.Sequential(\n",
    "            nn.Conv2d(in_channels=3, out_channels=16, kernel_size=3, padding=1),\n",
    "            nn.ReLU(),\n",
    "            nn.MaxPool2d(kernel_size=2, stride=2),\n",
    "            nn.BatchNorm2d(num_features=16),\n",
    "            nn.Dropout(p=0.1)\n",
    "        )\n",
    "        self.conv2 = nn.Sequential(\n",
    "            nn.Conv2d(in_channels=16, out_channels=32, kernel_size=3, padding=1),\n",
    "            nn.ReLU(),\n",
    "            nn.MaxPool2d(kernel_size=2, stride=2),\n",
    "            nn.BatchNorm2d(num_features=32),\n",
    "            nn.Dropout(p=0.15)\n",
    "        )\n",
    "        self.conv3 = nn.Sequential(\n",
    "            nn.Conv2d(in_channels=32, out_channels=64, kernel_size=3, padding=1),\n",
    "            nn.ReLU(),\n",
    "            nn.MaxPool2d(kernel_size=2, stride=2),\n",
    "            nn.BatchNorm2d(num_features=64),\n",
    "            nn.Dropout(p=0.2)\n",
    "        )\n",
    "        self.conv4 = nn.Sequential(\n",
    "            nn.Conv2d(in_channels=64, out_channels=128, kernel_size=3, padding=1),\n",
    "            nn.ReLU(),\n",
    "            nn.MaxPool2d(kernel_size=2, stride=2),\n",
    "            nn.BatchNorm2d(num_features=128),\n",
    "            nn.Dropout(p=0.25)\n",
    "        )\n",
    "\n",
    "        # Fully connected layers\n",
    "        self.fc1 = nn.Sequential(\n",
    "            nn.Linear(in_features=128 * 2 * 2, out_features=512),\n",
    "            nn.ReLU(),\n",
    "            nn.BatchNorm1d(num_features=512),\n",
    "            nn.Dropout(p=0.3)\n",
    "        )\n",
    "        self.fc2 = nn.Sequential(\n",
    "            nn.Linear(in_features=512, out_features=256),\n",
    "            nn.ReLU(),\n",
    "            nn.BatchNorm1d(num_features=256),\n",
    "            nn.Dropout(p=0.4)\n",
    "        )\n",
    "        self.fc3 = nn.Linear(in_features=256, out_features=10)\n",
    "\n",
    "    def forward(self, x):\n",
    "        x = self.conv1(x)\n",
    "        x = self.conv2(x)\n",
    "        x = self.conv3(x)\n",
    "        x = self.conv4(x)\n",
    "        x = torch.flatten(x, 1)\n",
    "        x = self.fc1(x)\n",
    "        x = self.fc2(x)\n",
    "        x = self.fc3(x)\n",
    "        # Using log softmax activation for output probabilities as in Lab10\n",
    "        return F.log_softmax(x, dim=1)\n",
    "\n",
    "# Create an instance of the CustomModel and move it to the selected device\n",
    "custom_model = CustomModel().to(device)\n",
    "print(custom_model)"
   ]
  },
  {
   "cell_type": "code",
   "execution_count": 7,
   "id": "44c31171",
   "metadata": {
    "execution": {
     "iopub.execute_input": "2024-05-01T09:22:53.090096Z",
     "iopub.status.busy": "2024-05-01T09:22:53.089741Z",
     "iopub.status.idle": "2024-05-01T09:22:53.101278Z",
     "shell.execute_reply": "2024-05-01T09:22:53.100333Z"
    },
    "id": "8rUQE_hwjgAb",
    "papermill": {
     "duration": 0.027796,
     "end_time": "2024-05-01T09:22:53.103206",
     "exception": false,
     "start_time": "2024-05-01T09:22:53.075410",
     "status": "completed"
    },
    "tags": []
   },
   "outputs": [],
   "source": [
    "# Class from https://github.com/Bjarten/early-stopping-pytorch/blob/master/pytorchtools.py designed to implement early stopping functionality during training process\n",
    "class EarlyStopping:\n",
    "    \"\"\"Early stops the training if validation loss doesn't improve after a given patience.\"\"\"\n",
    "    def __init__(self, patience=7, verbose=False, delta=0, path='checkpoint.pt', trace_func=print):\n",
    "        \"\"\"\n",
    "        Args:\n",
    "            patience (int): How long to wait after last time validation loss improved.\n",
    "                            Default: 7\n",
    "            verbose (bool): If True, prints a message for each validation loss improvement.\n",
    "                            Default: False\n",
    "            delta (float): Minimum change in the monitored quantity to qualify as an improvement.\n",
    "                            Default: 0\n",
    "            path (str): Path for the checkpoint to be saved to.\n",
    "                            Default: 'checkpoint.pt'\n",
    "            trace_func (function): trace print function.\n",
    "                            Default: print\n",
    "        \"\"\"\n",
    "        self.patience = patience\n",
    "        self.verbose = verbose\n",
    "        self.counter = 0\n",
    "        self.best_score = None\n",
    "        self.early_stop = False\n",
    "        self.val_loss_min = np.Inf\n",
    "        self.delta = delta\n",
    "        self.path = path\n",
    "        self.trace_func = trace_func\n",
    "\n",
    "    def __call__(self, val_loss, model):\n",
    "        score = -val_loss\n",
    "        if self.best_score is None:\n",
    "            self.best_score = score\n",
    "            self.save_checkpoint(val_loss, model)\n",
    "        elif score < self.best_score + self.delta:\n",
    "            self.counter += 1\n",
    "            self.trace_func(f'EarlyStopping counter: {self.counter} out of {self.patience}')\n",
    "            if self.counter >= self.patience:\n",
    "                self.early_stop = True\n",
    "        else:\n",
    "            self.best_score = score\n",
    "            self.save_checkpoint(val_loss, model)\n",
    "            self.counter = 0\n",
    "        return self.early_stop\n",
    "\n",
    "    def save_checkpoint(self, val_loss, model):\n",
    "        '''Saves model when validation loss decrease.'''\n",
    "        if self.verbose:\n",
    "            self.trace_func(f'Validation loss decreased ({self.val_loss_min:.6f} --> {val_loss:.6f}).  Saving model ...')\n",
    "        torch.save(model.state_dict(), self.path)\n",
    "        self.val_loss_min = val_loss"
   ]
  },
  {
   "cell_type": "code",
   "execution_count": 8,
   "id": "b47abb58",
   "metadata": {
    "execution": {
     "iopub.execute_input": "2024-05-01T09:22:53.129898Z",
     "iopub.status.busy": "2024-05-01T09:22:53.129630Z",
     "iopub.status.idle": "2024-05-01T09:22:53.141592Z",
     "shell.execute_reply": "2024-05-01T09:22:53.140735Z"
    },
    "id": "fWfevShaj5by",
    "papermill": {
     "duration": 0.027734,
     "end_time": "2024-05-01T09:22:53.143555",
     "exception": false,
     "start_time": "2024-05-01T09:22:53.115821",
     "status": "completed"
    },
    "tags": []
   },
   "outputs": [],
   "source": [
    "# Updated functions from Lab 10 used for train and test\n",
    "def train(model, device, train_loader, criterion, optimizer, epoch):\n",
    "    model.train()\n",
    "    epoch_loss = 0\n",
    "    start_time = time()\n",
    "    correct = 0\n",
    "    total_samples = 0\n",
    "\n",
    "    bar = tqdm(train_loader)\n",
    "    for data, target in bar:\n",
    "        data, target = data.to(device), target.to(device)\n",
    "        optimizer.zero_grad()\n",
    "\n",
    "        output = model(data)\n",
    "        pred = output.argmax(dim=1, keepdim=True)\n",
    "        correct += pred.eq(target.view_as(pred)).sum().item()\n",
    "\n",
    "        loss = criterion(output, target)\n",
    "        loss.backward()\n",
    "        optimizer.step()\n",
    "\n",
    "        epoch_loss += loss.item() * data.size(0)\n",
    "        total_samples += data.size(0)\n",
    "        bar.set_postfix({\"Loss\": format(epoch_loss/total_samples, '.6f')})\n",
    "\n",
    "    acc = 100. * correct / len(train_loader.dataset)\n",
    "    epoch_loss = epoch_loss / total_samples\n",
    "    print(f'\\nTrain Epoch: {epoch}, elapsed time:{time()-start_time:.2f}s')\n",
    "    return epoch_loss, acc\n",
    "\n",
    "\n",
    "def test(model, device, test_loader, criterion):\n",
    "    model.eval()\n",
    "    test_loss = 0\n",
    "    correct = 0\n",
    "    total_samples = 0\n",
    "    with torch.no_grad():\n",
    "        for data, target in test_loader:\n",
    "            data, target = data.to(device), target.to(device)\n",
    "            output = model(data)\n",
    "            test_loss += criterion(output, target).item()  * data.size(0)\n",
    "            total_samples += data.size(0)\n",
    "            pred = output.argmax(dim=1, keepdim=True)\n",
    "            correct += pred.eq(target.view_as(pred)).sum().item()\n",
    "\n",
    "    acc = 100. * correct / len(test_loader.dataset)\n",
    "    test_loss = test_loss / total_samples\n",
    "    return test_loss, acc"
   ]
  },
  {
   "cell_type": "code",
   "execution_count": 9,
   "id": "3e358351",
   "metadata": {
    "execution": {
     "iopub.execute_input": "2024-05-01T09:22:53.169735Z",
     "iopub.status.busy": "2024-05-01T09:22:53.169464Z",
     "iopub.status.idle": "2024-05-01T09:22:53.177255Z",
     "shell.execute_reply": "2024-05-01T09:22:53.176350Z"
    },
    "id": "XWp2PAKfkXZt",
    "papermill": {
     "duration": 0.023467,
     "end_time": "2024-05-01T09:22:53.179403",
     "exception": false,
     "start_time": "2024-05-01T09:22:53.155936",
     "status": "completed"
    },
    "tags": []
   },
   "outputs": [],
   "source": [
    "# Updated function from Lab 10 used for training\n",
    "def training(model, train_data_loader, test_data_loader, epochs, criterion, optimizer, scheduler, early_stopping, device, save_path):\n",
    "    # Check if model already exists\n",
    "    if save_path and os.path.exists(save_path):\n",
    "        print(f\"File already exists at {save_path}. Model not trained, loaded from file.\")\n",
    "        model_state_dict = torch.load(save_path, map_location=device)\n",
    "        model.load_state_dict(model_state_dict)\n",
    "        return\n",
    "\n",
    "    for epoch in range(1, epochs + 1):\n",
    "        train_loss, train_acc = train(model, device, train_data_loader, criterion, optimizer, epoch)\n",
    "        # Update learning rate if needed\n",
    "        scheduler.step(train_loss)\n",
    "        test_loss, test_acc = test(model, device, test_data_loader, criterion)\n",
    "        # Terminate training if loss stopped to decrease\n",
    "        if early_stopping(test_loss, model):\n",
    "            print('\\nEarly stopping\\n')\n",
    "            break\n",
    "        print(f\"Training accuracy {train_acc}, test accuracy {test_acc}\")\n",
    "        print(f\"Training loss {train_loss}, test loss {test_loss}\\n\")"
   ]
  },
  {
   "cell_type": "code",
   "execution_count": 10,
   "id": "316dd107",
   "metadata": {
    "execution": {
     "iopub.execute_input": "2024-05-01T09:22:53.206203Z",
     "iopub.status.busy": "2024-05-01T09:22:53.205901Z",
     "iopub.status.idle": "2024-05-01T09:59:12.772694Z",
     "shell.execute_reply": "2024-05-01T09:59:12.771620Z"
    },
    "id": "670e8015",
    "outputId": "588cf1f9-6621-469f-892f-2929ebbea60b",
    "papermill": {
     "duration": 2179.582342,
     "end_time": "2024-05-01T09:59:12.774734",
     "exception": false,
     "start_time": "2024-05-01T09:22:53.192392",
     "status": "completed"
    },
    "tags": []
   },
   "outputs": [
    {
     "name": "stderr",
     "output_type": "stream",
     "text": [
      "100%|██████████| 390/390 [00:36<00:00, 10.61it/s, Loss=1.973278]\n"
     ]
    },
    {
     "name": "stdout",
     "output_type": "stream",
     "text": [
      "\n",
      "Train Epoch: 1, elapsed time:36.75s\n",
      "Training accuracy 32.106, test accuracy 45.16\n",
      "Training loss 1.9732782614536775, test loss 1.4785219110488892\n",
      "\n"
     ]
    },
    {
     "name": "stderr",
     "output_type": "stream",
     "text": [
      "100%|██████████| 390/390 [00:35<00:00, 10.84it/s, Loss=1.505835]\n"
     ]
    },
    {
     "name": "stdout",
     "output_type": "stream",
     "text": [
      "\n",
      "Train Epoch: 2, elapsed time:35.98s\n",
      "Training accuracy 44.526, test accuracy 52.21\n",
      "Training loss 1.5058348487585018, test loss 1.3073134462356568\n",
      "\n"
     ]
    },
    {
     "name": "stderr",
     "output_type": "stream",
     "text": [
      "100%|██████████| 390/390 [00:36<00:00, 10.57it/s, Loss=1.399336]\n"
     ]
    },
    {
     "name": "stdout",
     "output_type": "stream",
     "text": [
      "\n",
      "Train Epoch: 3, elapsed time:36.91s\n",
      "Training accuracy 48.984, test accuracy 58.05\n",
      "Training loss 1.39933634354518, test loss 1.1668880536079407\n",
      "\n"
     ]
    },
    {
     "name": "stderr",
     "output_type": "stream",
     "text": [
      "100%|██████████| 390/390 [00:37<00:00, 10.47it/s, Loss=1.326718]\n"
     ]
    },
    {
     "name": "stdout",
     "output_type": "stream",
     "text": [
      "\n",
      "Train Epoch: 4, elapsed time:37.25s\n",
      "EarlyStopping counter: 1 out of 5\n",
      "Training accuracy 52.206, test accuracy 57.96\n",
      "Training loss 1.3267176964344123, test loss 1.197142241859436\n",
      "\n"
     ]
    },
    {
     "name": "stderr",
     "output_type": "stream",
     "text": [
      "100%|██████████| 390/390 [00:36<00:00, 10.55it/s, Loss=1.277777]\n"
     ]
    },
    {
     "name": "stdout",
     "output_type": "stream",
     "text": [
      "\n",
      "Train Epoch: 5, elapsed time:36.98s\n",
      "Training accuracy 54.216, test accuracy 64.33\n",
      "Training loss 1.2777768654701038, test loss 1.0019659151077271\n",
      "\n"
     ]
    },
    {
     "name": "stderr",
     "output_type": "stream",
     "text": [
      "100%|██████████| 390/390 [00:36<00:00, 10.66it/s, Loss=1.237073]\n"
     ]
    },
    {
     "name": "stdout",
     "output_type": "stream",
     "text": [
      "\n",
      "Train Epoch: 6, elapsed time:36.59s\n",
      "Training accuracy 55.808, test accuracy 64.27\n",
      "Training loss 1.237072655176505, test loss 0.9932931248664856\n",
      "\n"
     ]
    },
    {
     "name": "stderr",
     "output_type": "stream",
     "text": [
      "100%|██████████| 390/390 [00:36<00:00, 10.56it/s, Loss=1.209738]\n"
     ]
    },
    {
     "name": "stdout",
     "output_type": "stream",
     "text": [
      "\n",
      "Train Epoch: 7, elapsed time:36.92s\n",
      "Training accuracy 56.93, test accuracy 65.45\n",
      "Training loss 1.2097379496464362, test loss 0.9700742327690125\n",
      "\n"
     ]
    },
    {
     "name": "stderr",
     "output_type": "stream",
     "text": [
      "100%|██████████| 390/390 [00:36<00:00, 10.58it/s, Loss=1.189276]\n"
     ]
    },
    {
     "name": "stdout",
     "output_type": "stream",
     "text": [
      "\n",
      "Train Epoch: 8, elapsed time:36.87s\n",
      "Training accuracy 57.686, test accuracy 67.22\n",
      "Training loss 1.1892758190631867, test loss 0.9381240077972413\n",
      "\n"
     ]
    },
    {
     "name": "stderr",
     "output_type": "stream",
     "text": [
      "100%|██████████| 390/390 [00:35<00:00, 10.86it/s, Loss=1.167425]\n"
     ]
    },
    {
     "name": "stdout",
     "output_type": "stream",
     "text": [
      "\n",
      "Train Epoch: 9, elapsed time:35.90s\n",
      "Training accuracy 58.724, test accuracy 68.18\n",
      "Training loss 1.1674254626799851, test loss 0.901667908859253\n",
      "\n"
     ]
    },
    {
     "name": "stderr",
     "output_type": "stream",
     "text": [
      "100%|██████████| 390/390 [00:34<00:00, 11.19it/s, Loss=1.147706]\n"
     ]
    },
    {
     "name": "stdout",
     "output_type": "stream",
     "text": [
      "\n",
      "Train Epoch: 10, elapsed time:34.85s\n",
      "EarlyStopping counter: 1 out of 5\n",
      "Training accuracy 59.22, test accuracy 67.35\n",
      "Training loss 1.1477063522889064, test loss 0.911603758239746\n",
      "\n"
     ]
    },
    {
     "name": "stderr",
     "output_type": "stream",
     "text": [
      "100%|██████████| 390/390 [00:34<00:00, 11.39it/s, Loss=1.131957]\n"
     ]
    },
    {
     "name": "stdout",
     "output_type": "stream",
     "text": [
      "\n",
      "Train Epoch: 11, elapsed time:34.25s\n",
      "Training accuracy 59.954, test accuracy 69.7\n",
      "Training loss 1.131957146143302, test loss 0.8550592754364014\n",
      "\n"
     ]
    },
    {
     "name": "stderr",
     "output_type": "stream",
     "text": [
      "100%|██████████| 390/390 [00:34<00:00, 11.32it/s, Loss=1.118194]\n"
     ]
    },
    {
     "name": "stdout",
     "output_type": "stream",
     "text": [
      "\n",
      "Train Epoch: 12, elapsed time:34.44s\n",
      "EarlyStopping counter: 1 out of 5\n",
      "Training accuracy 60.434, test accuracy 69.49\n",
      "Training loss 1.1181941891327882, test loss 0.8604825777053833\n",
      "\n"
     ]
    },
    {
     "name": "stderr",
     "output_type": "stream",
     "text": [
      "100%|██████████| 390/390 [00:34<00:00, 11.18it/s, Loss=1.099650]\n"
     ]
    },
    {
     "name": "stdout",
     "output_type": "stream",
     "text": [
      "\n",
      "Train Epoch: 13, elapsed time:34.90s\n",
      "Training accuracy 61.166, test accuracy 70.95\n",
      "Training loss 1.0996502737204235, test loss 0.8241155791282654\n",
      "\n"
     ]
    },
    {
     "name": "stderr",
     "output_type": "stream",
     "text": [
      "100%|██████████| 390/390 [00:34<00:00, 11.22it/s, Loss=1.091065]\n"
     ]
    },
    {
     "name": "stdout",
     "output_type": "stream",
     "text": [
      "\n",
      "Train Epoch: 14, elapsed time:34.76s\n",
      "Training accuracy 61.256, test accuracy 71.77\n",
      "Training loss 1.0910652400591434, test loss 0.8059086391448974\n",
      "\n"
     ]
    },
    {
     "name": "stderr",
     "output_type": "stream",
     "text": [
      "100%|██████████| 390/390 [00:34<00:00, 11.33it/s, Loss=1.075542]\n"
     ]
    },
    {
     "name": "stdout",
     "output_type": "stream",
     "text": [
      "\n",
      "Train Epoch: 15, elapsed time:34.44s\n",
      "EarlyStopping counter: 1 out of 5\n",
      "Training accuracy 62.122, test accuracy 70.69\n",
      "Training loss 1.075541523633859, test loss 0.8200918906211853\n",
      "\n"
     ]
    },
    {
     "name": "stderr",
     "output_type": "stream",
     "text": [
      "100%|██████████| 390/390 [00:34<00:00, 11.37it/s, Loss=1.066104]\n"
     ]
    },
    {
     "name": "stdout",
     "output_type": "stream",
     "text": [
      "\n",
      "Train Epoch: 16, elapsed time:34.29s\n",
      "Training accuracy 62.386, test accuracy 71.71\n",
      "Training loss 1.0661037324330747, test loss 0.7958746930122376\n",
      "\n"
     ]
    },
    {
     "name": "stderr",
     "output_type": "stream",
     "text": [
      "100%|██████████| 390/390 [00:34<00:00, 11.36it/s, Loss=1.055765]\n"
     ]
    },
    {
     "name": "stdout",
     "output_type": "stream",
     "text": [
      "\n",
      "Train Epoch: 17, elapsed time:34.32s\n",
      "EarlyStopping counter: 1 out of 5\n",
      "Training accuracy 62.74, test accuracy 70.64\n",
      "Training loss 1.0557650190133314, test loss 0.8171941089630127\n",
      "\n"
     ]
    },
    {
     "name": "stderr",
     "output_type": "stream",
     "text": [
      "100%|██████████| 390/390 [00:34<00:00, 11.28it/s, Loss=1.044425]\n"
     ]
    },
    {
     "name": "stdout",
     "output_type": "stream",
     "text": [
      "\n",
      "Train Epoch: 18, elapsed time:34.57s\n",
      "Training accuracy 63.168, test accuracy 72.24\n",
      "Training loss 1.0444253382010338, test loss 0.7885958081245422\n",
      "\n"
     ]
    },
    {
     "name": "stderr",
     "output_type": "stream",
     "text": [
      "100%|██████████| 390/390 [00:34<00:00, 11.19it/s, Loss=1.036000]\n"
     ]
    },
    {
     "name": "stdout",
     "output_type": "stream",
     "text": [
      "\n",
      "Train Epoch: 19, elapsed time:34.86s\n",
      "Training accuracy 63.442, test accuracy 73.23\n",
      "Training loss 1.0360001736726516, test loss 0.7596048027038574\n",
      "\n"
     ]
    },
    {
     "name": "stderr",
     "output_type": "stream",
     "text": [
      "100%|██████████| 390/390 [00:34<00:00, 11.22it/s, Loss=1.032516]\n"
     ]
    },
    {
     "name": "stdout",
     "output_type": "stream",
     "text": [
      "\n",
      "Train Epoch: 20, elapsed time:34.76s\n",
      "EarlyStopping counter: 1 out of 5\n",
      "Training accuracy 63.686, test accuracy 72.22\n",
      "Training loss 1.0325164414369143, test loss 0.7809243935585022\n",
      "\n"
     ]
    },
    {
     "name": "stderr",
     "output_type": "stream",
     "text": [
      "100%|██████████| 390/390 [00:34<00:00, 11.28it/s, Loss=1.027015]\n"
     ]
    },
    {
     "name": "stdout",
     "output_type": "stream",
     "text": [
      "\n",
      "Train Epoch: 21, elapsed time:34.58s\n",
      "Training accuracy 63.692, test accuracy 73.38\n",
      "Training loss 1.027015180618335, test loss 0.7549391597747803\n",
      "\n"
     ]
    },
    {
     "name": "stderr",
     "output_type": "stream",
     "text": [
      "100%|██████████| 390/390 [00:34<00:00, 11.36it/s, Loss=1.016618]\n"
     ]
    },
    {
     "name": "stdout",
     "output_type": "stream",
     "text": [
      "\n",
      "Train Epoch: 22, elapsed time:34.34s\n",
      "Training accuracy 64.154, test accuracy 73.55\n",
      "Training loss 1.0166184853284788, test loss 0.7531828640937805\n",
      "\n"
     ]
    },
    {
     "name": "stderr",
     "output_type": "stream",
     "text": [
      "100%|██████████| 390/390 [00:34<00:00, 11.22it/s, Loss=1.011647]\n"
     ]
    },
    {
     "name": "stdout",
     "output_type": "stream",
     "text": [
      "\n",
      "Train Epoch: 23, elapsed time:34.76s\n",
      "Training accuracy 64.492, test accuracy 74.25\n",
      "Training loss 1.011646786561379, test loss 0.7321012458801269\n",
      "\n"
     ]
    },
    {
     "name": "stderr",
     "output_type": "stream",
     "text": [
      "100%|██████████| 390/390 [00:34<00:00, 11.31it/s, Loss=1.005379]\n"
     ]
    },
    {
     "name": "stdout",
     "output_type": "stream",
     "text": [
      "\n",
      "Train Epoch: 24, elapsed time:34.50s\n",
      "EarlyStopping counter: 1 out of 5\n",
      "Training accuracy 64.45, test accuracy 73.54\n",
      "Training loss 1.0053790246829009, test loss 0.7416124922752381\n",
      "\n"
     ]
    },
    {
     "name": "stderr",
     "output_type": "stream",
     "text": [
      "100%|██████████| 390/390 [00:34<00:00, 11.32it/s, Loss=0.991348]\n"
     ]
    },
    {
     "name": "stdout",
     "output_type": "stream",
     "text": [
      "\n",
      "Train Epoch: 25, elapsed time:34.45s\n",
      "EarlyStopping counter: 2 out of 5\n",
      "Training accuracy 64.992, test accuracy 72.78\n",
      "Training loss 0.9913483038926736, test loss 0.7790105856895447\n",
      "\n"
     ]
    },
    {
     "name": "stderr",
     "output_type": "stream",
     "text": [
      "100%|██████████| 390/390 [00:34<00:00, 11.26it/s, Loss=0.994047]\n"
     ]
    },
    {
     "name": "stdout",
     "output_type": "stream",
     "text": [
      "\n",
      "Train Epoch: 26, elapsed time:34.64s\n",
      "Training accuracy 65.186, test accuracy 74.49\n",
      "Training loss 0.9940465149206993, test loss 0.7144691747665405\n",
      "\n"
     ]
    },
    {
     "name": "stderr",
     "output_type": "stream",
     "text": [
      "100%|██████████| 390/390 [00:35<00:00, 11.09it/s, Loss=0.983977]\n"
     ]
    },
    {
     "name": "stdout",
     "output_type": "stream",
     "text": [
      "\n",
      "Train Epoch: 27, elapsed time:35.18s\n",
      "EarlyStopping counter: 1 out of 5\n",
      "Training accuracy 65.316, test accuracy 74.59\n",
      "Training loss 0.9839773054306323, test loss 0.7173128128051758\n",
      "\n"
     ]
    },
    {
     "name": "stderr",
     "output_type": "stream",
     "text": [
      "100%|██████████| 390/390 [00:35<00:00, 11.14it/s, Loss=0.980362]\n"
     ]
    },
    {
     "name": "stdout",
     "output_type": "stream",
     "text": [
      "\n",
      "Train Epoch: 28, elapsed time:35.03s\n",
      "Training accuracy 65.662, test accuracy 75.16\n",
      "Training loss 0.9803618009273822, test loss 0.7086989820480347\n",
      "\n"
     ]
    },
    {
     "name": "stderr",
     "output_type": "stream",
     "text": [
      "100%|██████████| 390/390 [00:35<00:00, 11.12it/s, Loss=0.977831]\n"
     ]
    },
    {
     "name": "stdout",
     "output_type": "stream",
     "text": [
      "\n",
      "Train Epoch: 29, elapsed time:35.07s\n",
      "EarlyStopping counter: 1 out of 5\n",
      "Training accuracy 65.548, test accuracy 73.8\n",
      "Training loss 0.9778312757993356, test loss 0.7227455888748169\n",
      "\n"
     ]
    },
    {
     "name": "stderr",
     "output_type": "stream",
     "text": [
      "100%|██████████| 390/390 [00:34<00:00, 11.14it/s, Loss=0.972180]\n"
     ]
    },
    {
     "name": "stdout",
     "output_type": "stream",
     "text": [
      "\n",
      "Train Epoch: 30, elapsed time:35.00s\n",
      "EarlyStopping counter: 2 out of 5\n",
      "Training accuracy 65.864, test accuracy 73.57\n",
      "Training loss 0.972180340381769, test loss 0.7354576494693756\n",
      "\n"
     ]
    },
    {
     "name": "stderr",
     "output_type": "stream",
     "text": [
      "100%|██████████| 390/390 [00:34<00:00, 11.18it/s, Loss=0.970412]\n"
     ]
    },
    {
     "name": "stdout",
     "output_type": "stream",
     "text": [
      "\n",
      "Train Epoch: 31, elapsed time:34.90s\n",
      "Training accuracy 65.988, test accuracy 75.13\n",
      "Training loss 0.970412432994598, test loss 0.7045288317680359\n",
      "\n"
     ]
    },
    {
     "name": "stderr",
     "output_type": "stream",
     "text": [
      "100%|██████████| 390/390 [00:34<00:00, 11.21it/s, Loss=0.965792]\n"
     ]
    },
    {
     "name": "stdout",
     "output_type": "stream",
     "text": [
      "\n",
      "Train Epoch: 32, elapsed time:34.80s\n",
      "EarlyStopping counter: 1 out of 5\n",
      "Training accuracy 65.976, test accuracy 75.48\n",
      "Training loss 0.9657922915923289, test loss 0.7113640734672546\n",
      "\n"
     ]
    },
    {
     "name": "stderr",
     "output_type": "stream",
     "text": [
      "100%|██████████| 390/390 [00:34<00:00, 11.25it/s, Loss=0.958579]\n"
     ]
    },
    {
     "name": "stdout",
     "output_type": "stream",
     "text": [
      "\n",
      "Train Epoch: 33, elapsed time:34.66s\n",
      "Training accuracy 66.112, test accuracy 75.11\n",
      "Training loss 0.958579224959398, test loss 0.6979238953590393\n",
      "\n"
     ]
    },
    {
     "name": "stderr",
     "output_type": "stream",
     "text": [
      "100%|██████████| 390/390 [00:34<00:00, 11.32it/s, Loss=0.954262]\n"
     ]
    },
    {
     "name": "stdout",
     "output_type": "stream",
     "text": [
      "\n",
      "Train Epoch: 34, elapsed time:34.47s\n",
      "Training accuracy 66.546, test accuracy 76.48\n",
      "Training loss 0.9542619239061306, test loss 0.6662173608779908\n",
      "\n"
     ]
    },
    {
     "name": "stderr",
     "output_type": "stream",
     "text": [
      "100%|██████████| 390/390 [00:34<00:00, 11.25it/s, Loss=0.956813]\n"
     ]
    },
    {
     "name": "stdout",
     "output_type": "stream",
     "text": [
      "\n",
      "Train Epoch: 35, elapsed time:34.68s\n",
      "EarlyStopping counter: 1 out of 5\n",
      "Training accuracy 66.334, test accuracy 75.07\n",
      "Training loss 0.9568129192560147, test loss 0.7036393304347992\n",
      "\n"
     ]
    },
    {
     "name": "stderr",
     "output_type": "stream",
     "text": [
      "100%|██████████| 390/390 [00:34<00:00, 11.24it/s, Loss=0.943072]\n"
     ]
    },
    {
     "name": "stdout",
     "output_type": "stream",
     "text": [
      "\n",
      "Train Epoch: 36, elapsed time:34.69s\n",
      "EarlyStopping counter: 2 out of 5\n",
      "Training accuracy 66.932, test accuracy 75.75\n",
      "Training loss 0.9430723760372554, test loss 0.6838536403179168\n",
      "\n"
     ]
    },
    {
     "name": "stderr",
     "output_type": "stream",
     "text": [
      "100%|██████████| 390/390 [00:34<00:00, 11.23it/s, Loss=0.945754]\n"
     ]
    },
    {
     "name": "stdout",
     "output_type": "stream",
     "text": [
      "\n",
      "Train Epoch: 37, elapsed time:34.73s\n",
      "EarlyStopping counter: 3 out of 5\n",
      "Training accuracy 66.48, test accuracy 76.49\n",
      "Training loss 0.9457535826242887, test loss 0.6666791082859039\n",
      "\n"
     ]
    },
    {
     "name": "stderr",
     "output_type": "stream",
     "text": [
      "100%|██████████| 390/390 [00:34<00:00, 11.17it/s, Loss=0.945991]\n"
     ]
    },
    {
     "name": "stdout",
     "output_type": "stream",
     "text": [
      "\n",
      "Train Epoch: 38, elapsed time:34.91s\n",
      "Training accuracy 66.766, test accuracy 76.86\n",
      "Training loss 0.945990762190941, test loss 0.6588189487934113\n",
      "\n"
     ]
    },
    {
     "name": "stderr",
     "output_type": "stream",
     "text": [
      "100%|██████████| 390/390 [00:34<00:00, 11.23it/s, Loss=0.935972]\n"
     ]
    },
    {
     "name": "stdout",
     "output_type": "stream",
     "text": [
      "\n",
      "Train Epoch: 39, elapsed time:34.74s\n",
      "EarlyStopping counter: 1 out of 5\n",
      "Training accuracy 67.156, test accuracy 76.74\n",
      "Training loss 0.9359718790421119, test loss 0.6643675252437592\n",
      "\n"
     ]
    },
    {
     "name": "stderr",
     "output_type": "stream",
     "text": [
      "100%|██████████| 390/390 [00:34<00:00, 11.26it/s, Loss=0.932418]\n"
     ]
    },
    {
     "name": "stdout",
     "output_type": "stream",
     "text": [
      "\n",
      "Train Epoch: 40, elapsed time:34.65s\n",
      "Training accuracy 67.254, test accuracy 77.13\n",
      "Training loss 0.9324179400236179, test loss 0.6503111779212951\n",
      "\n"
     ]
    },
    {
     "name": "stderr",
     "output_type": "stream",
     "text": [
      "100%|██████████| 390/390 [00:34<00:00, 11.22it/s, Loss=0.936485]\n"
     ]
    },
    {
     "name": "stdout",
     "output_type": "stream",
     "text": [
      "\n",
      "Train Epoch: 41, elapsed time:34.76s\n",
      "EarlyStopping counter: 1 out of 5\n",
      "Training accuracy 67.156, test accuracy 76.35\n",
      "Training loss 0.9364845868868705, test loss 0.669560715675354\n",
      "\n"
     ]
    },
    {
     "name": "stderr",
     "output_type": "stream",
     "text": [
      "100%|██████████| 390/390 [00:34<00:00, 11.16it/s, Loss=0.926605]\n"
     ]
    },
    {
     "name": "stdout",
     "output_type": "stream",
     "text": [
      "\n",
      "Train Epoch: 42, elapsed time:34.96s\n",
      "Training accuracy 67.564, test accuracy 77.04\n",
      "Training loss 0.9266050668863149, test loss 0.6492212767601013\n",
      "\n"
     ]
    },
    {
     "name": "stderr",
     "output_type": "stream",
     "text": [
      "100%|██████████| 390/390 [00:34<00:00, 11.22it/s, Loss=0.927690]\n"
     ]
    },
    {
     "name": "stdout",
     "output_type": "stream",
     "text": [
      "\n",
      "Train Epoch: 43, elapsed time:34.77s\n",
      "Training accuracy 67.32, test accuracy 77.52\n",
      "Training loss 0.927689571869679, test loss 0.6433945807933807\n",
      "\n"
     ]
    },
    {
     "name": "stderr",
     "output_type": "stream",
     "text": [
      "100%|██████████| 390/390 [00:34<00:00, 11.20it/s, Loss=0.917627]\n"
     ]
    },
    {
     "name": "stdout",
     "output_type": "stream",
     "text": [
      "\n",
      "Train Epoch: 44, elapsed time:34.82s\n",
      "EarlyStopping counter: 1 out of 5\n",
      "Training accuracy 67.436, test accuracy 76.51\n",
      "Training loss 0.9176267607089801, test loss 0.6615228910923004\n",
      "\n"
     ]
    },
    {
     "name": "stderr",
     "output_type": "stream",
     "text": [
      "100%|██████████| 390/390 [00:34<00:00, 11.27it/s, Loss=0.921545]\n"
     ]
    },
    {
     "name": "stdout",
     "output_type": "stream",
     "text": [
      "\n",
      "Train Epoch: 45, elapsed time:34.60s\n",
      "EarlyStopping counter: 2 out of 5\n",
      "Training accuracy 67.442, test accuracy 76.69\n",
      "Training loss 0.921544631322225, test loss 0.6721334679603577\n",
      "\n"
     ]
    },
    {
     "name": "stderr",
     "output_type": "stream",
     "text": [
      "100%|██████████| 390/390 [00:34<00:00, 11.30it/s, Loss=0.915540]\n"
     ]
    },
    {
     "name": "stdout",
     "output_type": "stream",
     "text": [
      "\n",
      "Train Epoch: 46, elapsed time:34.52s\n",
      "Training accuracy 67.9, test accuracy 78.08\n",
      "Training loss 0.9155399684722607, test loss 0.635228082370758\n",
      "\n"
     ]
    },
    {
     "name": "stderr",
     "output_type": "stream",
     "text": [
      "100%|██████████| 390/390 [00:35<00:00, 11.08it/s, Loss=0.918325]\n"
     ]
    },
    {
     "name": "stdout",
     "output_type": "stream",
     "text": [
      "\n",
      "Train Epoch: 47, elapsed time:35.19s\n",
      "EarlyStopping counter: 1 out of 5\n",
      "Training accuracy 67.85, test accuracy 77.42\n",
      "Training loss 0.9183250219393999, test loss 0.6433691531181336\n",
      "\n"
     ]
    },
    {
     "name": "stderr",
     "output_type": "stream",
     "text": [
      "100%|██████████| 390/390 [00:34<00:00, 11.20it/s, Loss=0.915857]\n"
     ]
    },
    {
     "name": "stdout",
     "output_type": "stream",
     "text": [
      "\n",
      "Train Epoch: 48, elapsed time:34.82s\n",
      "EarlyStopping counter: 2 out of 5\n",
      "Training accuracy 67.848, test accuracy 76.82\n",
      "Training loss 0.9158571868370741, test loss 0.6583270173072815\n",
      "\n"
     ]
    },
    {
     "name": "stderr",
     "output_type": "stream",
     "text": [
      "100%|██████████| 390/390 [00:34<00:00, 11.41it/s, Loss=0.913349]\n"
     ]
    },
    {
     "name": "stdout",
     "output_type": "stream",
     "text": [
      "\n",
      "Train Epoch: 49, elapsed time:34.17s\n",
      "EarlyStopping counter: 3 out of 5\n",
      "Training accuracy 67.962, test accuracy 76.36\n",
      "Training loss 0.9133494647649618, test loss 0.6772525729656219\n",
      "\n"
     ]
    },
    {
     "name": "stderr",
     "output_type": "stream",
     "text": [
      "100%|██████████| 390/390 [00:34<00:00, 11.45it/s, Loss=0.907449]\n"
     ]
    },
    {
     "name": "stdout",
     "output_type": "stream",
     "text": [
      "\n",
      "Train Epoch: 50, elapsed time:34.06s\n",
      "EarlyStopping counter: 4 out of 5\n",
      "Training accuracy 68.488, test accuracy 76.75\n",
      "Training loss 0.9074485780336918, test loss 0.6496751041412353\n",
      "\n"
     ]
    },
    {
     "name": "stderr",
     "output_type": "stream",
     "text": [
      "100%|██████████| 390/390 [00:34<00:00, 11.42it/s, Loss=0.904746]\n"
     ]
    },
    {
     "name": "stdout",
     "output_type": "stream",
     "text": [
      "\n",
      "Train Epoch: 51, elapsed time:34.14s\n",
      "Training accuracy 68.172, test accuracy 78.59\n",
      "Training loss 0.904745780199002, test loss 0.6143406036376953\n",
      "\n"
     ]
    },
    {
     "name": "stderr",
     "output_type": "stream",
     "text": [
      "100%|██████████| 390/390 [00:34<00:00, 11.34it/s, Loss=0.904555]\n"
     ]
    },
    {
     "name": "stdout",
     "output_type": "stream",
     "text": [
      "\n",
      "Train Epoch: 52, elapsed time:34.39s\n",
      "EarlyStopping counter: 1 out of 5\n",
      "Training accuracy 68.29, test accuracy 78.45\n",
      "Training loss 0.904554559634282, test loss 0.6282441094875336\n",
      "\n"
     ]
    },
    {
     "name": "stderr",
     "output_type": "stream",
     "text": [
      "100%|██████████| 390/390 [00:34<00:00, 11.42it/s, Loss=0.902421]\n"
     ]
    },
    {
     "name": "stdout",
     "output_type": "stream",
     "text": [
      "\n",
      "Train Epoch: 53, elapsed time:34.17s\n",
      "Training accuracy 68.426, test accuracy 78.47\n",
      "Training loss 0.9024207032643832, test loss 0.612706809425354\n",
      "\n"
     ]
    },
    {
     "name": "stderr",
     "output_type": "stream",
     "text": [
      "100%|██████████| 390/390 [00:34<00:00, 11.43it/s, Loss=0.899909]\n"
     ]
    },
    {
     "name": "stdout",
     "output_type": "stream",
     "text": [
      "\n",
      "Train Epoch: 54, elapsed time:34.13s\n",
      "EarlyStopping counter: 1 out of 5\n",
      "Training accuracy 68.348, test accuracy 78.26\n",
      "Training loss 0.8999087900687487, test loss 0.6224197965621948\n",
      "\n"
     ]
    },
    {
     "name": "stderr",
     "output_type": "stream",
     "text": [
      "100%|██████████| 390/390 [00:33<00:00, 11.55it/s, Loss=0.899191]\n"
     ]
    },
    {
     "name": "stdout",
     "output_type": "stream",
     "text": [
      "\n",
      "Train Epoch: 55, elapsed time:33.76s\n",
      "EarlyStopping counter: 2 out of 5\n",
      "Training accuracy 68.438, test accuracy 78.28\n",
      "Training loss 0.8991907231318645, test loss 0.6203622197151184\n",
      "\n"
     ]
    },
    {
     "name": "stderr",
     "output_type": "stream",
     "text": [
      "100%|██████████| 390/390 [00:33<00:00, 11.51it/s, Loss=0.895483]\n"
     ]
    },
    {
     "name": "stdout",
     "output_type": "stream",
     "text": [
      "\n",
      "Train Epoch: 56, elapsed time:33.90s\n",
      "EarlyStopping counter: 3 out of 5\n",
      "Training accuracy 68.43, test accuracy 77.96\n",
      "Training loss 0.8954829781483381, test loss 0.6191749928474426\n",
      "\n"
     ]
    },
    {
     "name": "stderr",
     "output_type": "stream",
     "text": [
      "100%|██████████| 390/390 [00:34<00:00, 11.41it/s, Loss=0.895490]\n"
     ]
    },
    {
     "name": "stdout",
     "output_type": "stream",
     "text": [
      "\n",
      "Train Epoch: 57, elapsed time:34.17s\n",
      "EarlyStopping counter: 4 out of 5\n",
      "Training accuracy 68.66, test accuracy 78.02\n",
      "Training loss 0.8954899048193907, test loss 0.6206120646476746\n",
      "\n"
     ]
    },
    {
     "name": "stderr",
     "output_type": "stream",
     "text": [
      "100%|██████████| 390/390 [00:34<00:00, 11.44it/s, Loss=0.897677]\n"
     ]
    },
    {
     "name": "stdout",
     "output_type": "stream",
     "text": [
      "\n",
      "Train Epoch: 58, elapsed time:34.08s\n",
      "EarlyStopping counter: 5 out of 5\n",
      "\n",
      "Early stopping\n",
      "\n"
     ]
    }
   ],
   "source": [
    "# Defining parameters for training\n",
    "custom_model_path = \"custom_model.pt\"\n",
    "epochs = 100\n",
    "criterion = nn.CrossEntropyLoss()\n",
    "optimizer = SGD(custom_model.parameters(), lr=0.1, momentum=0.9)\n",
    "scheduler = lr_scheduler.ReduceLROnPlateau(optimizer, 'min', factor=0.3, patience=3, min_lr=0.001)\n",
    "early_stopping = EarlyStopping(patience=5, delta=0.001, path=custom_model_path)\n",
    "\n",
    "# Training model\n",
    "training(custom_model, train_data_loader_for_custom, test_data_loader_for_custom, epochs, criterion, optimizer, scheduler, early_stopping, device, custom_model_path)"
   ]
  },
  {
   "cell_type": "markdown",
   "id": "cf70ab1f",
   "metadata": {
    "id": "zQUUp4RnoK9P",
    "papermill": {
     "duration": 2.870345,
     "end_time": "2024-05-01T09:59:18.498657",
     "exception": false,
     "start_time": "2024-05-01T09:59:15.628312",
     "status": "completed"
    },
    "tags": []
   },
   "source": [
    "## Part 2\n"
   ]
  },
  {
   "cell_type": "code",
   "execution_count": 11,
   "id": "60f1a11b",
   "metadata": {
    "execution": {
     "iopub.execute_input": "2024-05-01T09:59:24.237260Z",
     "iopub.status.busy": "2024-05-01T09:59:24.236890Z",
     "iopub.status.idle": "2024-05-01T09:59:24.241184Z",
     "shell.execute_reply": "2024-05-01T09:59:24.240252Z"
    },
    "id": "BwZn4HxHoNF8",
    "papermill": {
     "duration": 2.8334,
     "end_time": "2024-05-01T09:59:24.243040",
     "exception": false,
     "start_time": "2024-05-01T09:59:21.409640",
     "status": "completed"
    },
    "tags": []
   },
   "outputs": [],
   "source": [
    "# Import nessesary libraries\n",
    "from torchvision.models import resnet50, ResNet50_Weights"
   ]
  },
  {
   "cell_type": "code",
   "execution_count": 12,
   "id": "5e3acc59",
   "metadata": {
    "execution": {
     "iopub.execute_input": "2024-05-01T09:59:30.009628Z",
     "iopub.status.busy": "2024-05-01T09:59:30.008805Z",
     "iopub.status.idle": "2024-05-01T09:59:30.016539Z",
     "shell.execute_reply": "2024-05-01T09:59:30.015682Z"
    },
    "id": "yaBHiX7aoaLt",
    "papermill": {
     "duration": 2.899815,
     "end_time": "2024-05-01T09:59:30.018639",
     "exception": false,
     "start_time": "2024-05-01T09:59:27.118824",
     "status": "completed"
    },
    "tags": []
   },
   "outputs": [],
   "source": [
    "# Define transformations for training and test data\n",
    "train_transforms_for_pretrained = transforms.Compose([\n",
    "    transforms.RandomCrop(32, padding=4),\n",
    "    transforms.RandomHorizontalFlip(),\n",
    "    transforms.RandomAffine(0, shear=4, scale=(0.9, 1.1)),\n",
    "    transforms.RandomRotation(15),\n",
    "    transforms.Resize((224, 224)),\n",
    "    transforms.ToTensor(),\n",
    "    transforms.Normalize((0.485, 0.456, 0.406), (0.229, 0.224, 0.225)) # Values taken from https://pytorch.org/vision/main/models/generated/torchvision.models.resnet50.html\n",
    "])\n",
    "\n",
    "test_transforms_for_pretrained = transforms.Compose([\n",
    "    transforms.Resize((224, 224)),\n",
    "    transforms.ToTensor(),\n",
    "    transforms.Normalize((0.485, 0.456, 0.406), (0.229, 0.224, 0.225)) # Values taken from https://pytorch.org/vision/main/models/generated/torchvision.models.resnet50.html\n",
    "])\n"
   ]
  },
  {
   "cell_type": "code",
   "execution_count": 13,
   "id": "dc7ee18e",
   "metadata": {
    "execution": {
     "iopub.execute_input": "2024-05-01T09:59:35.750400Z",
     "iopub.status.busy": "2024-05-01T09:59:35.749352Z",
     "iopub.status.idle": "2024-05-01T09:59:37.395120Z",
     "shell.execute_reply": "2024-05-01T09:59:37.394368Z"
    },
    "id": "bVmMgdItppF3",
    "outputId": "8e67f7ef-9809-4e9e-d6f9-a4ab99a2a463",
    "papermill": {
     "duration": 4.491093,
     "end_time": "2024-05-01T09:59:37.397613",
     "exception": false,
     "start_time": "2024-05-01T09:59:32.906520",
     "status": "completed"
    },
    "tags": []
   },
   "outputs": [
    {
     "name": "stdout",
     "output_type": "stream",
     "text": [
      "Files already downloaded and verified\n",
      "Files already downloaded and verified\n"
     ]
    }
   ],
   "source": [
    "batch_size = 128\n",
    "\n",
    "# Load CIFAR-10 datasets for both training and testing\n",
    "train_dataset_for_pretrained = datasets.CIFAR10(root='cifar10',\n",
    "                                 train=True,\n",
    "                                 transform=train_transforms_for_pretrained,\n",
    "                                 download=True)\n",
    "\n",
    "test_dataset_for_pretrained = datasets.CIFAR10(root='cifar10',\n",
    "                                train=False,\n",
    "                                transform=test_transforms_for_pretrained,\n",
    "                                download=True)\n",
    "\n",
    "# Create data loaders for training and testing datasets\n",
    "train_data_loader_for_pretrained = data.DataLoader(train_dataset_for_pretrained,\n",
    "                                    batch_size=batch_size,\n",
    "                                    shuffle=True,\n",
    "                                    drop_last=True)\n",
    "\n",
    "test_data_loader_for_pretrained = data.DataLoader(test_dataset_for_pretrained,\n",
    "                                   batch_size=batch_size,\n",
    "                                   shuffle=False)"
   ]
  },
  {
   "cell_type": "markdown",
   "id": "2d8925f7",
   "metadata": {
    "id": "o7hYczKqooob",
    "papermill": {
     "duration": 3.002795,
     "end_time": "2024-05-01T09:59:43.227150",
     "exception": false,
     "start_time": "2024-05-01T09:59:40.224355",
     "status": "completed"
    },
    "tags": []
   },
   "source": [
    "A model from the **PyTorch Vision library presented in the official documentation** ([PyTorch](https://pytorch.org/vision/stable/models.html)) was chosen."
   ]
  },
  {
   "cell_type": "code",
   "execution_count": 14,
   "id": "962dd367",
   "metadata": {
    "execution": {
     "iopub.execute_input": "2024-05-01T09:59:48.928430Z",
     "iopub.status.busy": "2024-05-01T09:59:48.927935Z",
     "iopub.status.idle": "2024-05-01T09:59:50.262115Z",
     "shell.execute_reply": "2024-05-01T09:59:50.261330Z"
    },
    "id": "g-VirF9IoMSI",
    "outputId": "b1e503ab-cbe2-453c-8b93-4a20460d528f",
    "papermill": {
     "duration": 4.186626,
     "end_time": "2024-05-01T09:59:50.264452",
     "exception": false,
     "start_time": "2024-05-01T09:59:46.077826",
     "status": "completed"
    },
    "tags": []
   },
   "outputs": [
    {
     "name": "stderr",
     "output_type": "stream",
     "text": [
      "Downloading: \"https://download.pytorch.org/models/resnet50-11ad3fa6.pth\" to /root/.cache/torch/hub/checkpoints/resnet50-11ad3fa6.pth\n",
      "100%|██████████| 97.8M/97.8M [00:00<00:00, 157MB/s]\n"
     ]
    }
   ],
   "source": [
    "# Load the pre-trained ResNet-50 model with pre-trained weights\n",
    "weights = ResNet50_Weights.IMAGENET1K_V2\n",
    "pretrained_model = resnet50(weights=weights)\n",
    "\n",
    "# Replace the fully connected layer with a new one that has 10 output classes\n",
    "num_features = pretrained_model.fc.in_features\n",
    "pretrained_model.fc = nn.Linear(num_features, 10)\n",
    "pretrained_model = pretrained_model.to(device)"
   ]
  },
  {
   "cell_type": "code",
   "execution_count": 15,
   "id": "1a3e510f",
   "metadata": {
    "execution": {
     "iopub.execute_input": "2024-05-01T09:59:55.950903Z",
     "iopub.status.busy": "2024-05-01T09:59:55.950228Z",
     "iopub.status.idle": "2024-05-01T09:59:55.957922Z",
     "shell.execute_reply": "2024-05-01T09:59:55.957033Z"
    },
    "id": "2-6UJRn5qMdZ",
    "papermill": {
     "duration": 2.850767,
     "end_time": "2024-05-01T09:59:55.959891",
     "exception": false,
     "start_time": "2024-05-01T09:59:53.109124",
     "status": "completed"
    },
    "tags": []
   },
   "outputs": [],
   "source": [
    "# Defining parameters for training\n",
    "epochs = 50\n",
    "pretrained_model_path = \"pretrained_model.pt\"\n",
    "criterion = nn.CrossEntropyLoss()\n",
    "optimizer = SGD(pretrained_model.parameters(), lr=0.1, momentum=0.9)\n",
    "scheduler = lr_scheduler.ReduceLROnPlateau(optimizer, 'min', factor=0.3, patience=2, min_lr=0.001)\n",
    "early_stopping = EarlyStopping(patience=3, delta=0.001, path=pretrained_model_path, verbose=True)"
   ]
  },
  {
   "cell_type": "code",
   "execution_count": 16,
   "id": "efceb919",
   "metadata": {
    "execution": {
     "iopub.execute_input": "2024-05-01T10:00:01.821340Z",
     "iopub.status.busy": "2024-05-01T10:00:01.820931Z",
     "iopub.status.idle": "2024-05-01T12:37:53.081439Z",
     "shell.execute_reply": "2024-05-01T12:37:53.080400Z"
    },
    "id": "dcEzm6cCqvv3",
    "outputId": "3a4edd65-25af-457e-e790-8e8260a6943d",
    "papermill": {
     "duration": 9478.170122,
     "end_time": "2024-05-01T12:37:57.016832",
     "exception": false,
     "start_time": "2024-05-01T09:59:58.846710",
     "status": "completed"
    },
    "tags": []
   },
   "outputs": [
    {
     "name": "stderr",
     "output_type": "stream",
     "text": [
      "100%|██████████| 390/390 [09:48<00:00,  1.51s/it, Loss=0.661055]\n"
     ]
    },
    {
     "name": "stdout",
     "output_type": "stream",
     "text": [
      "\n",
      "Train Epoch: 1, elapsed time:588.29s\n",
      "Validation loss decreased (inf --> 0.453509).  Saving model ...\n",
      "Training accuracy 76.948, test accuracy 85.19\n",
      "Training loss 0.6610549161831538, test loss 0.45350863065719604\n",
      "\n"
     ]
    },
    {
     "name": "stderr",
     "output_type": "stream",
     "text": [
      "100%|██████████| 390/390 [09:49<00:00,  1.51s/it, Loss=0.370844]\n"
     ]
    },
    {
     "name": "stdout",
     "output_type": "stream",
     "text": [
      "\n",
      "Train Epoch: 2, elapsed time:589.13s\n",
      "Validation loss decreased (0.453509 --> 0.276489).  Saving model ...\n",
      "Training accuracy 86.882, test accuracy 90.54\n",
      "Training loss 0.3708444599157725, test loss 0.2764887520313263\n",
      "\n"
     ]
    },
    {
     "name": "stderr",
     "output_type": "stream",
     "text": [
      "100%|██████████| 390/390 [09:48<00:00,  1.51s/it, Loss=0.290236]\n"
     ]
    },
    {
     "name": "stdout",
     "output_type": "stream",
     "text": [
      "\n",
      "Train Epoch: 3, elapsed time:588.82s\n",
      "Validation loss decreased (0.276489 --> 0.235781).  Saving model ...\n",
      "Training accuracy 89.722, test accuracy 92.02\n",
      "Training loss 0.29023628169909504, test loss 0.2357808901309967\n",
      "\n"
     ]
    },
    {
     "name": "stderr",
     "output_type": "stream",
     "text": [
      "100%|██████████| 390/390 [09:49<00:00,  1.51s/it, Loss=0.237675]\n"
     ]
    },
    {
     "name": "stdout",
     "output_type": "stream",
     "text": [
      "\n",
      "Train Epoch: 4, elapsed time:589.41s\n",
      "Validation loss decreased (0.235781 --> 0.234340).  Saving model ...\n",
      "Training accuracy 91.484, test accuracy 92.54\n",
      "Training loss 0.2376748816516155, test loss 0.23433982133865355\n",
      "\n"
     ]
    },
    {
     "name": "stderr",
     "output_type": "stream",
     "text": [
      "100%|██████████| 390/390 [09:49<00:00,  1.51s/it, Loss=0.206475]\n"
     ]
    },
    {
     "name": "stdout",
     "output_type": "stream",
     "text": [
      "\n",
      "Train Epoch: 5, elapsed time:589.51s\n",
      "EarlyStopping counter: 1 out of 3\n",
      "Training accuracy 92.746, test accuracy 92.05\n",
      "Training loss 0.20647475537963403, test loss 0.24862312312722207\n",
      "\n"
     ]
    },
    {
     "name": "stderr",
     "output_type": "stream",
     "text": [
      "100%|██████████| 390/390 [09:47<00:00,  1.51s/it, Loss=0.176767]\n"
     ]
    },
    {
     "name": "stdout",
     "output_type": "stream",
     "text": [
      "\n",
      "Train Epoch: 6, elapsed time:587.99s\n",
      "Validation loss decreased (0.234340 --> 0.202544).  Saving model ...\n",
      "Training accuracy 93.648, test accuracy 93.72\n",
      "Training loss 0.1767667441509473, test loss 0.20254365866184235\n",
      "\n"
     ]
    },
    {
     "name": "stderr",
     "output_type": "stream",
     "text": [
      "100%|██████████| 390/390 [09:48<00:00,  1.51s/it, Loss=0.156547]\n"
     ]
    },
    {
     "name": "stdout",
     "output_type": "stream",
     "text": [
      "\n",
      "Train Epoch: 7, elapsed time:588.50s\n",
      "EarlyStopping counter: 1 out of 3\n",
      "Training accuracy 94.458, test accuracy 90.86\n",
      "Training loss 0.15654659228256115, test loss 0.3095897892475128\n",
      "\n"
     ]
    },
    {
     "name": "stderr",
     "output_type": "stream",
     "text": [
      "100%|██████████| 390/390 [09:48<00:00,  1.51s/it, Loss=0.137321]\n"
     ]
    },
    {
     "name": "stdout",
     "output_type": "stream",
     "text": [
      "\n",
      "Train Epoch: 8, elapsed time:588.81s\n",
      "EarlyStopping counter: 2 out of 3\n",
      "Training accuracy 95.0, test accuracy 93.8\n",
      "Training loss 0.13732055159142384, test loss 0.20281679849624634\n",
      "\n"
     ]
    },
    {
     "name": "stderr",
     "output_type": "stream",
     "text": [
      "100%|██████████| 390/390 [09:48<00:00,  1.51s/it, Loss=0.128349]\n"
     ]
    },
    {
     "name": "stdout",
     "output_type": "stream",
     "text": [
      "\n",
      "Train Epoch: 9, elapsed time:588.55s\n",
      "Validation loss decreased (0.202544 --> 0.187852).  Saving model ...\n",
      "Training accuracy 95.298, test accuracy 94.2\n",
      "Training loss 0.12834867945848366, test loss 0.18785181107521057\n",
      "\n"
     ]
    },
    {
     "name": "stderr",
     "output_type": "stream",
     "text": [
      "100%|██████████| 390/390 [09:48<00:00,  1.51s/it, Loss=0.112715]\n"
     ]
    },
    {
     "name": "stdout",
     "output_type": "stream",
     "text": [
      "\n",
      "Train Epoch: 10, elapsed time:588.04s\n",
      "EarlyStopping counter: 1 out of 3\n",
      "Training accuracy 95.926, test accuracy 94.18\n",
      "Training loss 0.11271495073078534, test loss 0.19509586753845215\n",
      "\n"
     ]
    },
    {
     "name": "stderr",
     "output_type": "stream",
     "text": [
      "100%|██████████| 390/390 [09:48<00:00,  1.51s/it, Loss=0.103935]\n"
     ]
    },
    {
     "name": "stdout",
     "output_type": "stream",
     "text": [
      "\n",
      "Train Epoch: 11, elapsed time:588.54s\n",
      "EarlyStopping counter: 2 out of 3\n",
      "Training accuracy 96.042, test accuracy 93.65\n",
      "Training loss 0.10393539526237128, test loss 0.2225963897705078\n",
      "\n"
     ]
    },
    {
     "name": "stderr",
     "output_type": "stream",
     "text": [
      "100%|██████████| 390/390 [09:47<00:00,  1.51s/it, Loss=0.097109]\n"
     ]
    },
    {
     "name": "stdout",
     "output_type": "stream",
     "text": [
      "\n",
      "Train Epoch: 12, elapsed time:587.36s\n",
      "Validation loss decreased (0.187852 --> 0.182080).  Saving model ...\n",
      "Training accuracy 96.514, test accuracy 94.65\n",
      "Training loss 0.09710901462687896, test loss 0.18207985880374908\n",
      "\n"
     ]
    },
    {
     "name": "stderr",
     "output_type": "stream",
     "text": [
      "100%|██████████| 390/390 [09:48<00:00,  1.51s/it, Loss=0.086364]\n"
     ]
    },
    {
     "name": "stdout",
     "output_type": "stream",
     "text": [
      "\n",
      "Train Epoch: 13, elapsed time:588.61s\n",
      "EarlyStopping counter: 1 out of 3\n",
      "Training accuracy 96.822, test accuracy 94.46\n",
      "Training loss 0.08636444801321397, test loss 0.18708645663261414\n",
      "\n"
     ]
    },
    {
     "name": "stderr",
     "output_type": "stream",
     "text": [
      "100%|██████████| 390/390 [09:48<00:00,  1.51s/it, Loss=0.080375]\n"
     ]
    },
    {
     "name": "stdout",
     "output_type": "stream",
     "text": [
      "\n",
      "Train Epoch: 14, elapsed time:588.98s\n",
      "EarlyStopping counter: 2 out of 3\n",
      "Training accuracy 97.084, test accuracy 94.19\n",
      "Training loss 0.0803753073924245, test loss 0.20306019854545593\n",
      "\n"
     ]
    },
    {
     "name": "stderr",
     "output_type": "stream",
     "text": [
      "100%|██████████| 390/390 [09:47<00:00,  1.51s/it, Loss=0.070490]\n"
     ]
    },
    {
     "name": "stdout",
     "output_type": "stream",
     "text": [
      "\n",
      "Train Epoch: 15, elapsed time:587.74s\n",
      "EarlyStopping counter: 3 out of 3\n",
      "\n",
      "Early stopping\n",
      "\n"
     ]
    }
   ],
   "source": [
    "# Training modidied pretrained_model\n",
    "training(pretrained_model, train_data_loader_for_pretrained, test_data_loader_for_pretrained, epochs, criterion, optimizer, scheduler, early_stopping, device, save_path=pretrained_model_path)"
   ]
  },
  {
   "cell_type": "markdown",
   "id": "1d3c2749",
   "metadata": {
    "id": "SY92s4CklX7Q",
    "papermill": {
     "duration": 3.917328,
     "end_time": "2024-05-01T12:38:04.967939",
     "exception": false,
     "start_time": "2024-05-01T12:38:01.050611",
     "status": "completed"
    },
    "tags": []
   },
   "source": [
    "## Evaluation"
   ]
  },
  {
   "cell_type": "code",
   "execution_count": 17,
   "id": "dd301d79",
   "metadata": {
    "execution": {
     "iopub.execute_input": "2024-05-01T12:38:12.759246Z",
     "iopub.status.busy": "2024-05-01T12:38:12.758292Z",
     "iopub.status.idle": "2024-05-01T12:38:14.260065Z",
     "shell.execute_reply": "2024-05-01T12:38:14.259218Z"
    },
    "id": "5151e29b",
    "papermill": {
     "duration": 5.515731,
     "end_time": "2024-05-01T12:38:14.262567",
     "exception": false,
     "start_time": "2024-05-01T12:38:08.746836",
     "status": "completed"
    },
    "tags": []
   },
   "outputs": [],
   "source": [
    "# Import nessesary libraries\n",
    "from torch.utils.data import Dataset\n",
    "from PIL import Image\n",
    "from sklearn.metrics import accuracy_score, roc_auc_score\n",
    "import time"
   ]
  },
  {
   "cell_type": "code",
   "execution_count": 18,
   "id": "75b2b361",
   "metadata": {
    "execution": {
     "iopub.execute_input": "2024-05-01T12:38:22.208142Z",
     "iopub.status.busy": "2024-05-01T12:38:22.207311Z",
     "iopub.status.idle": "2024-05-01T12:38:22.522407Z",
     "shell.execute_reply": "2024-05-01T12:38:22.521288Z"
    },
    "id": "XiWVTIRssoGG",
    "papermill": {
     "duration": 4.292938,
     "end_time": "2024-05-01T12:38:22.525234",
     "exception": false,
     "start_time": "2024-05-01T12:38:18.232296",
     "status": "completed"
    },
    "tags": []
   },
   "outputs": [],
   "source": [
    "# Creating custom dataset ad loaders as here https://pytorch.org/tutorials/beginner/data_loading_tutorial.html\n",
    "class CustomDataset(Dataset):\n",
    "    def __init__(self, images, labels, transform=None):\n",
    "        self.images = images\n",
    "        self.labels = labels\n",
    "        self.transform = transform\n",
    "\n",
    "    def __len__(self):\n",
    "        return len(self.images)\n",
    "\n",
    "    def __getitem__(self, idx):\n",
    "        image = Image.fromarray(self.images[idx])\n",
    "        label = self.labels[idx]\n",
    "        if self.transform:\n",
    "            image = self.transform(image)\n",
    "        return image, label\n",
    "\n",
    "batch_size = 128\n",
    "test_images_path = '/kaggle/input/task-2/task_2_test_images.npy'\n",
    "test_labels_path = '/kaggle/input/task-2/task_2_test_labels.npy'\n",
    "\n",
    "np_images = np.load(test_images_path)\n",
    "np_labels = np.load(test_labels_path)\n",
    "\n",
    "test_dataset_for_custom = CustomDataset(np_images, np_labels, test_transforms_for_custom)\n",
    "test_dataset_for_pretrained = CustomDataset(np_images, np_labels, test_transforms_for_pretrained)\n",
    "\n",
    "test_loader_for_custom = torch.utils.data.DataLoader(test_dataset_for_custom, batch_size=batch_size, shuffle=False)\n",
    "test_loader_for_pretrained = torch.utils.data.DataLoader(test_dataset_for_pretrained, batch_size=batch_size, shuffle=False)"
   ]
  },
  {
   "cell_type": "code",
   "execution_count": 19,
   "id": "8d9b7590",
   "metadata": {
    "execution": {
     "iopub.execute_input": "2024-05-01T12:38:30.594080Z",
     "iopub.status.busy": "2024-05-01T12:38:30.593143Z",
     "iopub.status.idle": "2024-05-01T12:38:30.608271Z",
     "shell.execute_reply": "2024-05-01T12:38:30.607289Z"
    },
    "id": "92508c5f",
    "papermill": {
     "duration": 4.180302,
     "end_time": "2024-05-01T12:38:30.610811",
     "exception": false,
     "start_time": "2024-05-01T12:38:26.430509",
     "status": "completed"
    },
    "tags": []
   },
   "outputs": [],
   "source": [
    "# Fucntions to calculate metrics\n",
    "def get_model_size(model):\n",
    "    total_params = sum([param.numel() for param in model.parameters()])\n",
    "    return total_params\n",
    "\n",
    "def evaluate_model(model, data_loader):\n",
    "    model.eval()\n",
    "    device = next(model.parameters()).device\n",
    "\n",
    "    true_labels = []\n",
    "    predicted_labels = []\n",
    "    predicted_probs = []\n",
    "    start_time = time.time()\n",
    "    total_time = 0\n",
    "    len_images = 0\n",
    "\n",
    "    with torch.no_grad():\n",
    "        for images, labels in data_loader:\n",
    "            images, labels = images.to(device), labels.to(device)\n",
    "            len_images += images.size(0)\n",
    "\n",
    "            start_time = time.time()\n",
    "            outputs = model(images)\n",
    "            total_time += time.time() - start_time\n",
    "\n",
    "            probabilities = torch.nn.functional.softmax(outputs, dim=-1)\n",
    "            _, predictions = torch.max(probabilities, dim=1)\n",
    "\n",
    "            true_labels.extend(labels.cpu().numpy())\n",
    "            predicted_labels.extend(predictions.cpu().numpy())\n",
    "            predicted_probs.extend(probabilities.cpu().numpy())\n",
    "\n",
    "    inference_time = total_time * 1000 / len_images\n",
    "\n",
    "    accuracy = accuracy_score(true_labels, predicted_labels)\n",
    "    auc = roc_auc_score(true_labels, predicted_probs, multi_class=\"ovr\")\n",
    "    model_size = get_model_size(model)\n",
    "\n",
    "    result_dict = {\n",
    "        \"Accuracy\": accuracy,\n",
    "        \"ROC-AUC\": auc,\n",
    "        \"Inference_speed\": inference_time,\n",
    "        \"Model_size\": model_size\n",
    "    }\n",
    "\n",
    "    return result_dict"
   ]
  },
  {
   "cell_type": "code",
   "execution_count": 20,
   "id": "0f953fab",
   "metadata": {
    "execution": {
     "iopub.execute_input": "2024-05-01T12:38:38.354590Z",
     "iopub.status.busy": "2024-05-01T12:38:38.354253Z",
     "iopub.status.idle": "2024-05-01T12:39:23.291496Z",
     "shell.execute_reply": "2024-05-01T12:39:23.290489Z"
    },
    "id": "e3a6bebf",
    "outputId": "b39f7ef6-06e1-4ccb-e885-0fcec9f38e00",
    "papermill": {
     "duration": 52.713637,
     "end_time": "2024-05-01T12:39:27.291762",
     "exception": false,
     "start_time": "2024-05-01T12:38:34.578125",
     "status": "completed"
    },
    "tags": []
   },
   "outputs": [
    {
     "name": "stdout",
     "output_type": "stream",
     "text": [
      "{'Accuracy': 0.6567898754519887, 'ROC-AUC': 0.9440565784907422, 'Inference_speed': 0.012834850876816978, 'Model_size': 496010}\n",
      "{'Accuracy': 0.7646645239051828, 'ROC-AUC': 0.9666107088644926, 'Inference_speed': 0.06685873838541928, 'Model_size': 23528522}\n"
     ]
    }
   ],
   "source": [
    "print(evaluate_model(custom_model, test_loader_for_custom))\n",
    "print(evaluate_model(pretrained_model, test_loader_for_pretrained))"
   ]
  },
  {
   "cell_type": "markdown",
   "id": "bc83d091",
   "metadata": {
    "id": "5a45eb52",
    "papermill": {
     "duration": 4.004005,
     "end_time": "2024-05-01T12:39:35.269994",
     "exception": false,
     "start_time": "2024-05-01T12:39:31.265989",
     "status": "completed"
    },
    "tags": []
   },
   "source": [
    "### Performance (Accuracy and ROC-AUC)\n",
    "With a ROC-AUC score of 94.40% and a decent accuracy of around 65.67%, the custom model performs well. But with greater accuracy (76.46%) and ROC-AUC (96.66%), the transfer learning model performs better than it.\n",
    "\n",
    "### Model size\n",
    "The transfer learning model has 23,528,522 parameters, but the custom model has just 496,010 parameters. This is a substantial difference.\n",
    "\n",
    "### Inference speed\n",
    "The custom model processes a picture in around 0.0128 ms, demonstrating very good inference speed. By comparison, the inference speed of the transfer learning model is 0.0668 ms per picture, which is a notable slowdown.\n",
    "\n",
    "### Insights\n",
    "In terms of accuracy and ROC-AUC score, the transfer learning model performs better overall than the custom model.  Though the transfer learning model takes around 6 times longer to create predictions than the custom model, also its higher performance comes at a cost of much slower inference speed. Furthermore, the transfer learning model is almost 47 times bigger than the custom model, indicating a significant difference in model size. Because of this, even while the transfer learning model performs exceptionally well in prediction, its inference speed and model size may be limiting factors in particular usage scenarios with limited memory capacity and computational resources."
   ]
  }
 ],
 "metadata": {
  "accelerator": "GPU",
  "colab": {
   "gpuType": "T4",
   "provenance": []
  },
  "kaggle": {
   "accelerator": "nvidiaTeslaT4",
   "dataSources": [
    {
     "datasetId": 4916707,
     "sourceId": 8279343,
     "sourceType": "datasetVersion"
    }
   ],
   "isGpuEnabled": true,
   "isInternetEnabled": true,
   "language": "python",
   "sourceType": "notebook"
  },
  "kernelspec": {
   "display_name": "Python 3 (ipykernel)",
   "language": "python",
   "name": "python3"
  },
  "language_info": {
   "codemirror_mode": {
    "name": "ipython",
    "version": 3
   },
   "file_extension": ".py",
   "mimetype": "text/x-python",
   "name": "python",
   "nbconvert_exporter": "python",
   "pygments_lexer": "ipython3",
   "version": "3.10.13"
  },
  "papermill": {
   "default_parameters": {},
   "duration": 11827.513686,
   "end_time": "2024-05-01T12:39:41.212950",
   "environment_variables": {},
   "exception": null,
   "input_path": "__notebook__.ipynb",
   "output_path": "__notebook__.ipynb",
   "parameters": {},
   "start_time": "2024-05-01T09:22:33.699264",
   "version": "2.5.0"
  }
 },
 "nbformat": 4,
 "nbformat_minor": 5
}
